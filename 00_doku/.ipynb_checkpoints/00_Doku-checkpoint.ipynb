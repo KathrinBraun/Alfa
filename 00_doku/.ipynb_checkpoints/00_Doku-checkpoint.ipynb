{
 "cells": [
  {
   "attachments": {},
   "cell_type": "markdown",
   "id": "5e9490e2",
   "metadata": {},
   "source": [
    "# Ich bin eine Überschrift 1\n",
    "\n",
    "Hier wird nun ein ganz normaler Text geschrieben. Der kann jedoch auch *kursiv* oder **fett** unterlegt werden.\n",
    "\n",
    "## Nun bin ich eine Überschrift 2\n",
    "\n",
    "Hier schreiben wir eine Formel in den Text. Dazu verwenden wir den \"Satz des Pythogoras\": $a² + b² = c²$. Leichter ist dies mit Schokoladen vorzustellen:\n",
    "\n",
    "![pythagoras](ritter.jpg)\n",
    "\n",
    "\n",
    "Versuche auch ein Bild einzufügen mittels %%html Magic Befehl.\n",
    "\n",
    "### Nun bin ich eine Überschrift 3\n",
    "\n",
    "Um die Daten zu beschreiben, hilft es eine Tabelle zu verwenden:\n",
    "\n",
    "| Name | Bedeutung |\n",
    "|---|---|\n",
    "| a | Länge der ersten Kathete |\n",
    "| b | Länge der zweiten Kathete |\n",
    "| c | Länge der Hypotenuse |\n",
    "\n",
    "Versuche noch eine weitere Tabellendarstellung zu finden und darzustellen.\n",
    "\n",
    "Voraussetzung für die Anwendung des \"Satz des Pythagoras\" ist ein rechtwinkliges Dreieck mit den Seiten:\n",
    "\n",
    "* **a** ist eine Kathete\n",
    "* **b** ist auch eine Kathete und\n",
    "* **c** ist die Hypotenuse\n",
    "\n",
    "Indem die Höhe hinzugenommen wird, kann auch der Kathetensatz und Höhensatz angewendet werden:\n",
    "\n",
    "![incl_hoehe](incl_hoehe.png)\n",
    "\n",
    "#### Kathetensatz:\n",
    "\n",
    "$$a² = c \\cdot p$$\n",
    "<br>\n",
    "<br>\n",
    "$$b² = c \\cdot q$$\n",
    "<br>\n",
    "<br>\n",
    "\n",
    "#### Höhesatz:\n",
    "$$ h² = p \\cdot q$$\n",
    "\n",
    "\n",
    "Nochmal zurück zu kommen auf den Pythagoras: **Länge der Hypotenuse c** lässt sich berechnen durch:\n",
    "\n",
    "$$c = \\sqrt{a² + b²}$$\n",
    "\n",
    "\n",
    "\n",
    "\n",
    "\n",
    "\n"
   ]
  },
  {
   "cell_type": "markdown",
   "id": "c6dc63e2",
   "metadata": {},
   "source": []
  }
 ],
 "metadata": {
  "kernelspec": {
   "display_name": "Python 3",
   "language": "python",
   "name": "python3"
  },
  "language_info": {
   "codemirror_mode": {
    "name": "ipython",
    "version": 3
   },
   "file_extension": ".py",
   "mimetype": "text/x-python",
   "name": "python",
   "nbconvert_exporter": "python",
   "pygments_lexer": "ipython3",
   "version": "3.8.5"
  }
 },
 "nbformat": 4,
 "nbformat_minor": 5
}
