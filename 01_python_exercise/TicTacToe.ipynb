{
 "cells": [
  {
   "cell_type": "markdown",
   "metadata": {},
   "source": [
    "# TicTacToe Game"
   ]
  },
  {
   "cell_type": "markdown",
   "metadata": {},
   "source": [
    "<img src=\"https://www.pngkey.com/png/full/205-2056775_ios-tic-tac-toe-with-an-unbeatable-ai.png\">"
   ]
  },
  {
   "cell_type": "code",
   "execution_count": 125,
   "metadata": {},
   "outputs": [],
   "source": [
    "class game:\n",
    "    def __init__(self):\n",
    "        self.count = 0\n",
    "        self.board = [ [' ',' ',' '],[' ',' ',' '],[' ',' ',' ']]\n",
    "        self.active = True\n",
    "\n",
    "    def print_board(self):\n",
    "        print(\"+---------------+\")\n",
    "        print(\"|   | 0 | 1 | 2 |\")\n",
    "        print(\"+---------------+\")\n",
    "        for row in range(3):\n",
    "            print(f\"| {row} | {self.board[row][0]} | {self.board[row][1]} | {self.board[row][2]} |\")\n",
    "            print(\"+---------------+\")\n",
    "            \n",
    "    def player_1(self,x,y):\n",
    "        self.board[x][y] = 'X'\n",
    "        self.count += 1\n",
    "        if self.count > 3:\n",
    "            self.check_winner()\n",
    "        self.game_loop()\n",
    "\n",
    "    def player_2(self,x,y):\n",
    "        self.board[x][y] = 'O'\n",
    "        self.count += 1\n",
    "        if self.count > 3:\n",
    "            self.check_winner()\n",
    "        self.game_loop()\n",
    "                                \n",
    "                \n",
    "    def check_winner(self):\n",
    "        if self.board[0][0] == self.board[1][1] == self.board[2][2] == 'X' or \\\n",
    "            self.board[2][0] == self.board[1][1] == self.board[0][2] == 'X' or \\\n",
    "            self.board[0][0] == self.board[0][1] == self.board[0][2] == 'X' or \\\n",
    "            self.board[0][0] == self.board[1][0] == self.board[2][0] == 'X' or \\\n",
    "            self.board[1][0] == self.board[1][1] == self.board[1][2] == 'X' or \\\n",
    "            self.board[0][1] == self.board[1][1] == self.board[2][1] == 'X' or \\\n",
    "            self.board[2][0] == self.board[2][1] == self.board[2][2] == 'X' or \\\n",
    "            self.board[0][2] == self.board[1][2] == self.board[2][2] == 'X':\n",
    "                self.print_board()\n",
    "                print('Winner: Player X')\n",
    "                self.active = False\n",
    "\n",
    "        elif self.board[0][0] == self.board[1][1] == self.board[2][2] == 'O' or \\\n",
    "            self.board[2][0] == self.board[1][1] == self.board[0][2] == 'O' or \\\n",
    "            self.board[0][0] == self.board[0][1] == self.board[0][2] == 'O' or \\\n",
    "            self.board[0][0] == self.board[1][0] == self.board[2][0] == 'O' or \\\n",
    "            self.board[1][0] == self.board[1][1] == self.board[1][2] == 'O' or \\\n",
    "            self.board[0][1] == self.board[1][1] == self.board[2][1] == 'O' or \\\n",
    "            self.board[2][0] == self.board[2][1] == self.board[2][2] == 'O' or \\\n",
    "            self.board[0][2] == self.board[1][2] == self.board[2][2] == 'O':\n",
    "                self.print_board()\n",
    "                print('Winner: Player O')\n",
    "                self.active = False\n",
    "        elif self.count == 9:\n",
    "            self.print_board()\n",
    "            print('Unentschieden!')\n",
    "            self.active = False\n",
    "        else:\n",
    "            self.game_loop()\n",
    " \n",
    "    def game_loop(self):\n",
    "        while self.active:\n",
    "            self.print_board()\n",
    "            if self.count % 2 == 0:\n",
    "                try:\n",
    "                    x,y = input('Player One - Welche Koordinaten ?')\n",
    "                    x = int(x)\n",
    "                    y = int(y)\n",
    "                except:\n",
    "                    print('Bitte geben Sie eine Zahl ein')\n",
    "                    continue\n",
    "                if x < 0 or x > 2 or y < 0 or y > 2 or self.board[x][y] != ' ':\n",
    "                    print('Ungültiger Zug')\n",
    "                    continue\n",
    "                self.player_1(x,y)\n",
    "                break\n",
    "            else:\n",
    "                try:\n",
    "                    x,y = input('Player Two - Welche Koordinaten ?')\n",
    "                    x = int(x)\n",
    "                    y = int(y)\n",
    "                except:\n",
    "                    print('Bitte geben Sie eine Zahl ein')\n",
    "                    continue\n",
    "                if x < 0 or x > 2 or y < 0 or y > 2 or self.board[x][y] != ' ':\n",
    "                    print('Ungültiger Zug')\n",
    "                    continue\n",
    "                self.player_2(x,y)\n",
    "                break\n",
    "\n",
    "                            \n",
    "\n",
    "        "
   ]
  },
  {
   "cell_type": "code",
   "execution_count": 130,
   "metadata": {},
   "outputs": [],
   "source": [
    "tictactoe = game()"
   ]
  },
  {
   "cell_type": "code",
   "execution_count": null,
   "metadata": {},
   "outputs": [
    {
     "name": "stdout",
     "output_type": "stream",
     "text": [
      "+---------------+\n",
      "|   | 0 | 1 | 2 |\n",
      "+---------------+\n",
      "| 0 |   |   |   |\n",
      "+---------------+\n",
      "| 1 |   |   |   |\n",
      "+---------------+\n",
      "| 2 |   |   |   |\n",
      "+---------------+\n"
     ]
    },
    {
     "name": "stdin",
     "output_type": "stream",
     "text": [
      "Player One - Welche Koordinaten ? vierzwei\n"
     ]
    },
    {
     "name": "stdout",
     "output_type": "stream",
     "text": [
      "Bitte geben Sie eine Zahl ein\n",
      "+---------------+\n",
      "|   | 0 | 1 | 2 |\n",
      "+---------------+\n",
      "| 0 |   |   |   |\n",
      "+---------------+\n",
      "| 1 |   |   |   |\n",
      "+---------------+\n",
      "| 2 |   |   |   |\n",
      "+---------------+\n"
     ]
    }
   ],
   "source": [
    "tictactoe.game_loop()"
   ]
  },
  {
   "cell_type": "code",
   "execution_count": null,
   "metadata": {},
   "outputs": [],
   "source": []
  }
 ],
 "metadata": {
  "kernelspec": {
   "display_name": "Python 3",
   "language": "python",
   "name": "python3"
  },
  "language_info": {
   "codemirror_mode": {
    "name": "ipython",
    "version": 3
   },
   "file_extension": ".py",
   "mimetype": "text/x-python",
   "name": "python",
   "nbconvert_exporter": "python",
   "pygments_lexer": "ipython3",
   "version": "3.8.5"
  }
 },
 "nbformat": 4,
 "nbformat_minor": 4
}
