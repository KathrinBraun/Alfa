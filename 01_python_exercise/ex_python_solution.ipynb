{
 "cells": [
  {
   "cell_type": "markdown",
   "id": "5efc3d8d",
   "metadata": {},
   "source": [
    "# Exercise: Python\n",
    "\n",
    "## A. Listen\n",
    "\n",
    "Erstelle eine Liste mit den Einträgen: 1, 2, 3, 4, 5, 6 mit dem Namen first_list und zeige diese Liste an."
   ]
  },
  {
   "cell_type": "code",
   "execution_count": 29,
   "id": "1344ca46",
   "metadata": {},
   "outputs": [
    {
     "data": {
      "text/plain": [
       "[1, 2, 3, 4, 5, 6]"
      ]
     },
     "execution_count": 29,
     "metadata": {},
     "output_type": "execute_result"
    }
   ],
   "source": [
    "first_list = [1, 2, 3, 4, 5, 6]\n",
    "first_list"
   ]
  },
  {
   "cell_type": "markdown",
   "id": "f5ab520b",
   "metadata": {},
   "source": [
    "### append()\n",
    "\n",
    "Was macht diese Methode? Wende ein Beispiel an:"
   ]
  },
  {
   "cell_type": "code",
   "execution_count": 3,
   "id": "d529d9a0",
   "metadata": {},
   "outputs": [
    {
     "data": {
      "text/plain": [
       "[1, 2, 3, 4, 5, 6, 99]"
      ]
     },
     "execution_count": 3,
     "metadata": {},
     "output_type": "execute_result"
    }
   ],
   "source": [
    "# append: Append object to the end of the list.\n",
    "first_list.append(99)\n",
    "first_list"
   ]
  },
  {
   "cell_type": "markdown",
   "id": "c7fc101b",
   "metadata": {},
   "source": [
    "### copy()\n",
    "\n",
    "Was macht diese Methode? Wende ein Beispiel an:<br>\n",
    "Hinweis: Benenne diese neue Liste 'copy_list'."
   ]
  },
  {
   "cell_type": "code",
   "execution_count": 4,
   "id": "78e1b0f2",
   "metadata": {},
   "outputs": [
    {
     "data": {
      "text/plain": [
       "[1, 2, 3, 4, 5, 6, 99]"
      ]
     },
     "execution_count": 4,
     "metadata": {},
     "output_type": "execute_result"
    }
   ],
   "source": [
    "# copy: Return a shallow copy of the list.\n",
    "copy_list = first_list.copy()\n",
    "copy_list"
   ]
  },
  {
   "cell_type": "markdown",
   "id": "262d0afb",
   "metadata": {},
   "source": [
    "### clear()\n",
    "\n",
    "Was macht diese Methode? Wende ein Beispiel an: <br>\n",
    "Hinweis: Verwende die Liste 'copy_list'. Wie sieht diese Liste nach Durchführung der Methode aus?"
   ]
  },
  {
   "cell_type": "code",
   "execution_count": 5,
   "id": "82aa33c4",
   "metadata": {},
   "outputs": [
    {
     "data": {
      "text/plain": [
       "[]"
      ]
     },
     "execution_count": 5,
     "metadata": {},
     "output_type": "execute_result"
    }
   ],
   "source": [
    "# clear: Remove all items from a list\n",
    "copy_list.clear()\n",
    "copy_list"
   ]
  },
  {
   "cell_type": "markdown",
   "id": "8210df19",
   "metadata": {},
   "source": [
    "### count()\n",
    "\n",
    "Was macht diese Methode? Wende ein Beispiel an: <br>"
   ]
  },
  {
   "cell_type": "code",
   "execution_count": 6,
   "id": "b3cb43a3",
   "metadata": {},
   "outputs": [
    {
     "data": {
      "text/plain": [
       "1"
      ]
     },
     "execution_count": 6,
     "metadata": {},
     "output_type": "execute_result"
    }
   ],
   "source": [
    "#count: Return number of occurrences of value.\n",
    "first_list.count(99)"
   ]
  },
  {
   "cell_type": "markdown",
   "id": "22192ec1",
   "metadata": {},
   "source": [
    "### extend()\n",
    "\n",
    "Was macht diese Methode? Wende ein Beispiel an:<br>\n",
    "Hinweis: Erstelle zuerst eine weitere Liste second_list mit good, morning und ! "
   ]
  },
  {
   "cell_type": "code",
   "execution_count": 7,
   "id": "7e1af8d5",
   "metadata": {},
   "outputs": [
    {
     "data": {
      "text/plain": [
       "[1, 2, 3, 4, 5, 6, 99, 'good', 'morning', '!']"
      ]
     },
     "execution_count": 7,
     "metadata": {},
     "output_type": "execute_result"
    }
   ],
   "source": [
    "#extend: Extend list by appending elements from the iterable.\n",
    "second_list = ['good', 'morning', '!']\n",
    "first_list.extend(second_list)\n",
    "first_list"
   ]
  },
  {
   "cell_type": "markdown",
   "id": "330614c1",
   "metadata": {},
   "source": [
    "### index()\n",
    "\n",
    "Was macht diese Methode? Wende ein Beispiel an:"
   ]
  },
  {
   "cell_type": "code",
   "execution_count": 9,
   "id": "a716afd2",
   "metadata": {},
   "outputs": [
    {
     "data": {
      "text/plain": [
       "2"
      ]
     },
     "execution_count": 9,
     "metadata": {},
     "output_type": "execute_result"
    }
   ],
   "source": [
    "#index: Return first index of value.\n",
    "first_list.index(3)"
   ]
  },
  {
   "cell_type": "markdown",
   "id": "bcdcc64f",
   "metadata": {},
   "source": [
    "### insert()\n",
    "\n",
    "Was macht diese Methode? Wende ein Beispiel an: <br>\n",
    "Hinweis: Versuche 'yes' vor der Zahl 4 zu platzieren."
   ]
  },
  {
   "cell_type": "code",
   "execution_count": 11,
   "id": "46bddd03",
   "metadata": {},
   "outputs": [
    {
     "data": {
      "text/plain": [
       "[1, 2, 3, 'yes', 4, 5, 6, 99, 'good', 'morning', '!']"
      ]
     },
     "execution_count": 11,
     "metadata": {},
     "output_type": "execute_result"
    }
   ],
   "source": [
    "#insert: Insert object before index.\n",
    "first_list.insert(3, 'yes')\n",
    "first_list"
   ]
  },
  {
   "cell_type": "markdown",
   "id": "0444834e",
   "metadata": {},
   "source": [
    "### pop()\n",
    "\n",
    "Was macht diese Methode? Wende ein Beispiel an: <br>\n",
    "Wende zuerst mit dem Default an und dann versuche es mit dem Eintrag 'yes'"
   ]
  },
  {
   "cell_type": "code",
   "execution_count": 12,
   "id": "656915a8",
   "metadata": {},
   "outputs": [
    {
     "data": {
      "text/plain": [
       "[1, 2, 3, 'yes', 4, 5, 6, 99, 'good', 'morning']"
      ]
     },
     "execution_count": 12,
     "metadata": {},
     "output_type": "execute_result"
    }
   ],
   "source": [
    "# pop(self, index=-1, /): Remove and return item at index (default last).\n",
    "#                         Raises IndexError if list is empty or index is out of range.\n",
    "first_list.pop()\n",
    "first_list"
   ]
  },
  {
   "cell_type": "code",
   "execution_count": 13,
   "id": "e4a460e7",
   "metadata": {},
   "outputs": [
    {
     "data": {
      "text/plain": [
       "[1, 2, 3, 4, 5, 6, 99, 'good', 'morning']"
      ]
     },
     "execution_count": 13,
     "metadata": {},
     "output_type": "execute_result"
    }
   ],
   "source": [
    "first_list.pop(3)\n",
    "first_list"
   ]
  },
  {
   "cell_type": "markdown",
   "id": "17eda500",
   "metadata": {},
   "source": [
    "### remove()\n",
    "\n",
    "Was macht diese Methode? Wende ein Beispiel an: <br>\n",
    "Hinweis: Versuche es zuerst mit 99 und dann mit 42.  \n"
   ]
  },
  {
   "cell_type": "code",
   "execution_count": 14,
   "id": "987253e0",
   "metadata": {},
   "outputs": [
    {
     "data": {
      "text/plain": [
       "[1, 2, 3, 4, 5, 6, 'good', 'morning']"
      ]
     },
     "execution_count": 14,
     "metadata": {},
     "output_type": "execute_result"
    }
   ],
   "source": [
    "# remove: Remove first occurrence of value.\n",
    "#         Raises ValueError if the value is not present.\n",
    "first_list.remove(99)\n",
    "first_list"
   ]
  },
  {
   "cell_type": "code",
   "execution_count": 39,
   "id": "2db99e4d",
   "metadata": {},
   "outputs": [],
   "source": [
    "#first_list.remove(42)\n",
    "#first_list"
   ]
  },
  {
   "cell_type": "markdown",
   "id": "5051302d",
   "metadata": {},
   "source": [
    "### reverse()\n",
    "Was macht diese Methode? Wende ein Beispiel an:\n"
   ]
  },
  {
   "cell_type": "code",
   "execution_count": 33,
   "id": "326afdc6",
   "metadata": {},
   "outputs": [
    {
     "data": {
      "text/plain": [
       "[6, 5, 4, 3, 2, 1]"
      ]
     },
     "execution_count": 33,
     "metadata": {},
     "output_type": "execute_result"
    }
   ],
   "source": [
    "#reverse: Reverse *IN PLACE*.\n",
    "first_list.reverse()\n",
    "first_list"
   ]
  },
  {
   "cell_type": "code",
   "execution_count": 38,
   "id": "bc7dad0c",
   "metadata": {},
   "outputs": [],
   "source": [
    "# Be careful - this method changes the original but do not deliver a new object"
   ]
  },
  {
   "cell_type": "markdown",
   "id": "9fd88b25",
   "metadata": {},
   "source": [
    "### sort()\n",
    "\n",
    "Was macht diese Methode? Wende ein Beispiel an: <br>\n",
    "Hinweis: Wende die Methode aufsteigend und absteigend an! Probiere es zuerst mit der first_list und dann ggfs. mit einer eigen gewählten Liste."
   ]
  },
  {
   "cell_type": "code",
   "execution_count": 31,
   "id": "b1bc2b05",
   "metadata": {},
   "outputs": [
    {
     "data": {
      "text/plain": [
       "[1, 3, 3, 6, 8, 9]"
      ]
     },
     "execution_count": 31,
     "metadata": {},
     "output_type": "execute_result"
    }
   ],
   "source": [
    "# sort(self, /, *, key=None, reverse=False)\n",
    "#      Sort the list in ascending order and return None.\n",
    "#      \n",
    "#      The sort is in-place (i.e. the list itself is modified) and stable (i.e. the\n",
    "#      order of two equal elements is maintained).\n",
    "#      \n",
    "#      If a key function is given, apply it once to each list item and sort them,\n",
    "#      ascending or descending, according to their function values.\n",
    "#      \n",
    "#      The reverse flag can be set to sort in descending order.\n",
    "\n",
    "sort_list = [9, 3, 6, 1, 8, 3]\n",
    "sort_list.sort()\n",
    "sort_list"
   ]
  },
  {
   "cell_type": "code",
   "execution_count": 38,
   "id": "aaee4f2c",
   "metadata": {},
   "outputs": [
    {
     "data": {
      "text/plain": [
       "[9, 8, 6, 3, 3, 1]"
      ]
     },
     "execution_count": 38,
     "metadata": {},
     "output_type": "execute_result"
    }
   ],
   "source": [
    "sort_list.sort(reverse = True)\n",
    "sort_list"
   ]
  },
  {
   "cell_type": "markdown",
   "id": "5b4dd91d",
   "metadata": {},
   "source": [
    "# String\n",
    "\n",
    "Hier existieren über 40 Methoden. Es lohnt sich zu stöbern!\n",
    "\n",
    "Zur Vorbereitung wähle Worte mit Groß- und Kleinschreibung, Wörter mit und ohne Zahlen sowie Sätze mit Leerzeichen. Somit ist gewährleistet, dass die verschiedenen Methode getestet werden können."
   ]
  },
  {
   "cell_type": "code",
   "execution_count": 43,
   "id": "7852a764",
   "metadata": {},
   "outputs": [],
   "source": [
    "upper_str = 'HALLO'\n",
    "lower_str = 'hallo'\n",
    "mix_str = 'HaLlO'\n",
    "number_str = '12345'\n",
    "mix_number_str = '42_Ballons'\n",
    "sentence_str = 'Auf den Weg zum Geburtstag!'"
   ]
  },
  {
   "cell_type": "markdown",
   "id": "aee2f4bc",
   "metadata": {},
   "source": [
    "#### Wie kann man auf einzele Zeichen und Zeichenkette zugreifen?"
   ]
  },
  {
   "cell_type": "code",
   "execution_count": 46,
   "id": "49d4a33f",
   "metadata": {},
   "outputs": [
    {
     "data": {
      "text/plain": [
       "'L'"
      ]
     },
     "execution_count": 46,
     "metadata": {},
     "output_type": "execute_result"
    }
   ],
   "source": [
    "upper_str[3]"
   ]
  },
  {
   "cell_type": "code",
   "execution_count": 47,
   "id": "2492d5dc",
   "metadata": {},
   "outputs": [
    {
     "data": {
      "text/plain": [
       "'HAL'"
      ]
     },
     "execution_count": 47,
     "metadata": {},
     "output_type": "execute_result"
    }
   ],
   "source": [
    "upper_str[:3]"
   ]
  },
  {
   "cell_type": "code",
   "execution_count": 48,
   "id": "b839cfdf",
   "metadata": {},
   "outputs": [
    {
     "data": {
      "text/plain": [
       "'HLO'"
      ]
     },
     "execution_count": 48,
     "metadata": {},
     "output_type": "execute_result"
    }
   ],
   "source": [
    "upper_str[::2]"
   ]
  },
  {
   "cell_type": "markdown",
   "id": "805fa261",
   "metadata": {},
   "source": [
    "### format()"
   ]
  },
  {
   "cell_type": "markdown",
   "id": "d913d38f",
   "metadata": {},
   "source": [
    "Versuche ein wenig intensiver die Methode format() zu durchforsten. Diese ist insbesondere auch hilfreich, Ergebnisse durch print() ausgeben zu lassen."
   ]
  },
  {
   "cell_type": "code",
   "execution_count": null,
   "id": "0287f115",
   "metadata": {},
   "outputs": [],
   "source": []
  },
  {
   "cell_type": "code",
   "execution_count": null,
   "id": "70ad9f9e",
   "metadata": {},
   "outputs": [],
   "source": []
  },
  {
   "cell_type": "code",
   "execution_count": null,
   "id": "fcdf7ceb",
   "metadata": {},
   "outputs": [],
   "source": []
  },
  {
   "cell_type": "markdown",
   "id": "53872846",
   "metadata": {},
   "source": [
    "### weitere nützliche Methoden:\n",
    "\n",
    "    * index()\n",
    "    * replace()\n",
    "    * upper() / lower()\n",
    "    * join()\n",
    "    * isnumeric() / isdecimal()\n",
    "    * find()\n",
    "    * count()\n",
    "    \n",
    "Erkunde die einzelnen Methoden und erstelle selbständig Beispiele. "
   ]
  },
  {
   "cell_type": "raw",
   "id": "7678286f",
   "metadata": {},
   "source": [
    "capitalize(self, /)\n",
    " |      Return a capitalized version of the string.\n",
    " |      \n",
    " |      More specifically, make the first character have upper case and the rest lower\n",
    " |      case."
   ]
  },
  {
   "cell_type": "code",
   "execution_count": 51,
   "id": "770c1c40",
   "metadata": {},
   "outputs": [
    {
     "data": {
      "text/plain": [
       "'Hallo'"
      ]
     },
     "execution_count": 51,
     "metadata": {},
     "output_type": "execute_result"
    }
   ],
   "source": [
    "cap = lower_str.capitalize()\n",
    "cap"
   ]
  },
  {
   "cell_type": "raw",
   "id": "ee77fbbb",
   "metadata": {},
   "source": [
    "casefold(self, /)\n",
    " |      Return a version of the string suitable for caseless comparisons."
   ]
  },
  {
   "cell_type": "code",
   "execution_count": 53,
   "id": "0fc444b9",
   "metadata": {},
   "outputs": [
    {
     "data": {
      "text/plain": [
       "'hallo'"
      ]
     },
     "execution_count": 53,
     "metadata": {},
     "output_type": "execute_result"
    }
   ],
   "source": [
    "case = mix_str.casefold()\n",
    "case"
   ]
  },
  {
   "cell_type": "raw",
   "id": "d0360313",
   "metadata": {},
   "source": [
    "center(self, width, fillchar=' ', /)\n",
    " |      Return a centered string of length width.\n",
    " |      \n",
    " |      Padding is done using the specified fill character (default is a space)."
   ]
  },
  {
   "cell_type": "code",
   "execution_count": 68,
   "id": "c04f02cb",
   "metadata": {},
   "outputs": [
    {
     "data": {
      "text/plain": [
       "'****Auf den Weg zum Geburtstag!****'"
      ]
     },
     "execution_count": 68,
     "metadata": {},
     "output_type": "execute_result"
    }
   ],
   "source": [
    "cen = sentence_str.center(35, '*')\n",
    "cen"
   ]
  },
  {
   "cell_type": "raw",
   "id": "f36d4225",
   "metadata": {},
   "source": [
    "count(...)\n",
    " |      S.count(sub[, start[, end]]) -> int\n",
    " |      \n",
    " |      Return the number of non-overlapping occurrences of substring sub in\n",
    " |      string S[start:end].  Optional arguments start and end are\n",
    " |      interpreted as in slice notation."
   ]
  },
  {
   "cell_type": "code",
   "execution_count": 69,
   "id": "a391802f",
   "metadata": {},
   "outputs": [
    {
     "data": {
      "text/plain": [
       "3"
      ]
     },
     "execution_count": 69,
     "metadata": {},
     "output_type": "execute_result"
    }
   ],
   "source": [
    "sentence_str.count('e')"
   ]
  },
  {
   "cell_type": "raw",
   "id": "20b0f5d7",
   "metadata": {},
   "source": [
    "encode(self, /, encoding='utf-8', errors='strict')\n",
    " |      Encode the string using the codec registered for encoding.\n",
    " |      \n",
    " |      encoding\n",
    " |        The encoding in which to encode the string.\n",
    " |      errors\n",
    " |        The error handling scheme to use for encoding errors.\n",
    " |        The default is 'strict' meaning that encoding errors raise a\n",
    " |        UnicodeEncodeError.  Other possible values are 'ignore', 'replace' and\n",
    " |        'xmlcharrefreplace' as well as any other name registered with\n",
    " |        codecs.register_error that can handle UnicodeEncodeErrors.\n",
    " |  "
   ]
  },
  {
   "cell_type": "code",
   "execution_count": 70,
   "id": "7b54c0a5",
   "metadata": {},
   "outputs": [
    {
     "data": {
      "text/plain": [
       "b'Der T\\xc3\\x9cV \\xc3\\xa4u\\xc3\\x9fert sich unverzufrieden!'"
      ]
     },
     "execution_count": 70,
     "metadata": {},
     "output_type": "execute_result"
    }
   ],
   "source": [
    "enc = 'Der TÜV äußert sich unverzufrieden!'\n",
    "enc.encode()"
   ]
  },
  {
   "cell_type": "raw",
   "id": "3fede10e",
   "metadata": {},
   "source": [
    "endswith(...)\n",
    " |      S.endswith(suffix[, start[, end]]) -> bool\n",
    " |      \n",
    " |      Return True if S ends with the specified suffix, False otherwise.\n",
    " |      With optional start, test S beginning at that position.\n",
    " |      With optional end, stop comparing S at that position.\n",
    " |      suffix can also be a tuple of strings to try."
   ]
  },
  {
   "cell_type": "code",
   "execution_count": 71,
   "id": "8c555ae3",
   "metadata": {},
   "outputs": [
    {
     "data": {
      "text/plain": [
       "False"
      ]
     },
     "execution_count": 71,
     "metadata": {},
     "output_type": "execute_result"
    }
   ],
   "source": [
    "enc.endswith('ch')"
   ]
  },
  {
   "cell_type": "code",
   "execution_count": 72,
   "id": "46e071a4",
   "metadata": {},
   "outputs": [
    {
     "data": {
      "text/plain": [
       "True"
      ]
     },
     "execution_count": 72,
     "metadata": {},
     "output_type": "execute_result"
    }
   ],
   "source": [
    "enc.endswith('!')"
   ]
  },
  {
   "cell_type": "raw",
   "id": "59150211",
   "metadata": {},
   "source": [
    "expandtabs(self, /, tabsize=8)\n",
    " |      Return a copy where all tab characters are expanded using spaces.\n",
    " |      \n",
    " |      If tabsize is not given, a tab size of 8 characters is assumed."
   ]
  },
  {
   "cell_type": "code",
   "execution_count": 75,
   "id": "9f2b09e1",
   "metadata": {},
   "outputs": [
    {
     "data": {
      "text/plain": [
       "'xyz     12345   abc'"
      ]
     },
     "execution_count": 75,
     "metadata": {},
     "output_type": "execute_result"
    }
   ],
   "source": [
    "ex_str = 'xyz\\t12345\\tabc'\n",
    "\n",
    "# no argument is passed\n",
    "# default tabsize is 8\n",
    "ex_str.expandtabs()\n"
   ]
  },
  {
   "cell_type": "raw",
   "id": "ae4421d4",
   "metadata": {},
   "source": [
    "find(...)\n",
    " |      S.find(sub[, start[, end]]) -> int\n",
    " |      \n",
    " |      Return the lowest index in S where substring sub is found,\n",
    " |      such that sub is contained within S[start:end].  Optional\n",
    " |      arguments start and end are interpreted as in slice notation.\n",
    " |      \n",
    " |      Return -1 on failure."
   ]
  },
  {
   "cell_type": "code",
   "execution_count": 82,
   "id": "0c161ed6",
   "metadata": {},
   "outputs": [
    {
     "data": {
      "text/plain": [
       "16"
      ]
     },
     "execution_count": 82,
     "metadata": {},
     "output_type": "execute_result"
    }
   ],
   "source": [
    "sentence_str.find('Ge')"
   ]
  },
  {
   "cell_type": "raw",
   "id": "0589ec62",
   "metadata": {},
   "source": [
    "format(...)\n",
    " |      S.format(*args, **kwargs) -> str\n",
    " |      \n",
    " |      Return a formatted version of S, using substitutions from args and kwargs.\n",
    " |      The substitutions are identified by braces ('{' and '}')."
   ]
  },
  {
   "cell_type": "code",
   "execution_count": 86,
   "id": "2e8bebf8",
   "metadata": {},
   "outputs": [
    {
     "name": "stdout",
     "output_type": "stream",
     "text": [
      "Hello Kathrin, your score is 95.\n",
      "Hello Kathrin, your score is 102.\n",
      "Hello Kathrin, your score is 98.\n",
      "Hello Kathrin, your score is 93.\n"
     ]
    }
   ],
   "source": [
    "# default arguments\n",
    "print(\"Hello {}, your score is {}.\".format(\"Kathrin\", 95))\n",
    "\n",
    "# positional arguments\n",
    "print(\"Hello {0}, your score is {1}.\".format(\"Kathrin\", 102))\n",
    "\n",
    "# keyword arguments\n",
    "print(\"Hello {name}, your score is {scr}.\".format(name=\"Kathrin\", scr=98))\n",
    "\n",
    "# mixed arguments\n",
    "print(\"Hello {0}, your score is {scr}.\".format(\"Kathrin\", scr = 93))"
   ]
  },
  {
   "cell_type": "markdown",
   "id": "2d1e821a",
   "metadata": {},
   "source": [
    "Numbers formatting with format()\n",
    "You can format numbers using the format specifier given below:\n",
    "\n",
    "    Number    Formatting Types\n",
    "    Type\t  Meaning\n",
    "    ---------------------------------------------------------------------------\n",
    "    d\t      Decimal integer\n",
    "    c\t      Corresponding Unicode character\n",
    "    b\t      Binary format\n",
    "    o\t      Octal format\n",
    "    x\t      Hexadecimal format (lower case)\n",
    "    X\t      Hexadecimal format (upper case)\n",
    "    n\t      Same as 'd'. Except it uses current locale setting for number separator\n",
    "    e\t      Exponential notation. (lowercase e)\n",
    "    E\t      Exponential notation (uppercase E)\n",
    "    f\t      Displays fixed point number (Default: 6)\n",
    "    F\t      Same as 'f'. Except displays 'inf' as 'INF' and 'nan' as 'NAN'\n",
    "    g\t      General format. Rounds number to p significant digits. (Default precision: 6)\n",
    "    G\t      Same as 'g'. Except switches to 'E' if the number is large.\n",
    "    %\t      Percentage. Multiples by 100 and puts % at the end."
   ]
  },
  {
   "cell_type": "code",
   "execution_count": 87,
   "id": "67929db8",
   "metadata": {},
   "outputs": [
    {
     "name": "stdout",
     "output_type": "stream",
     "text": [
      "The number is:123\n",
      "The float number is:123.456790\n",
      "bin: 1100, oct: 14, hex: c\n"
     ]
    }
   ],
   "source": [
    "# integer arguments\n",
    "print(\"The number is:{:d}\".format(123))\n",
    "\n",
    "# float arguments\n",
    "print(\"The float number is:{:f}\".format(123.4567898))\n",
    "\n",
    "# octal, binary and hexadecimal format\n",
    "print(\"bin: {0:b}, oct: {0:o}, hex: {0:x}\".format(12))"
   ]
  },
  {
   "cell_type": "code",
   "execution_count": 90,
   "id": "3801533f",
   "metadata": {},
   "outputs": [
    {
     "name": "stdout",
     "output_type": "stream",
     "text": [
      "Wir haben gerade    12  Uhr\n",
      "1234\n",
      "  12.235\n",
      "00012\n",
      "0012.235\n"
     ]
    }
   ],
   "source": [
    "# integer numbers with minimum width\n",
    "print(\"Wir haben gerade {:5d}\".format(12), ' Uhr')\n",
    "\n",
    "# width doesn't work for numbers longer than padding\n",
    "print(\"{:2d}\".format(1234))\n",
    "\n",
    "# padding for float numbers\n",
    "print(\"{:8.3f}\".format(12.2346))\n",
    "\n",
    "# integer numbers with minimum width filled with zeros\n",
    "print(\"{:05d}\".format(12))\n",
    "\n",
    "# padding for float numbers filled with zeros\n",
    "print(\"{:08.3f}\".format(12.2346))"
   ]
  },
  {
   "cell_type": "code",
   "execution_count": 92,
   "id": "8269470c",
   "metadata": {},
   "outputs": [
    {
     "name": "stdout",
     "output_type": "stream",
     "text": [
      "+12.230000 -12.230000\n",
      "12.230000 -12.230000\n",
      " 12.230000 -12.230000\n"
     ]
    }
   ],
   "source": [
    "# add the + at positive number \n",
    "print(\"{:+f} {:+f}\".format(12.23, -12.23))\n",
    "\n",
    "# show the - sign only\n",
    "print(\"{:-f} {:-f}\".format(12.23, -12.23))\n",
    "\n",
    "# show space for + sign\n",
    "print(\"{: f} {: f}\".format(12.23, -12.23))"
   ]
  },
  {
   "cell_type": "code",
   "execution_count": 98,
   "id": "5ef38002",
   "metadata": {},
   "outputs": [
    {
     "name": "stdout",
     "output_type": "stream",
     "text": [
      "Hans's age is: 42\n"
     ]
    }
   ],
   "source": [
    "# define Person class\n",
    "class person():\n",
    "    age = 42\n",
    "    name = \"Hans\"\n",
    "\n",
    "\n",
    "# format age\n",
    "print(\"{p.name}'s age is: {p.age}\".format(p=person()))"
   ]
  },
  {
   "cell_type": "code",
   "execution_count": 99,
   "id": "3465a329",
   "metadata": {},
   "outputs": [
    {
     "name": "stdout",
     "output_type": "stream",
     "text": [
      "Hans's age is: 42\n"
     ]
    }
   ],
   "source": [
    "# define Person dictionary\n",
    "person = {'age': 42, 'name': 'Hans'}\n",
    "\n",
    "# format age\n",
    "print(\"{p[name]}'s age is: {p[age]}\".format(p=person))"
   ]
  },
  {
   "cell_type": "raw",
   "id": "edb5c60b",
   "metadata": {},
   "source": [
    "format_map(...)\n",
    " |      S.format_map(mapping) -> str\n",
    " |      \n",
    " |      Return a formatted version of S, using substitutions from mapping.\n",
    " |      The substitutions are identified by braces ('{' and '}').\n",
    " |  "
   ]
  },
  {
   "cell_type": "code",
   "execution_count": 100,
   "id": "a418143c",
   "metadata": {},
   "outputs": [
    {
     "name": "stdout",
     "output_type": "stream",
     "text": [
      "4 -5\n",
      "4 -5 0\n"
     ]
    }
   ],
   "source": [
    "point = {'x':4,'y':-5}\n",
    "print('{x} {y}'.format_map(point))\n",
    "\n",
    "point = {'x':4,'y':-5, 'z': 0}\n",
    "print('{x} {y} {z}'.format_map(point))"
   ]
  },
  {
   "cell_type": "code",
   "execution_count": 101,
   "id": "db6faf88",
   "metadata": {},
   "outputs": [
    {
     "name": "stdout",
     "output_type": "stream",
     "text": [
      "(6, y)\n",
      "(x, 5)\n",
      "(6, 5)\n"
     ]
    }
   ],
   "source": [
    "class Coordinate(dict):\n",
    "    def __missing__(self, key):\n",
    "      return key\n",
    "\n",
    "\n",
    "print('({x}, {y})'.format_map(Coordinate(x='6')))\n",
    "print('({x}, {y})'.format_map(Coordinate(y='5')))\n",
    "print('({x}, {y})'.format_map(Coordinate(x='6', y='5')))"
   ]
  },
  {
   "cell_type": "raw",
   "id": "65528b6d",
   "metadata": {},
   "source": [
    "index(...)\n",
    " |      S.index(sub[, start[, end]]) -> int\n",
    " |      \n",
    " |      Return the lowest index in S where substring sub is found,\n",
    " |      such that sub is contained within S[start:end].  Optional\n",
    " |      arguments start and end are interpreted as in slice notation.\n",
    " |      \n",
    " |      Raises ValueError when the substring is not found."
   ]
  },
  {
   "cell_type": "code",
   "execution_count": 105,
   "id": "d8c3ac44",
   "metadata": {},
   "outputs": [
    {
     "data": {
      "text/plain": [
       "5"
      ]
     },
     "execution_count": 105,
     "metadata": {},
     "output_type": "execute_result"
    }
   ],
   "source": [
    "sentence_str.index('e')"
   ]
  },
  {
   "cell_type": "raw",
   "id": "5b89ac74",
   "metadata": {},
   "source": [
    "isalpha(self, /)\n",
    " |      Return True if the string is an alphabetic string, False otherwise.\n",
    " |      \n",
    " |      A string is alphabetic if all characters in the string are alphabetic and there\n",
    " |      is at least one character in the string."
   ]
  },
  {
   "cell_type": "code",
   "execution_count": 106,
   "id": "430613ae",
   "metadata": {},
   "outputs": [
    {
     "data": {
      "text/plain": [
       "False"
      ]
     },
     "execution_count": 106,
     "metadata": {},
     "output_type": "execute_result"
    }
   ],
   "source": [
    "number_str.isalpha()"
   ]
  },
  {
   "cell_type": "code",
   "execution_count": 107,
   "id": "527fb6d7",
   "metadata": {},
   "outputs": [
    {
     "data": {
      "text/plain": [
       "True"
      ]
     },
     "execution_count": 107,
     "metadata": {},
     "output_type": "execute_result"
    }
   ],
   "source": [
    "lower_str.isalpha()"
   ]
  },
  {
   "cell_type": "raw",
   "id": "7155f4e5",
   "metadata": {},
   "source": [
    "isalnum(self, /)\n",
    " |      Return True if the string is an alpha-numeric string, False otherwise.\n",
    " |      \n",
    " |      A string is alpha-numeric if all characters in the string are alpha-numeric and\n",
    " |      there is at least one character in the string."
   ]
  },
  {
   "cell_type": "code",
   "execution_count": 109,
   "id": "1fc24a22",
   "metadata": {},
   "outputs": [
    {
     "data": {
      "text/plain": [
       "True"
      ]
     },
     "execution_count": 109,
     "metadata": {},
     "output_type": "execute_result"
    }
   ],
   "source": [
    "number_str.isalnum()"
   ]
  },
  {
   "cell_type": "code",
   "execution_count": 112,
   "id": "d0a8d1e8",
   "metadata": {},
   "outputs": [
    {
     "data": {
      "text/plain": [
       "True"
      ]
     },
     "execution_count": 112,
     "metadata": {},
     "output_type": "execute_result"
    }
   ],
   "source": [
    "lower_str.isalnum()"
   ]
  },
  {
   "cell_type": "markdown",
   "id": "b3691f3d",
   "metadata": {},
   "source": [
    "isascii(self, /)\n",
    " |      Return True if all characters in the string are ASCII, False otherwise.\n",
    " |      \n",
    " |      ASCII characters have code points in the range U+0000-U+007F.\n",
    " |      Empty string is ASCII too."
   ]
  },
  {
   "cell_type": "code",
   "execution_count": 113,
   "id": "744dbbaf",
   "metadata": {},
   "outputs": [
    {
     "data": {
      "text/plain": [
       "True"
      ]
     },
     "execution_count": 113,
     "metadata": {},
     "output_type": "execute_result"
    }
   ],
   "source": [
    "lower_str.isascii()"
   ]
  },
  {
   "cell_type": "markdown",
   "id": "495c38ee",
   "metadata": {},
   "source": [
    "isdecimal(self, /)\n",
    " |      Return True if the string is a decimal string, False otherwise.\n",
    " |      \n",
    " |      A string is a decimal string if all characters in the string are decimal and\n",
    " |      there is at least one character in the string."
   ]
  },
  {
   "cell_type": "code",
   "execution_count": 114,
   "id": "909bbf44",
   "metadata": {},
   "outputs": [
    {
     "data": {
      "text/plain": [
       "True"
      ]
     },
     "execution_count": 114,
     "metadata": {},
     "output_type": "execute_result"
    }
   ],
   "source": [
    "number_str.isdecimal()"
   ]
  },
  {
   "cell_type": "code",
   "execution_count": 115,
   "id": "125519d9",
   "metadata": {},
   "outputs": [
    {
     "data": {
      "text/plain": [
       "False"
      ]
     },
     "execution_count": 115,
     "metadata": {},
     "output_type": "execute_result"
    }
   ],
   "source": [
    "lower_str.isdecimal()"
   ]
  },
  {
   "cell_type": "raw",
   "id": "7da4e052",
   "metadata": {},
   "source": [
    "isidentifier(self, /)\n",
    " |      Return True if the string is a valid Python identifier, False otherwise.\n",
    " |      \n",
    " |      Call keyword.iskeyword(s) to test whether string s is a reserved identifier,\n",
    " |      such as \"def\" or \"class\"."
   ]
  },
  {
   "cell_type": "code",
   "execution_count": 117,
   "id": "3a69b6b8",
   "metadata": {},
   "outputs": [
    {
     "data": {
      "text/plain": [
       "True"
      ]
     },
     "execution_count": 117,
     "metadata": {},
     "output_type": "execute_result"
    }
   ],
   "source": [
    "def_str = 'def'\n",
    "def_str.isidentifier()"
   ]
  },
  {
   "cell_type": "raw",
   "id": "146fb297",
   "metadata": {},
   "source": [
    "islower(self, /)\n",
    " |      Return True if the string is a lowercase string, False otherwise.\n",
    " |      \n",
    " |      A string is lowercase if all cased characters in the string are lowercase and\n",
    " |      there is at least one cased character in the string."
   ]
  },
  {
   "cell_type": "raw",
   "id": "f6bb5bd3",
   "metadata": {},
   "source": [
    "isupper(self, /)\n",
    " |      Return True if the string is an uppercase string, False otherwise.\n",
    " |      \n",
    " |      A string is uppercase if all cased characters in the string are uppercase and\n",
    " |      there is at least one cased character in the string.\n",
    " |  "
   ]
  },
  {
   "cell_type": "code",
   "execution_count": 118,
   "id": "fa345189",
   "metadata": {},
   "outputs": [
    {
     "data": {
      "text/plain": [
       "False"
      ]
     },
     "execution_count": 118,
     "metadata": {},
     "output_type": "execute_result"
    }
   ],
   "source": [
    "mix_str.islower()"
   ]
  },
  {
   "cell_type": "code",
   "execution_count": 119,
   "id": "fce19fe0",
   "metadata": {},
   "outputs": [
    {
     "data": {
      "text/plain": [
       "True"
      ]
     },
     "execution_count": 119,
     "metadata": {},
     "output_type": "execute_result"
    }
   ],
   "source": [
    "lower_str.islower()"
   ]
  },
  {
   "cell_type": "raw",
   "id": "a56f6416",
   "metadata": {},
   "source": [
    "isnumeric(self, /)\n",
    " |      Return True if the string is a numeric string, False otherwise.\n",
    " |      \n",
    " |      A string is numeric if all characters in the string are numeric and there is at\n",
    " |      least one character in the string."
   ]
  },
  {
   "cell_type": "code",
   "execution_count": 120,
   "id": "22148eb4",
   "metadata": {},
   "outputs": [
    {
     "data": {
      "text/plain": [
       "True"
      ]
     },
     "execution_count": 120,
     "metadata": {},
     "output_type": "execute_result"
    }
   ],
   "source": [
    "number_str.isnumeric()"
   ]
  },
  {
   "cell_type": "code",
   "execution_count": 121,
   "id": "b3a7b306",
   "metadata": {},
   "outputs": [
    {
     "data": {
      "text/plain": [
       "False"
      ]
     },
     "execution_count": 121,
     "metadata": {},
     "output_type": "execute_result"
    }
   ],
   "source": [
    "lower_str.isnumeric()"
   ]
  },
  {
   "cell_type": "raw",
   "id": "66cbd8e9",
   "metadata": {},
   "source": [
    "isprintable(self, /)\n",
    " |      Return True if the string is printable, False otherwise.\n",
    " |      \n",
    " |      A string is printable if all of its characters are considered printable in\n",
    " |      repr() or if it is empty."
   ]
  },
  {
   "cell_type": "code",
   "execution_count": 124,
   "id": "fbde2d3f",
   "metadata": {},
   "outputs": [
    {
     "name": "stdout",
     "output_type": "stream",
     "text": [
      "Not Printable\n",
      "Printable\n"
     ]
    }
   ],
   "source": [
    "# written using ASCII\n",
    "# chr(13) is escape character\n",
    "# char(97) is letter 'a'\n",
    "s = chr(13) + chr(97)\n",
    "\n",
    "if s.isprintable() == True:\n",
    "  print('Printable')\n",
    "else:\n",
    "  print('Not Printable')\n",
    "  \n",
    "s = '2+2 = 4'\n",
    "\n",
    "if s.isprintable() == True:\n",
    "  print('Printable')\n",
    "else:\n",
    "  print('Not Printable')"
   ]
  },
  {
   "cell_type": "raw",
   "id": "bd9822ca",
   "metadata": {},
   "source": [
    "isspace(self, /)\n",
    " |      Return True if the string is a whitespace string, False otherwise.\n",
    " |      \n",
    " |      A string is whitespace if all characters in the string are whitespace and there\n",
    " |      is at least one character in the string."
   ]
  },
  {
   "cell_type": "code",
   "execution_count": 125,
   "id": "541b5b4b",
   "metadata": {},
   "outputs": [
    {
     "name": "stdout",
     "output_type": "stream",
     "text": [
      "True\n",
      "False\n",
      "False\n"
     ]
    }
   ],
   "source": [
    "s = '   \\t'\n",
    "print(s.isspace())\n",
    "\n",
    "s = ' a '\n",
    "print(s.isspace())\n",
    "\n",
    "s = ''\n",
    "print(s.isspace())"
   ]
  },
  {
   "cell_type": "raw",
   "id": "d6181d86",
   "metadata": {},
   "source": [
    "istitle(self, /)\n",
    " |      Return True if the string is a title-cased string, False otherwise.\n",
    " |      \n",
    " |      In a title-cased string, upper- and title-case characters may only\n",
    " |      follow uncased characters and lowercase characters only cased ones."
   ]
  },
  {
   "cell_type": "code",
   "execution_count": 126,
   "id": "83f62fed",
   "metadata": {},
   "outputs": [
    {
     "name": "stdout",
     "output_type": "stream",
     "text": [
      "True\n",
      "False\n",
      "True\n",
      "True\n",
      "False\n"
     ]
    }
   ],
   "source": [
    "s = 'Python Is Good.'\n",
    "print(s.istitle())\n",
    "\n",
    "s = 'Python is good'\n",
    "print(s.istitle())\n",
    "\n",
    "s = 'This Is @ Symbol.'\n",
    "print(s.istitle())\n",
    "\n",
    "s = '99 Is A Number'\n",
    "print(s.istitle())\n",
    "\n",
    "s = 'PYTHON'\n",
    "print(s.istitle())"
   ]
  },
  {
   "cell_type": "raw",
   "id": "26d883e8",
   "metadata": {},
   "source": [
    "join(self, iterable, /)\n",
    " |      Concatenate any number of strings.\n",
    " |      \n",
    " |      The string whose method is called is inserted in between each given string.\n",
    " |      The result is returned as a new string.\n",
    " |      \n",
    " |      Example: '.'.join(['ab', 'pq', 'rs']) -> 'ab.pq.rs'"
   ]
  },
  {
   "cell_type": "code",
   "execution_count": 128,
   "id": "52e1382b",
   "metadata": {},
   "outputs": [
    {
     "data": {
      "text/plain": [
       "'je++hallo++ww'"
      ]
     },
     "execution_count": 128,
     "metadata": {},
     "output_type": "execute_result"
    }
   ],
   "source": [
    "join_str = lower_str.join(['je++', '++ww'])\n",
    "join_str"
   ]
  },
  {
   "cell_type": "raw",
   "id": "126cac44",
   "metadata": {},
   "source": [
    "ljust(self, width, fillchar=' ', /)\n",
    " |      Return a left-justified string of length width.\n",
    " |      \n",
    " |      Padding is done using the specified fill character (default is a space)."
   ]
  },
  {
   "cell_type": "code",
   "execution_count": 131,
   "id": "4bed46a0",
   "metadata": {},
   "outputs": [
    {
     "data": {
      "text/plain": [
       "'je++hallo++ww&&&&&&&&&&&&&&&&&&&&&&'"
      ]
     },
     "execution_count": 131,
     "metadata": {},
     "output_type": "execute_result"
    }
   ],
   "source": [
    "join_str.ljust(35, '&')"
   ]
  },
  {
   "cell_type": "markdown",
   "id": "00afd235",
   "metadata": {},
   "source": [
    "lower(self, /)\n",
    " |      Return a copy of the string converted to lowercase."
   ]
  },
  {
   "cell_type": "raw",
   "id": "c880f1e6",
   "metadata": {},
   "source": [
    "upper(self, /)\n",
    " |      Return a copy of the string converted to uppercase."
   ]
  },
  {
   "cell_type": "code",
   "execution_count": 133,
   "id": "a844ca00",
   "metadata": {},
   "outputs": [
    {
     "data": {
      "text/plain": [
       "'HaLlO'"
      ]
     },
     "execution_count": 133,
     "metadata": {},
     "output_type": "execute_result"
    }
   ],
   "source": [
    "mix_str"
   ]
  },
  {
   "cell_type": "code",
   "execution_count": 135,
   "id": "949d8211",
   "metadata": {},
   "outputs": [
    {
     "data": {
      "text/plain": [
       "'hallo'"
      ]
     },
     "execution_count": 135,
     "metadata": {},
     "output_type": "execute_result"
    }
   ],
   "source": [
    "lower_2 = mix_str.lower()\n",
    "lower_2"
   ]
  },
  {
   "cell_type": "code",
   "execution_count": 136,
   "id": "e88eaada",
   "metadata": {},
   "outputs": [
    {
     "data": {
      "text/plain": [
       "'HALLO'"
      ]
     },
     "execution_count": 136,
     "metadata": {},
     "output_type": "execute_result"
    }
   ],
   "source": [
    "upper_2 = mix_str.upper()\n",
    "upper_2"
   ]
  },
  {
   "cell_type": "raw",
   "id": "962eef82",
   "metadata": {},
   "source": [
    "lstrip(self, chars=None, /)\n",
    " |      Return a copy of the string with leading whitespace removed.\n",
    " |      \n",
    " |      If chars is given and not None, remove characters in chars instead."
   ]
  },
  {
   "cell_type": "code",
   "execution_count": 137,
   "id": "856c6fc3",
   "metadata": {},
   "outputs": [
    {
     "name": "stdout",
     "output_type": "stream",
     "text": [
      "this is good \n",
      "   this is good \n",
      "his is good \n",
      "www.programiz.com/\n"
     ]
    }
   ],
   "source": [
    "random_string = '   this is good '\n",
    "\n",
    "# Leading whitepsace are removed\n",
    "print(random_string.lstrip())\n",
    "\n",
    "# Argument doesn't contain space\n",
    "# No characters are removed.\n",
    "print(random_string.lstrip('sti'))\n",
    "\n",
    "print(random_string.lstrip('s ti'))\n",
    "\n",
    "website = 'https://www.programiz.com/'\n",
    "print(website.lstrip('htps:/.'))"
   ]
  },
  {
   "cell_type": "raw",
   "id": "e402bf2e",
   "metadata": {},
   "source": [
    "partition(self, sep, /)\n",
    " |      Partition the string into three parts using the given separator.\n",
    " |      \n",
    " |      This will search for the separator in the string.  If the separator is found,\n",
    " |      returns a 3-tuple containing the part before the separator, the separator\n",
    " |      itself, and the part after it.\n",
    " |      \n",
    " |      If the separator is not found, returns a 3-tuple containing the original string\n",
    " |      and two empty strings."
   ]
  },
  {
   "cell_type": "code",
   "execution_count": 140,
   "id": "ae573f3e",
   "metadata": {},
   "outputs": [
    {
     "data": {
      "text/plain": [
       "('je++hallo++ww', '', '')"
      ]
     },
     "execution_count": 140,
     "metadata": {},
     "output_type": "execute_result"
    }
   ],
   "source": [
    "join_str.partition('&')"
   ]
  },
  {
   "cell_type": "raw",
   "id": "ff2e49c9",
   "metadata": {},
   "source": [
    "replace(self, old, new, count=-1, /)\n",
    " |      Return a copy with all occurrences of substring old replaced by new.\n",
    " |      \n",
    " |        count\n",
    " |          Maximum number of occurrences to replace.\n",
    " |          -1 (the default value) means replace all occurrences.\n",
    " |      \n",
    " |      If the optional argument count is given, only the first count occurrences are\n",
    " |      replaced."
   ]
  },
  {
   "cell_type": "code",
   "execution_count": 142,
   "id": "b4b79abf",
   "metadata": {},
   "outputs": [
    {
     "data": {
      "text/plain": [
       "'je$$hallo$$ww'"
      ]
     },
     "execution_count": 142,
     "metadata": {},
     "output_type": "execute_result"
    }
   ],
   "source": [
    "join_str.replace('+', '$')"
   ]
  },
  {
   "cell_type": "raw",
   "id": "1d4406fc",
   "metadata": {},
   "source": [
    "rfind(...)\n",
    " |      S.rfind(sub[, start[, end]]) -> int\n",
    " |      \n",
    " |      Return the highest index in S where substring sub is found,\n",
    " |      such that sub is contained within S[start:end].  Optional\n",
    " |      arguments start and end are interpreted as in slice notation.\n",
    " |      \n",
    " |      Return -1 on failure."
   ]
  },
  {
   "cell_type": "code",
   "execution_count": 143,
   "id": "d8ba542b",
   "metadata": {},
   "outputs": [
    {
     "data": {
      "text/plain": [
       "'Auf den Weg zum Geburtstag!'"
      ]
     },
     "execution_count": 143,
     "metadata": {},
     "output_type": "execute_result"
    }
   ],
   "source": [
    "sentence_str"
   ]
  },
  {
   "cell_type": "code",
   "execution_count": 145,
   "id": "76bd3807",
   "metadata": {},
   "outputs": [
    {
     "data": {
      "text/plain": [
       "23"
      ]
     },
     "execution_count": 145,
     "metadata": {},
     "output_type": "execute_result"
    }
   ],
   "source": [
    "sentence_str.rfind('t')"
   ]
  },
  {
   "cell_type": "raw",
   "id": "d82414df",
   "metadata": {},
   "source": [
    "rindex(...)\n",
    " |      S.rindex(sub[, start[, end]]) -> int\n",
    " |      \n",
    " |      Return the highest index in S where substring sub is found,\n",
    " |      such that sub is contained within S[start:end].  Optional\n",
    " |      arguments start and end are interpreted as in slice notation.\n",
    " |      \n",
    " |      Raises ValueError when the substring is not found."
   ]
  },
  {
   "cell_type": "code",
   "execution_count": 146,
   "id": "34d453ee",
   "metadata": {},
   "outputs": [
    {
     "data": {
      "text/plain": [
       "17"
      ]
     },
     "execution_count": 146,
     "metadata": {},
     "output_type": "execute_result"
    }
   ],
   "source": [
    "sentence_str.rindex('e')"
   ]
  },
  {
   "cell_type": "raw",
   "id": "8d3ccbf3",
   "metadata": {},
   "source": [
    "rpartition(self, sep, /)\n",
    " |      Partition the string into three parts using the given separator.\n",
    " |      \n",
    " |      This will search for the separator in the string, starting at the end. If\n",
    " |      the separator is found, returns a 3-tuple containing the part before the\n",
    " |      separator, the separator itself, and the part after it.\n",
    " |      \n",
    " |      If the separator is not found, returns a 3-tuple containing two empty strings\n",
    " |      and the original string."
   ]
  },
  {
   "cell_type": "code",
   "execution_count": 147,
   "id": "dab605eb",
   "metadata": {},
   "outputs": [
    {
     "data": {
      "text/plain": [
       "('Auf den Weg zum G', 'e', 'burtstag!')"
      ]
     },
     "execution_count": 147,
     "metadata": {},
     "output_type": "execute_result"
    }
   ],
   "source": [
    "rpart_str = sentence_str.rpartition('e')\n",
    "rpart_str"
   ]
  },
  {
   "cell_type": "raw",
   "id": "1acd083b",
   "metadata": {},
   "source": [
    "rsplit(self, /, sep=None, maxsplit=-1)\n",
    " |      Return a list of the words in the string, using sep as the delimiter string.\n",
    " |      \n",
    " |        sep\n",
    " |          The delimiter according which to split the string.\n",
    " |          None (the default value) means split according to any whitespace,\n",
    " |          and discard empty strings from the result.\n",
    " |        maxsplit\n",
    " |          Maximum number of splits to do.\n",
    " |          -1 (the default value) means no limit.\n",
    " |      \n",
    " |      Splits are done starting at the end of the string and working to the front."
   ]
  },
  {
   "cell_type": "raw",
   "id": "93a9e779",
   "metadata": {},
   "source": [
    "strip(self, chars=None, /)\n",
    " |      Return a copy of the string with leading and trailing whitespace removed.\n",
    " |      \n",
    " |      If chars is given and not None, remove characters in chars instead."
   ]
  },
  {
   "cell_type": "code",
   "execution_count": 148,
   "id": "7b794597",
   "metadata": {},
   "outputs": [
    {
     "data": {
      "text/plain": [
       "['Auf den Weg zum Gebur', 's', 'ag!']"
      ]
     },
     "execution_count": 148,
     "metadata": {},
     "output_type": "execute_result"
    }
   ],
   "source": [
    "rsplit_str = sentence_str.rsplit('t')\n",
    "rsplit_str"
   ]
  },
  {
   "cell_type": "raw",
   "id": "fe4133c2",
   "metadata": {},
   "source": [
    "rstrip(self, chars=None, /)\n",
    " |      Return a copy of the string with trailing whitespace removed.\n",
    " |      \n",
    " |      If chars is given and not None, remove characters in chars instead."
   ]
  },
  {
   "cell_type": "code",
   "execution_count": 156,
   "id": "ae512169",
   "metadata": {},
   "outputs": [
    {
     "name": "stdout",
     "output_type": "stream",
     "text": [
      "this is good\n",
      "this is good\n",
      "this is g\n",
      "th\n",
      "www.programiz.co\n"
     ]
    }
   ],
   "source": [
    "random_string = 'this is good    '\n",
    "\n",
    "# Trailing whitepsace are removed\n",
    "print(random_string.rstrip())\n",
    "\n",
    "# Argument doesn't contain 'd'\n",
    "# No characters are removed.\n",
    "print(random_string.rstrip('si oo'))\n",
    "\n",
    "print(random_string.rstrip('sid oo'))\n",
    "\n",
    "print(random_string.rstrip('si dg oo'))\n",
    "\n",
    "\n",
    "website = 'www.programiz.com/'\n",
    "print(website.rstrip('m/.'))"
   ]
  },
  {
   "cell_type": "raw",
   "id": "d0bf56c3",
   "metadata": {},
   "source": [
    "split(self, /, sep=None, maxsplit=-1)\n",
    " |      Return a list of the words in the string, using sep as the delimiter string.\n",
    " |      \n",
    " |      sep\n",
    " |        The delimiter according which to split the string.\n",
    " |        None (the default value) means split according to any whitespace,\n",
    " |        and discard empty strings from the result.\n",
    " |      maxsplit\n",
    " |        Maximum number of splits to do.\n",
    " |        -1 (the default value) means no limit."
   ]
  },
  {
   "cell_type": "code",
   "execution_count": 158,
   "id": "a35c4090",
   "metadata": {},
   "outputs": [
    {
     "data": {
      "text/plain": [
       "['Auf d', 'n W', 'g zum G', 'burtstag!']"
      ]
     },
     "execution_count": 158,
     "metadata": {},
     "output_type": "execute_result"
    }
   ],
   "source": [
    "sentence_str.split('e')"
   ]
  },
  {
   "cell_type": "raw",
   "id": "7c0551c1",
   "metadata": {},
   "source": [
    "splitlines(self, /, keepends=False)\n",
    " |      Return a list of the lines in the string, breaking at line boundaries.\n",
    " |      \n",
    " |      Line breaks are not included in the resulting list unless keepends is given and\n",
    " |      true."
   ]
  },
  {
   "cell_type": "markdown",
   "id": "fdf2b259",
   "metadata": {},
   "source": [
    "    Repr.\t    Description\n",
    "    -------------------------------------\n",
    "    \\n\t        Line Feed\n",
    "    \\r\t        Carriage Return\n",
    "    \\r\\n\t    Carriage Return + Line Feed\n",
    "    \\v or \\x0b\tLine Tabulation\n",
    "    \\f or \\x0c\tForm Feed\n",
    "    \\x1c    \tFile Separator\n",
    "    \\x1d\t    Group Separator\n",
    "    \\x1e\t    Record Separator\n",
    "    \\x85\t    Next Line (C1 Control Code)\n",
    "    \\u2028\t    Line Separator\n",
    "    \\u2029\t    Paragraph Separator"
   ]
  },
  {
   "cell_type": "code",
   "execution_count": 157,
   "id": "16250bdb",
   "metadata": {},
   "outputs": [
    {
     "name": "stdout",
     "output_type": "stream",
     "text": [
      "['Milk', 'Chicken', 'Bread', 'Butter']\n",
      "['Milk\\n', 'Chicken\\r\\n', 'Bread\\r', 'Butter']\n",
      "['Milk Chicken Bread Butter']\n"
     ]
    }
   ],
   "source": [
    "grocery = 'Milk\\nChicken\\r\\nBread\\rButter'\n",
    "\n",
    "print(grocery.splitlines())\n",
    "print(grocery.splitlines(True))\n",
    "\n",
    "grocery = 'Milk Chicken Bread Butter'\n",
    "print(grocery.splitlines())"
   ]
  },
  {
   "cell_type": "raw",
   "id": "bb95b618",
   "metadata": {},
   "source": [
    "swapcase(self, /)\n",
    " |      Convert uppercase characters to lowercase and lowercase characters to uppercase."
   ]
  },
  {
   "cell_type": "code",
   "execution_count": 159,
   "id": "c7d101aa",
   "metadata": {},
   "outputs": [
    {
     "data": {
      "text/plain": [
       "'hAlLo'"
      ]
     },
     "execution_count": 159,
     "metadata": {},
     "output_type": "execute_result"
    }
   ],
   "source": [
    "mix_2 = mix_str.swapcase()\n",
    "mix_2"
   ]
  },
  {
   "cell_type": "raw",
   "id": "9b690a32",
   "metadata": {},
   "source": [
    "title(self, /)\n",
    " |      Return a version of the string where each word is titlecased.\n",
    " |      \n",
    " |      More specifically, words start with uppercased characters and all remaining\n",
    " |      cased characters have lower case."
   ]
  },
  {
   "cell_type": "code",
   "execution_count": 160,
   "id": "63d4fcd2",
   "metadata": {},
   "outputs": [
    {
     "data": {
      "text/plain": [
       "'Auf Den Weg Zum Geburtstag!'"
      ]
     },
     "execution_count": 160,
     "metadata": {},
     "output_type": "execute_result"
    }
   ],
   "source": [
    "title_str = sentence_str.title()\n",
    "title_str"
   ]
  },
  {
   "cell_type": "raw",
   "id": "1cc6fafa",
   "metadata": {},
   "source": [
    "zfill(self, width, /)\n",
    " |      Pad a numeric string with zeros on the left, to fill a field of the given width.\n",
    " |      \n",
    " |      The string is never truncated."
   ]
  },
  {
   "cell_type": "code",
   "execution_count": 164,
   "id": "f947b0e1",
   "metadata": {},
   "outputs": [
    {
     "name": "stdout",
     "output_type": "stream",
     "text": [
      "0program is fun\n",
      "000000program is fun\n",
      "0000000000000000program is fun\n"
     ]
    }
   ],
   "source": [
    "text = \"program is fun\"\n",
    "print(text.zfill(15))\n",
    "print(text.zfill(20))\n",
    "print(text.zfill(30))"
   ]
  },
  {
   "cell_type": "markdown",
   "id": "c66e32b9",
   "metadata": {},
   "source": [
    "## Übungen\n",
    "\n",
    "Bei den folgenden Übungen sollen weitestgehend mit den bisher angesprochenen Informationen programmiert werden. Jede Aufgabenstellung ist als eine Art eines kleines Projektes zu sehen. Daher:\n",
    "\n",
    "    1. Aufgabenstellung verstehen!\n",
    "    2. Ziel formulieren!\n",
    "    3. Analyse der durchzuführenden Funktionen!\n",
    "    4. Aufstellen eines Plans der zu programmierenden Steps!\n",
    "    5. Formulieren von Use Case um das Programm zu Testen!\n",
    "    6. Umsetzung in ein Programm!\n",
    "    7. Testen des Ergebnisses!\n",
    "    8. Evtl. Korrekturen vornehmen und 7. wiederholen!\n",
    "    9. Kommentierung des Programms überprüfen!\n",
    "    10. Abweichungsanalyse vom 4. durchführen!\n",
    "\n",
    "\n",
    "    "
   ]
  },
  {
   "attachments": {
    "image-2.png": {
     "image/png": "[encoded data removed]"
    }
   },
   "cell_type": "markdown",
   "id": "eb33f1a4",
   "metadata": {},
   "source": [
    "#### 1. Palindrom\n",
    "\n",
    "![image-2.png](attachment:image-2.png)\n",
    "\n",
    "    Bildquelle: www.sprachventil-WordPress.com\n",
    "\n",
    "Definiere eine Funktion, die ein String als Input erhält. Die Funktion soll prüfen, ob es sich bei dem Wort um ein Palindrom handelt (vorwärts wie auch rückwärts gleich: z.B. Anna)"
   ]
  },
  {
   "cell_type": "code",
   "execution_count": 47,
   "id": "fb946426",
   "metadata": {},
   "outputs": [],
   "source": [
    "def palindrom():\n",
    "    pre_list = []\n",
    "    rev_list = []\n",
    "    text_original = input('Please enter a word! ')\n",
    "    text = text_original.lower()\n",
    "    \n",
    "    for i in range(len(text)):\n",
    "        \n",
    "        pre_list.append(text[i]) \n",
    "        rev_list.append(text[len(text)- (i+1)])\n",
    "  \n",
    "\n",
    "    if pre_list == rev_list:\n",
    "        return '***{}*** is a palindrom'.format(text_original)\n",
    "    else:\n",
    "        return '***{}*** is not a palindrom'.format(text_original)"
   ]
  },
  {
   "cell_type": "code",
   "execution_count": 48,
   "id": "d84da038",
   "metadata": {},
   "outputs": [
    {
     "name": "stdout",
     "output_type": "stream",
     "text": [
      "Please enter a word! Kathrin\n"
     ]
    },
    {
     "data": {
      "text/plain": [
       "'***Kathrin*** is not a palindrom'"
      ]
     },
     "execution_count": 48,
     "metadata": {},
     "output_type": "execute_result"
    }
   ],
   "source": [
    "palindrom()"
   ]
  },
  {
   "attachments": {
    "image.png": {
     "image/png": "[encoded data removed]"
    }
   },
   "cell_type": "markdown",
   "id": "dcc35cd4",
   "metadata": {},
   "source": [
    "#### 2. Sieb des Eratosthenes\n",
    "\n",
    "![image.png](attachment:image.png)\n",
    "\n",
    "    Bildquelle: www.lehrerfortbildung-bw.de\n",
    "\n",
    "Dies ist ein Algorithmus zur Bestimmung aller Primzahlen bis zu einer gegebenen Zahl!\n",
    "\n",
    "    1. Alle Zahlen von 2 (kleinste Primzahl) bis zur gegebenen Zahl werden notiert: 2, 3, 4, 5, ..., Z\n",
    "    2. Dann wird mit 2 begonnen, alle Werte zu streichen, die durch 2 teilbar sind: 3, 5, 7, 9, ..., (Z)\n",
    "    3. Anschließend wird die nächst größere Wert als 2 gesucht - nämlich 3\n",
    "    4. Dann wird 2. mit 3 durch geführt: 5, 6, 11, ..., (Z)\n",
    "    5. Nun wir 3. und 4. zum Streichwert SW:\n",
    "$$SW <= \\sqrt(Z)$$ <br>\n",
    "    \n",
    "    6. Ausgabe aller Streichwerte, gibt die Primzahlen bis zu der eingegebene Zahl wieder\n",
    "    \n",
    "Hinweis: den Eingabewert auf 1.000 begrenzen.\n",
    "    \n",
    "\n"
   ]
  },
  {
   "cell_type": "code",
   "execution_count": 50,
   "id": "d7b420a4",
   "metadata": {},
   "outputs": [],
   "source": [
    "# function to determine the prime numbers lower than an input number\n",
    "\n",
    "# create a list from 2 till start_value (= input value)\n",
    "def build_list(start_value):\n",
    "    start_list = []\n",
    "    for i in range(start_value, 1, -1):\n",
    "        start_list.append(i)\n",
    "    return start_list    \n",
    "    \n",
    "\n",
    "# dropping the last number of list and testing if the this number is divisible by the prime or not.\n",
    "# if yes: append to rest_coll otherwise just pop this number\n",
    "def control_loop(start_list):        \n",
    "    rest_coll = []   # List to collect the numbers no divided by prime\n",
    "    prime = start_list.pop()\n",
    "    \n",
    "    for j in range(len(start_list)-1, 0, -1):\n",
    "\n",
    "        if start_list[j] % prime == 0:\n",
    "            start_list.pop()\n",
    "\n",
    "        else:\n",
    "            rest = start_list.pop()\n",
    "            rest_coll.append(rest)\n",
    "            \n",
    "    return rest_coll, prime\n",
    "        \n",
    "# start function to run the algorithm of \"Sieve of Eratosthenes\"\n",
    "def sieb_eratosthenes():    \n",
    "    start_value = int(input('Please enter a figure below 1000: '))\n",
    "    prime_coll = []   # List to collect the prime numbers\n",
    "    \n",
    "    if start_value > 1000:\n",
    "        return 'number is to large!'\n",
    "    \n",
    "    else:        \n",
    "        start_list = build_list(start_value)\n",
    "        \n",
    "        while start_list[len(start_list)-1] < start_value ** (1/2):\n",
    "            rest_coll, prime = control_loop(start_list)\n",
    "            start_list = [rest_coll[x] for x in range(len(rest_coll)-1, -1, -1) ]\n",
    "            prime_coll.append(prime)\n",
    "            \n",
    "        prime_reverse = [prime_coll[x] for x in range(len(prime_coll)-1, -1, -1)]\n",
    "            \n",
    "    return start_list + prime_reverse"
   ]
  },
  {
   "cell_type": "code",
   "execution_count": 52,
   "id": "fe2b2f00",
   "metadata": {},
   "outputs": [
    {
     "name": "stdout",
     "output_type": "stream",
     "text": [
      "Please enter a figure below 1000: 10\n"
     ]
    },
    {
     "data": {
      "text/plain": [
       "[7, 5, 3, 2]"
      ]
     },
     "execution_count": 52,
     "metadata": {},
     "output_type": "execute_result"
    }
   ],
   "source": [
    "sieb_eratosthenes()"
   ]
  },
  {
   "attachments": {
    "image.png": {
     "image/png": "[encoded data removed]"
    }
   },
   "cell_type": "markdown",
   "id": "dd8c6357",
   "metadata": {},
   "source": [
    "#### 3. Tic Tac Toe\n",
    "\n",
    "\n",
    "![image.png](attachment:image.png)\n",
    "\n",
    " \n",
    "Auf einem 3×3 Felder großen Spielfeld setzen die beiden Spieler abwechselnd ihr Zeichen (ein Spieler Kreuze, der andere Kreise) in ein freies Feld. Der Spieler, der als Erster drei Zeichen in eine Zeile, Spalte oder Diagonale setzen kann, gewinnt. Es kann auch vorkommen, dass ein Spiel Unentschieden ausgeht.\n",
    "\n",
    "\n",
    "Versuche dieses Spiel zu Programmieren!\n",
    "\n"
   ]
  },
  {
   "attachments": {
    "fad7eabd-1822-4303-aee0-573ba857882e.png": {
     "image/png": "[encoded data removed]"
    }
   },
   "cell_type": "markdown",
   "id": "815ce843",
   "metadata": {},
   "source": [
    "#### 4. Schiffe versenken\n",
    "\n",
    "![image.png](attachment:fad7eabd-1822-4303-aee0-573ba857882e.png)"
   ]
  },
  {
   "cell_type": "code",
   "execution_count": null,
   "id": "ca23eb9a",
   "metadata": {},
   "outputs": [],
   "source": []
  }
 ],
 "metadata": {
  "kernelspec": {
   "display_name": "Python 3",
   "language": "python",
   "name": "python3"
  },
  "language_info": {
   "codemirror_mode": {
    "name": "ipython",
    "version": 3
   },
   "file_extension": ".py",
   "mimetype": "text/x-python",
   "name": "python",
   "nbconvert_exporter": "python",
   "pygments_lexer": "ipython3",
   "version": "3.8.5"
  }
 },
 "nbformat": 4,
 "nbformat_minor": 5
}
