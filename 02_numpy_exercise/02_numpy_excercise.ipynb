{
 "cells": [
  {
   "cell_type": "markdown",
   "id": "41495173",
   "metadata": {},
   "source": [
    "### NumPy Excercise"
   ]
  },
  {
   "cell_type": "code",
   "execution_count": 2,
   "id": "dbeda9f6",
   "metadata": {},
   "outputs": [],
   "source": [
    "# import of packages\n",
    "import numpy as np\n",
    "import matplotlib.pyplot as plt\n",
    "\n",
    "# using seed\n",
    "np.random.seed(42)"
   ]
  },
  {
   "cell_type": "code",
   "execution_count": 47,
   "id": "547c461a",
   "metadata": {},
   "outputs": [],
   "source": [
    "# create vectors\n",
    "x = np.linspace(-5, 5, 100)\n",
    "y = [0 for n in x]\n",
    "vec_1 = [(n**2 - (n)**3) for n in x]\n",
    "vec_2 = [(np.sin(n) + np.cos(n)**2) for n in x]\n"
   ]
  },
  {
   "cell_type": "code",
   "execution_count": 48,
   "id": "54be8c69",
   "metadata": {},
   "outputs": [],
   "source": [
    "# transform to an array\n",
    "np_vec_1 = np.array(vec_1)\n",
    "np_vec_2 = np.array(vec_2)"
   ]
  },
  {
   "cell_type": "markdown",
   "id": "72003d43",
   "metadata": {},
   "source": [
    "#### Aufgabe\n",
    "\n",
    "Versuchen Sie eine deskriptive Analysis über die beiden Array anzufertigen incl. Scatter Plot und Histogramm."
   ]
  },
  {
   "cell_type": "code",
   "execution_count": null,
   "id": "b25b7cfc",
   "metadata": {},
   "outputs": [],
   "source": []
  }
 ],
 "metadata": {
  "kernelspec": {
   "display_name": "Python 3",
   "language": "python",
   "name": "python3"
  },
  "language_info": {
   "codemirror_mode": {
    "name": "ipython",
    "version": 3
   },
   "file_extension": ".py",
   "mimetype": "text/x-python",
   "name": "python",
   "nbconvert_exporter": "python",
   "pygments_lexer": "ipython3",
   "version": "3.8.5"
  }
 },
 "nbformat": 4,
 "nbformat_minor": 5
}
