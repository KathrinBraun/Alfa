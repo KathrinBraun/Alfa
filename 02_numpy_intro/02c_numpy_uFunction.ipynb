{
 "cells": [
  {
   "cell_type": "markdown",
   "id": "verbal-florida",
   "metadata": {},
   "source": [
    "### 1. Listen versus Arrays\n",
    "\n",
    "In Listen kann man verschiedene Typen der Elemente verwenden:"
   ]
  },
  {
   "cell_type": "code",
   "execution_count": 1,
   "id": "baking-slide",
   "metadata": {},
   "outputs": [
    {
     "data": {
      "text/plain": [
       "['today', 3, 0.9, 'yes']"
      ]
     },
     "execution_count": 1,
     "metadata": {},
     "output_type": "execute_result"
    }
   ],
   "source": [
    "l = ['today', 3, .9, 'yes']\n",
    "l"
   ]
  },
  {
   "cell_type": "markdown",
   "id": "entertaining-optics",
   "metadata": {},
   "source": [
    "In Arrays ist nur ein Datentyp der Elemente erlaubt:"
   ]
  },
  {
   "cell_type": "code",
   "execution_count": 44,
   "id": "ranking-sierra",
   "metadata": {},
   "outputs": [
    {
     "data": {
      "text/plain": [
       "array(['today', '3', '0.9', 'yes'], dtype='<U32')"
      ]
     },
     "execution_count": 44,
     "metadata": {},
     "output_type": "execute_result"
    }
   ],
   "source": [
    "import numpy as np\n",
    "import matplotlib.pyplot as plt\n",
    "\n",
    "a = np.array(['today', 3, .9, 'yes'])\n",
    "a"
   ]
  },
  {
   "cell_type": "code",
   "execution_count": 3,
   "id": "sought-sperm",
   "metadata": {},
   "outputs": [
    {
     "data": {
      "text/plain": [
       "numpy.str_"
      ]
     },
     "execution_count": 3,
     "metadata": {},
     "output_type": "execute_result"
    }
   ],
   "source": [
    "type(a[1])"
   ]
  },
  {
   "cell_type": "markdown",
   "id": "pointed-necessity",
   "metadata": {},
   "source": [
    "Alle Elemente des Arrays werden zu String umgeformt. In Python werden die Objekte betrachten und hieraus der Datentype bestimmt. Zuerst wird bestimmt ob es eine Liste oder ein Array ist.\n",
    "\n",
    "Bei einer Liste, muss der Datentyp eines jeden einzelnen Elements bestimmt werden. Beim Array wird dies nur einmal getan. **Daher ist das Arbeiten mit einem Array schneller.**\n",
    "\n",
    "Versuchen wir eine Liste und Array zu kreieren, die mehr Elemente beinhalten:"
   ]
  },
  {
   "cell_type": "code",
   "execution_count": 4,
   "id": "under-aggregate",
   "metadata": {},
   "outputs": [],
   "source": [
    "l_long = [x for x in range(1, 100000)]\n",
    "a_long = np.array([x for x in range(1, 100000)])"
   ]
  },
  {
   "cell_type": "code",
   "execution_count": 12,
   "id": "friendly-frontier",
   "metadata": {},
   "outputs": [],
   "source": [
    "l_rand = [x for x in np.random.randint(1, 100, size = 1000000)]\n",
    "a_rand = np.array([x for x in np.random.randint(1, 100, size = 1000000)])"
   ]
  },
  {
   "cell_type": "code",
   "execution_count": 13,
   "id": "surprising-latitude",
   "metadata": {},
   "outputs": [],
   "source": [
    "def just_for_fun(li):\n",
    "    \n",
    "    coll = []\n",
    "    \n",
    "    for i in li:\n",
    "        \n",
    "        if i % 2:\n",
    "            coll.append(np.sin(i))\n",
    "            \n",
    "        else:\n",
    "            coll.append(np.cos(i))  \n",
    "            \n",
    "    for i in li:\n",
    "        x = 'hallo'\n",
    "    \n",
    "    #plt.figure(figsize = (20, 5))\n",
    "    #plt.scatter(li[:300], coll[:300], alpha = 0.5, color = 'purple', s = 50)\n",
    "                "
   ]
  },
  {
   "cell_type": "code",
   "execution_count": 14,
   "id": "baking-candy",
   "metadata": {},
   "outputs": [],
   "source": [
    "just_for_fun(l_long)"
   ]
  },
  {
   "cell_type": "code",
   "execution_count": 15,
   "id": "great-praise",
   "metadata": {},
   "outputs": [],
   "source": [
    "just_for_fun(a_long)"
   ]
  },
  {
   "cell_type": "code",
   "execution_count": 16,
   "id": "posted-cincinnati",
   "metadata": {},
   "outputs": [
    {
     "name": "stdout",
     "output_type": "stream",
     "text": [
      "102 ms ± 355 µs per loop (mean ± std. dev. of 7 runs, 10 loops each)\n"
     ]
    }
   ],
   "source": [
    "# use of %timeit for measuring the time\n",
    "%timeit just_for_fun(l_long)"
   ]
  },
  {
   "cell_type": "code",
   "execution_count": 17,
   "id": "genuine-andrew",
   "metadata": {},
   "outputs": [
    {
     "name": "stdout",
     "output_type": "stream",
     "text": [
      "165 ms ± 3.99 ms per loop (mean ± std. dev. of 7 runs, 1 loop each)\n"
     ]
    }
   ],
   "source": [
    "%timeit just_for_fun(a_long)"
   ]
  },
  {
   "cell_type": "code",
   "execution_count": 18,
   "id": "original-musical",
   "metadata": {},
   "outputs": [
    {
     "name": "stdout",
     "output_type": "stream",
     "text": [
      "1.54 s ± 26.2 ms per loop (mean ± std. dev. of 7 runs, 1 loop each)\n"
     ]
    }
   ],
   "source": [
    "# use of %timeit for measuring the time\n",
    "%timeit just_for_fun(l_rand)"
   ]
  },
  {
   "cell_type": "code",
   "execution_count": 19,
   "id": "corporate-thomson",
   "metadata": {},
   "outputs": [
    {
     "name": "stdout",
     "output_type": "stream",
     "text": [
      "1.64 s ± 13.9 ms per loop (mean ± std. dev. of 7 runs, 1 loop each)\n"
     ]
    }
   ],
   "source": [
    "%timeit just_for_fun(a_rand)"
   ]
  },
  {
   "attachments": {
    "image.png": {
     "image/png": "[encoded data removed]"
    }
   },
   "cell_type": "markdown",
   "id": "included-toronto",
   "metadata": {},
   "source": [
    "![image.png](attachment:image.png)\n",
    "\n",
    "...funktioniert gerade nicht!"
   ]
  },
  {
   "cell_type": "markdown",
   "id": "religious-credit",
   "metadata": {},
   "source": [
    "## 2. UFuncs\n",
    "\n",
    "In unserem Buch ist weiter von den universelle Funktionen, kurz uFunkcs, zu lesen. Probieren wir diese mal aus, ob diese schneller funktionieren."
   ]
  },
  {
   "cell_type": "code",
   "execution_count": 22,
   "id": "armed-stamp",
   "metadata": {},
   "outputs": [
    {
     "name": "stdout",
     "output_type": "stream",
     "text": [
      "102 ms ± 11.1 ms per loop (mean ± std. dev. of 7 runs, 10 loops each)\n"
     ]
    }
   ],
   "source": [
    "%timeit x_long = [np.sin(x) if x % 2 == 0 else np.cos(x) for x in l_long]\n"
   ]
  },
  {
   "cell_type": "code",
   "execution_count": 23,
   "id": "built-railway",
   "metadata": {},
   "outputs": [
    {
     "name": "stdout",
     "output_type": "stream",
     "text": [
      "166 ms ± 1.42 ms per loop (mean ± std. dev. of 7 runs, 10 loops each)\n"
     ]
    }
   ],
   "source": [
    "%timeit x_long = [np.sin(x) if x % 2 == 0 else np.cos(x) for x in a_long]"
   ]
  },
  {
   "cell_type": "code",
   "execution_count": 24,
   "id": "satisfactory-botswana",
   "metadata": {},
   "outputs": [
    {
     "name": "stdout",
     "output_type": "stream",
     "text": [
      "1.62 s ± 25.9 ms per loop (mean ± std. dev. of 7 runs, 1 loop each)\n"
     ]
    }
   ],
   "source": [
    "%timeit x_long = [np.sin(x) if x % 2 == 0 else np.cos(x) for x in l_rand]"
   ]
  },
  {
   "cell_type": "code",
   "execution_count": 25,
   "id": "daily-omega",
   "metadata": {},
   "outputs": [
    {
     "name": "stdout",
     "output_type": "stream",
     "text": [
      "1.6 s ± 14.2 ms per loop (mean ± std. dev. of 7 runs, 1 loop each)\n"
     ]
    }
   ],
   "source": [
    "%timeit x_long = [np.sin(x) if x % 2 == 0 else np.cos(x) for x in l_rand]"
   ]
  },
  {
   "cell_type": "code",
   "execution_count": 26,
   "id": "cordless-hierarchy",
   "metadata": {},
   "outputs": [],
   "source": [
    "def jff(li):\n",
    "    coll = []\n",
    "    for i in li:\n",
    "        coll.append(i/33)\n",
    "        "
   ]
  },
  {
   "cell_type": "code",
   "execution_count": 32,
   "id": "initial-flash",
   "metadata": {},
   "outputs": [
    {
     "name": "stdout",
     "output_type": "stream",
     "text": [
      "22.7 ms ± 307 µs per loop (mean ± std. dev. of 7 runs, 10 loops each)\n"
     ]
    }
   ],
   "source": [
    "# function with for loop\n",
    "%timeit jff(a_long)"
   ]
  },
  {
   "cell_type": "code",
   "execution_count": 31,
   "id": "smaller-earthquake",
   "metadata": {},
   "outputs": [
    {
     "name": "stdout",
     "output_type": "stream",
     "text": [
      "125 µs ± 837 ns per loop (mean ± std. dev. of 7 runs, 10000 loops each)\n"
     ]
    }
   ],
   "source": [
    "# vectorized operation\n",
    "%timeit a_long / 33"
   ]
  },
  {
   "cell_type": "code",
   "execution_count": 40,
   "id": "interstate-study",
   "metadata": {},
   "outputs": [
    {
     "name": "stdout",
     "output_type": "stream",
     "text": [
      "127 µs ± 953 ns per loop (mean ± std. dev. of 7 runs, 10000 loops each)\n"
     ]
    }
   ],
   "source": [
    "# uFunc np.divide()\n",
    "%timeit np.divide(a_long, 33)"
   ]
  },
  {
   "cell_type": "code",
   "execution_count": 41,
   "id": "outstanding-sugar",
   "metadata": {},
   "outputs": [
    {
     "name": "stdout",
     "output_type": "stream",
     "text": [
      "235 ms ± 8.77 ms per loop (mean ± std. dev. of 7 runs, 1 loop each)\n"
     ]
    }
   ],
   "source": [
    "# function with for loop\n",
    "%timeit jff(a_rand)"
   ]
  },
  {
   "cell_type": "code",
   "execution_count": 42,
   "id": "affected-showcase",
   "metadata": {},
   "outputs": [
    {
     "name": "stdout",
     "output_type": "stream",
     "text": [
      "1.89 ms ± 164 µs per loop (mean ± std. dev. of 7 runs, 100 loops each)\n"
     ]
    }
   ],
   "source": [
    "# vectorized operation\n",
    "%timeit a_rand / 33"
   ]
  },
  {
   "cell_type": "code",
   "execution_count": 43,
   "id": "lined-spain",
   "metadata": {},
   "outputs": [
    {
     "name": "stdout",
     "output_type": "stream",
     "text": [
      "1.93 ms ± 88.2 µs per loop (mean ± std. dev. of 7 runs, 1000 loops each)\n"
     ]
    }
   ],
   "source": [
    "# uFunc np.divide()\n",
    "%timeit np.divide(a_rand, 33)"
   ]
  },
  {
   "cell_type": "markdown",
   "id": "neural-metabolism",
   "metadata": {},
   "source": [
    "Hier sieht man einen deutlichen Unterschied von for-Schleife zu einer vectorisierten Operation und uFunc.\n",
    "\n",
    "Mit Listen kann man nur die for-Schleife durchführen. "
   ]
  },
  {
   "cell_type": "code",
   "execution_count": 36,
   "id": "cross-packet",
   "metadata": {},
   "outputs": [
    {
     "name": "stdout",
     "output_type": "stream",
     "text": [
      "7.33 ms ± 124 µs per loop (mean ± std. dev. of 7 runs, 100 loops each)\n"
     ]
    }
   ],
   "source": [
    "# function with for loop\n",
    "%timeit jff(l_long)"
   ]
  },
  {
   "cell_type": "code",
   "execution_count": 37,
   "id": "official-alexandria",
   "metadata": {},
   "outputs": [
    {
     "name": "stdout",
     "output_type": "stream",
     "text": [
      "7.44 ms ± 91.7 µs per loop (mean ± std. dev. of 7 runs, 100 loops each)\n"
     ]
    }
   ],
   "source": [
    "# function with for loop\n",
    "%timeit jff(l_long)"
   ]
  },
  {
   "cell_type": "markdown",
   "id": "representative-gather",
   "metadata": {},
   "source": [
    "## Weitere Funktionen\n",
    "\n",
    "**Operationen**\n",
    "\n",
    "    np.add() - Addition\n",
    "    np.subtract() - Subtraction\n",
    "    np.negative() - Negation\n",
    "    np.muliply() - Muliplikation\n",
    "    np.divide() - Division\n",
    "    np.floor_divide() - Ganzzahldivision\n",
    "    np.power() - Potenzierung\n",
    "    np.mod() - Modulo\n",
    "    \n",
    "**Log und e Funktionen**\n",
    "\n",
    "    np.log() - ln\n",
    "    np.log2() - log2\n",
    "    np.log10() - log10\n",
    "    np.expm1() - e Funktion\n",
    "    \n",
    "\n",
    "    \n",
    "    \n",
    "\n",
    "\n",
    "...und vieles mehr! Studiere hierzu gern das Buch oder suche im Netz!\n",
    "    "
   ]
  },
  {
   "cell_type": "code",
   "execution_count": null,
   "id": "steady-arbitration",
   "metadata": {},
   "outputs": [],
   "source": []
  }
 ],
 "metadata": {
  "kernelspec": {
   "display_name": "Python 3",
   "language": "python",
   "name": "python3"
  },
  "language_info": {
   "codemirror_mode": {
    "name": "ipython",
    "version": 3
   },
   "file_extension": ".py",
   "mimetype": "text/x-python",
   "name": "python",
   "nbconvert_exporter": "python",
   "pygments_lexer": "ipython3",
   "version": "3.8.5"
  }
 },
 "nbformat": 4,
 "nbformat_minor": 5
}
