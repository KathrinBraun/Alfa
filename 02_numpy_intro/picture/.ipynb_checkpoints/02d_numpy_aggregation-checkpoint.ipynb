{
 "cells": [
  {
   "cell_type": "markdown",
   "id": "defined-arbitration",
   "metadata": {},
   "source": [
    "**Aggregationen**\n",
    "\n",
    "    np.sum() / np.nansum() - Summe der Elemente berechnen.\n",
    "    np.prod() / np.nanprod() - Produkt der Elemente berechnen.\n",
    "    np.max() / np.nanmax() - Maximum bestimmen.\n",
    "    np.min() / np.nanmin() - Minimum finden.\n",
    "    np.mean() / np.nanmean() - Mittelwert berechnen.\n",
    "    np.std() / np.nanstd() - Standardabweichung berechnen.\n",
    "    np.var() / np.nanvar() - Varianz berechnen.\n",
    "    np.median() / np.nanmedian() - Median bestimmen.\n",
    "    np.percentile() / np.percentile() - Bestimmt das Quantil.\n",
    "    np.argmin() / np.nanargmin() - Bestimmt den Index mit dem Minimalwert.\n",
    "    np.argmax() / np.nanargmax() - Bestimmt den Index mit dem Maximalwert.\n",
    "    np.any() / n.v. - Testen, ob irgendein Element wahr ist.\n",
    "    np.all() / n.v. - Testen, ob alle Elemente wahr sind.\n",
    "    \n",
    "    (Hinweis: np.nanXXX ist die jeweiligen NaN-fähige Version)"
   ]
  },
  {
   "cell_type": "code",
   "execution_count": 127,
   "id": "interim-reduction",
   "metadata": {},
   "outputs": [],
   "source": [
    "import numpy as np\n",
    "import matplotlib.pyplot as plt\n",
    "\n",
    "# using seed\n",
    "np.random.seed(42)"
   ]
  },
  {
   "cell_type": "markdown",
   "id": "numeric-claim",
   "metadata": {},
   "source": [
    "## Erste Aggregationen\n",
    "\n",
    "Diese Funktionen werden u.a. als statistische Kennzahlen verwendet. Daher wird hier das ein oder andere von der Statistik erläutert.\n"
   ]
  },
  {
   "cell_type": "code",
   "execution_count": 128,
   "id": "welcome-bangkok",
   "metadata": {},
   "outputs": [],
   "source": [
    "# create an array:\n",
    "x_int = np.array([x for x in np.random.randint(-15, 15, size = 1000)])\n",
    "x_norm = np.array([int(x*15) for x in np.random.randn(1000)])\n"
   ]
  },
  {
   "cell_type": "code",
   "execution_count": 129,
   "id": "vanilla-mathematics",
   "metadata": {},
   "outputs": [
    {
     "data": {
      "text/plain": [
       "array([0., 0., 0., 0., 0., 0., 0., 0., 0., 0.])"
      ]
     },
     "execution_count": 129,
     "metadata": {},
     "output_type": "execute_result"
    }
   ],
   "source": [
    "y = np.zeros(1000)\n",
    "y[:10]\n",
    "    "
   ]
  },
  {
   "cell_type": "code",
   "execution_count": 130,
   "id": "introductory-sierra",
   "metadata": {},
   "outputs": [
    {
     "data": {
      "text/plain": [
       "<matplotlib.collections.PathCollection at 0x7eb385dc41c0>"
      ]
     },
     "execution_count": 130,
     "metadata": {},
     "output_type": "execute_result"
    },
    {
     "data": {
      "image/png": "[encoded data removed]",
      "text/plain": [
       "<Figure size 1440x216 with 1 Axes>"
      ]
     },
     "metadata": {
      "needs_background": "light"
     },
     "output_type": "display_data"
    }
   ],
   "source": [
    "plt.figure(figsize = (20, 3))\n",
    "plt.scatter(x_int, y, alpha = 0.4)"
   ]
  },
  {
   "cell_type": "code",
   "execution_count": 131,
   "id": "electrical-migration",
   "metadata": {},
   "outputs": [
    {
     "data": {
      "text/plain": [
       "<matplotlib.collections.PathCollection at 0x7eb385b9fbe0>"
      ]
     },
     "execution_count": 131,
     "metadata": {},
     "output_type": "execute_result"
    },
    {
     "data": {
      "image/png": "[encoded data removed]",
      "text/plain": [
       "<Figure size 1440x216 with 1 Axes>"
      ]
     },
     "metadata": {
      "needs_background": "light"
     },
     "output_type": "display_data"
    }
   ],
   "source": [
    "plt.figure(figsize = (20, 3))\n",
    "plt.scatter(x_norm, y, alpha = 0.4)"
   ]
  },
  {
   "cell_type": "markdown",
   "id": "killing-strip",
   "metadata": {},
   "source": [
    "### 1. sum()\n",
    "\n",
    "Bildet die Summe über alle gewünschten Elemente"
   ]
  },
  {
   "cell_type": "code",
   "execution_count": 132,
   "id": "progressive-first",
   "metadata": {},
   "outputs": [
    {
     "data": {
      "text/plain": [
       "-60"
      ]
     },
     "execution_count": 132,
     "metadata": {},
     "output_type": "execute_result"
    }
   ],
   "source": [
    "np.sum(x_int)"
   ]
  },
  {
   "cell_type": "code",
   "execution_count": 133,
   "id": "optimum-german",
   "metadata": {},
   "outputs": [
    {
     "data": {
      "text/plain": [
       "-60"
      ]
     },
     "execution_count": 133,
     "metadata": {},
     "output_type": "execute_result"
    }
   ],
   "source": [
    "# using aggregation not in \n",
    "x_int.sum()"
   ]
  },
  {
   "cell_type": "code",
   "execution_count": 134,
   "id": "acquired-folder",
   "metadata": {},
   "outputs": [
    {
     "data": {
      "text/plain": [
       "-387"
      ]
     },
     "execution_count": 134,
     "metadata": {},
     "output_type": "execute_result"
    }
   ],
   "source": [
    "np.sum(x_norm)"
   ]
  },
  {
   "cell_type": "markdown",
   "id": "minimal-expense",
   "metadata": {},
   "source": [
    "### 2. prod()\n",
    "\n",
    "Multipliziert alle Elemente miteinander.\n",
    "Hinweis: sobald eine Null als Element existiert, wird das Ergebnis 0 sein."
   ]
  },
  {
   "cell_type": "code",
   "execution_count": 135,
   "id": "photographic-class",
   "metadata": {},
   "outputs": [
    {
     "data": {
      "text/plain": [
       "0"
      ]
     },
     "execution_count": 135,
     "metadata": {},
     "output_type": "execute_result"
    }
   ],
   "source": [
    "np.prod(x_int)"
   ]
  },
  {
   "cell_type": "code",
   "execution_count": 136,
   "id": "foster-cameroon",
   "metadata": {},
   "outputs": [
    {
     "data": {
      "text/plain": [
       "0"
      ]
     },
     "execution_count": 136,
     "metadata": {},
     "output_type": "execute_result"
    }
   ],
   "source": [
    "np.prod(x_norm)"
   ]
  },
  {
   "cell_type": "markdown",
   "id": "soviet-algeria",
   "metadata": {},
   "source": [
    "### 3. max() / min()\n",
    "\n",
    "Gibt den größten Wert wieder:"
   ]
  },
  {
   "cell_type": "code",
   "execution_count": 137,
   "id": "assumed-bachelor",
   "metadata": {},
   "outputs": [
    {
     "data": {
      "text/plain": [
       "14"
      ]
     },
     "execution_count": 137,
     "metadata": {},
     "output_type": "execute_result"
    }
   ],
   "source": [
    "np.max(x_int)"
   ]
  },
  {
   "cell_type": "code",
   "execution_count": 138,
   "id": "owned-action",
   "metadata": {},
   "outputs": [
    {
     "data": {
      "text/plain": [
       "-52"
      ]
     },
     "execution_count": 138,
     "metadata": {},
     "output_type": "execute_result"
    }
   ],
   "source": [
    "np.min(x_norm)"
   ]
  },
  {
   "cell_type": "markdown",
   "id": "israeli-static",
   "metadata": {},
   "source": [
    "### 4. mean()\n",
    "\n",
    "Gibt den arithmetischen Mittelwert wieder:\n",
    "\n",
    "$$ \\mu = \\frac{1}{n} \\sum_{i=0}^n x_i = \\frac{x_0 + x_1 + ... + x_n}{n}$$\n"
   ]
  },
  {
   "cell_type": "code",
   "execution_count": 139,
   "id": "appropriate-government",
   "metadata": {},
   "outputs": [
    {
     "data": {
      "text/plain": [
       "-0.06"
      ]
     },
     "execution_count": 139,
     "metadata": {},
     "output_type": "execute_result"
    }
   ],
   "source": [
    "np.mean(x_int)"
   ]
  },
  {
   "cell_type": "code",
   "execution_count": 140,
   "id": "assisted-victor",
   "metadata": {},
   "outputs": [
    {
     "data": {
      "text/plain": [
       "-0.387"
      ]
     },
     "execution_count": 140,
     "metadata": {},
     "output_type": "execute_result"
    }
   ],
   "source": [
    "np.mean(x_norm)"
   ]
  },
  {
   "cell_type": "markdown",
   "id": "ordinary-governor",
   "metadata": {},
   "source": [
    "### 5. median()\n",
    "\n",
    "Gibt den mittlersten Wert an:"
   ]
  },
  {
   "cell_type": "code",
   "execution_count": 141,
   "id": "alleged-testing",
   "metadata": {},
   "outputs": [
    {
     "data": {
      "text/plain": [
       "0.0"
      ]
     },
     "execution_count": 141,
     "metadata": {},
     "output_type": "execute_result"
    }
   ],
   "source": [
    "np.median(x_int)"
   ]
  },
  {
   "cell_type": "code",
   "execution_count": 142,
   "id": "wrong-namibia",
   "metadata": {},
   "outputs": [
    {
     "data": {
      "text/plain": [
       "0.0"
      ]
     },
     "execution_count": 142,
     "metadata": {},
     "output_type": "execute_result"
    }
   ],
   "source": [
    "np.median(x_norm)"
   ]
  },
  {
   "cell_type": "markdown",
   "id": "second-accountability",
   "metadata": {},
   "source": [
    "### 6. any()\n",
    "\n",
    "Gibt an, ob irgend ein Element den Wert erfüllt."
   ]
  },
  {
   "cell_type": "code",
   "execution_count": 143,
   "id": "junior-allowance",
   "metadata": {},
   "outputs": [
    {
     "data": {
      "text/plain": [
       "True"
      ]
     },
     "execution_count": 143,
     "metadata": {},
     "output_type": "execute_result"
    }
   ],
   "source": [
    "np.any(x_int == 0)"
   ]
  },
  {
   "cell_type": "code",
   "execution_count": 144,
   "id": "regulated-forest",
   "metadata": {},
   "outputs": [
    {
     "data": {
      "text/plain": [
       "False"
      ]
     },
     "execution_count": 144,
     "metadata": {},
     "output_type": "execute_result"
    }
   ],
   "source": [
    "np.any(x_int > 30)"
   ]
  },
  {
   "cell_type": "markdown",
   "id": "running-merchant",
   "metadata": {},
   "source": [
    "### 7. all()\n",
    "\n",
    "Gibt an, ob alle Elemente den Wert erfüllen."
   ]
  },
  {
   "cell_type": "code",
   "execution_count": 145,
   "id": "racial-institute",
   "metadata": {},
   "outputs": [
    {
     "data": {
      "text/plain": [
       "False"
      ]
     },
     "execution_count": 145,
     "metadata": {},
     "output_type": "execute_result"
    }
   ],
   "source": [
    "np.all(x_int == 0)"
   ]
  },
  {
   "cell_type": "code",
   "execution_count": 146,
   "id": "equivalent-breakfast",
   "metadata": {},
   "outputs": [
    {
     "data": {
      "text/plain": [
       "True"
      ]
     },
     "execution_count": 146,
     "metadata": {},
     "output_type": "execute_result"
    }
   ],
   "source": [
    "np.all(x_int > -20)"
   ]
  },
  {
   "cell_type": "markdown",
   "id": "saving-committee",
   "metadata": {},
   "source": [
    "## Histogramm"
   ]
  },
  {
   "cell_type": "markdown",
   "id": "australian-diesel",
   "metadata": {},
   "source": [
    "#### nice to find colors:\n",
    "\n",
    "https://www.w3schools.com/colors/default.asp\n",
    "\n",
    "https://matplotlib.org/stable/gallery/color/named_colors.html"
   ]
  },
  {
   "cell_type": "code",
   "execution_count": 147,
   "id": "grave-ladder",
   "metadata": {},
   "outputs": [],
   "source": [
    "# define list of colors\n",
    "colors = ['#6495ED', '#008B8B', '#8B008B', '#2F4F4F', '#FFD700']"
   ]
  },
  {
   "cell_type": "code",
   "execution_count": 148,
   "id": "military-pregnancy",
   "metadata": {},
   "outputs": [
    {
     "data": {
      "text/plain": [
       "<matplotlib.collections.PathCollection at 0x7eb385a037f0>"
      ]
     },
     "execution_count": 148,
     "metadata": {},
     "output_type": "execute_result"
    },
    {
     "data": {
      "image/png": "[encoded data removed]",
      "text/plain": [
       "<Figure size 1440x216 with 1 Axes>"
      ]
     },
     "metadata": {
      "needs_background": "light"
     },
     "output_type": "display_data"
    }
   ],
   "source": [
    "plt.figure(figsize = (20, 3))\n",
    "plt.scatter(x_int, y = [0 for x in x_int], alpha = 0.4, color = colors[0])"
   ]
  },
  {
   "cell_type": "code",
   "execution_count": 149,
   "id": "accurate-image",
   "metadata": {},
   "outputs": [
    {
     "data": {
      "image/png": "[encoded data removed]",
      "text/plain": [
       "<Figure size 1080x360 with 1 Axes>"
      ]
     },
     "metadata": {
      "needs_background": "light"
     },
     "output_type": "display_data"
    }
   ],
   "source": [
    "# histogram with random integers\n",
    "plt.figure(figsize = (15, 5))\n",
    "plt.hist(x_int, color = colors[0]);"
   ]
  },
  {
   "cell_type": "code",
   "execution_count": 150,
   "id": "monetary-talent",
   "metadata": {},
   "outputs": [
    {
     "data": {
      "text/plain": [
       "<matplotlib.collections.PathCollection at 0x7eb385e246d0>"
      ]
     },
     "execution_count": 150,
     "metadata": {},
     "output_type": "execute_result"
    },
    {
     "data": {
      "image/png": "[encoded data removed]",
      "text/plain": [
       "<Figure size 1440x216 with 1 Axes>"
      ]
     },
     "metadata": {
      "needs_background": "light"
     },
     "output_type": "display_data"
    }
   ],
   "source": [
    "plt.figure(figsize = (20, 3))\n",
    "plt.scatter(x_norm, y = [0 for x in x_norm], alpha = 0.4, color = colors[1])"
   ]
  },
  {
   "cell_type": "code",
   "execution_count": 151,
   "id": "southern-alignment",
   "metadata": {},
   "outputs": [
    {
     "data": {
      "image/png": "[encoded data removed]",
      "text/plain": [
       "<Figure size 1080x360 with 1 Axes>"
      ]
     },
     "metadata": {
      "needs_background": "light"
     },
     "output_type": "display_data"
    }
   ],
   "source": [
    "# histogram with random norm numbers\n",
    "plt.figure(figsize = (15, 5))\n",
    "plt.hist(x_norm, color = colors[1]);"
   ]
  },
  {
   "cell_type": "code",
   "execution_count": 152,
   "id": "turkish-bearing",
   "metadata": {},
   "outputs": [
    {
     "data": {
      "image/png": "[encoded data removed]",
      "text/plain": [
       "<Figure size 1080x360 with 1 Axes>"
      ]
     },
     "metadata": {
      "needs_background": "light"
     },
     "output_type": "display_data"
    }
   ],
   "source": [
    "# histogram with random norm numbers\n",
    "plt.figure(figsize = (15, 5))\n",
    "plt.hist(x_norm, bins = 20, color = colors[1]);"
   ]
  },
  {
   "cell_type": "code",
   "execution_count": 153,
   "id": "fifth-depth",
   "metadata": {},
   "outputs": [
    {
     "data": {
      "image/png": "[encoded data removed]",
      "text/plain": [
       "<Figure size 2160x360 with 1 Axes>"
      ]
     },
     "metadata": {
      "needs_background": "light"
     },
     "output_type": "display_data"
    }
   ],
   "source": [
    "# histogram with random norm numbers\n",
    "plt.figure(figsize = (30, 5))\n",
    "plt.hist(x_norm, bins = 20, color = colors[1]);"
   ]
  },
  {
   "cell_type": "code",
   "execution_count": 154,
   "id": "tracked-philadelphia",
   "metadata": {},
   "outputs": [
    {
     "data": {
      "image/png": "[encoded data removed]",
      "text/plain": [
       "<Figure size 14400x360 with 1 Axes>"
      ]
     },
     "metadata": {
      "needs_background": "light"
     },
     "output_type": "display_data"
    }
   ],
   "source": [
    "# histogram with random norm numbers\n",
    "plt.figure(figsize = (200, 5))\n",
    "plt.hist(x_norm, bins = 20, color = colors[1]);"
   ]
  },
  {
   "cell_type": "code",
   "execution_count": null,
   "id": "loving-elizabeth",
   "metadata": {},
   "outputs": [],
   "source": []
  },
  {
   "cell_type": "code",
   "execution_count": 155,
   "id": "tutorial-advantage",
   "metadata": {},
   "outputs": [
    {
     "data": {
      "image/png": "[encoded data removed]",
      "text/plain": [
       "<Figure size 432x288 with 1 Axes>"
      ]
     },
     "metadata": {
      "needs_background": "light"
     },
     "output_type": "display_data"
    }
   ],
   "source": [
    "y = np.sin(x_norm)\n",
    "plt.scatter(x_norm, y, alpha = 0.3, color = colors[2]);"
   ]
  },
  {
   "cell_type": "code",
   "execution_count": 156,
   "id": "reverse-yahoo",
   "metadata": {},
   "outputs": [
    {
     "data": {
      "image/png": "[encoded data removed]",
      "text/plain": [
       "<Figure size 432x288 with 1 Axes>"
      ]
     },
     "metadata": {
      "needs_background": "light"
     },
     "output_type": "display_data"
    }
   ],
   "source": [
    "plt.hist(y, bins = 30, color = colors[2]);"
   ]
  },
  {
   "cell_type": "code",
   "execution_count": 157,
   "id": "critical-vegetation",
   "metadata": {},
   "outputs": [
    {
     "data": {
      "image/png": "[encoded data removed]",
      "text/plain": [
       "<Figure size 432x288 with 1 Axes>"
      ]
     },
     "metadata": {
      "needs_background": "light"
     },
     "output_type": "display_data"
    }
   ],
   "source": [
    "y_2 = x_norm ** 3 \n",
    "plt.scatter(x_norm, y_2, alpha = 0.3, color = colors[3]);"
   ]
  },
  {
   "cell_type": "code",
   "execution_count": 158,
   "id": "centered-allergy",
   "metadata": {},
   "outputs": [
    {
     "data": {
      "image/png": "[encoded data removed]",
      "text/plain": [
       "<Figure size 432x288 with 1 Axes>"
      ]
     },
     "metadata": {
      "needs_background": "light"
     },
     "output_type": "display_data"
    }
   ],
   "source": [
    "plt.hist(y_2, bins = 30, color = colors[3]);"
   ]
  },
  {
   "cell_type": "code",
   "execution_count": null,
   "id": "middle-country",
   "metadata": {},
   "outputs": [],
   "source": []
  },
  {
   "cell_type": "code",
   "execution_count": null,
   "id": "acting-truth",
   "metadata": {},
   "outputs": [],
   "source": []
  },
  {
   "cell_type": "code",
   "execution_count": null,
   "id": "focused-hospital",
   "metadata": {},
   "outputs": [],
   "source": []
  }
 ],
 "metadata": {
  "kernelspec": {
   "display_name": "Python 3",
   "language": "python",
   "name": "python3"
  },
  "language_info": {
   "codemirror_mode": {
    "name": "ipython",
    "version": 3
   },
   "file_extension": ".py",
   "mimetype": "text/x-python",
   "name": "python",
   "nbconvert_exporter": "python",
   "pygments_lexer": "ipython3",
   "version": "3.8.5"
  }
 },
 "nbformat": 4,
 "nbformat_minor": 5
}
