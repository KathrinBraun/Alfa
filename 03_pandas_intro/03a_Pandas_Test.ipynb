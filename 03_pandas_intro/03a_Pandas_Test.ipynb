{
 "cells": [
  {
   "attachments": {
    "image.png": {
     "image/png": "[encoded data removed]"
    }
   },
   "cell_type": "markdown",
   "id": "e675b278",
   "metadata": {},
   "source": [
    "## Pandas\n",
    "\n",
    "<br>\n",
    "\n",
    "![image.png](attachment:image.png)\n",
    "\n",
    "<br>\n",
    "<br>\n",
    "\n",
    "Pandas ist eine Bibliothek, die auf NumPy aufbaut. Generell wird Pandas benutzt um eine effiziente DataFrame-Implementierung durch zuführen und diese zu Bearbeiten.\n",
    "\n",
    "Pandas wird von **Pan**el-**Da**ta abgeleitet. Es arbeitet insbesondere mit 2 Datentypen:\n",
    "\n",
    "* **Series**: Ein Data Array mit einem benannten Index.\n",
    "* **DataFrame**: Eine \"Matrix\", welche benannte Indizes und Spalten besitzt.\n",
    "\n",
    "Da Pandas auf NumPy aufbaut, benötigt man die Bibliotheken von Pandas wie auch von NumPy."
   ]
  },
  {
   "cell_type": "code",
   "execution_count": 1,
   "id": "ab7d14ec",
   "metadata": {},
   "outputs": [
    {
     "data": {
      "text/plain": [
       "'1.20.1'"
      ]
     },
     "execution_count": 1,
     "metadata": {},
     "output_type": "execute_result"
    }
   ],
   "source": [
    "# import of package\n",
    "import pandas as pd\n",
    "import numpy as pd\n",
    "pd.__version__"
   ]
  },
  {
   "cell_type": "code",
   "execution_count": 4,
   "id": "e4ff1ff5",
   "metadata": {},
   "outputs": [
    {
     "data": {
      "text/plain": [
       "0    0.25\n",
       "1    0.50\n",
       "2    0.75\n",
       "3    1.00\n",
       "dtype: float64"
      ]
     },
     "execution_count": 4,
     "metadata": {},
     "output_type": "execute_result"
    }
   ],
   "source": [
    "# pandas Series object as single array\n",
    "data = pd.Series([0.25, 0.5, 0.75, 1.0])\n",
    "data"
   ]
  },
  {
   "cell_type": "markdown",
   "id": "bdbab7c8",
   "metadata": {},
   "source": [
    "### Pandas Series"
   ]
  },
  {
   "cell_type": "code",
   "execution_count": 7,
   "id": "ac6649ee",
   "metadata": {},
   "outputs": [
    {
     "data": {
      "text/plain": [
       "array([0.25, 0.5 , 0.75, 1.  ])"
      ]
     },
     "execution_count": 7,
     "metadata": {},
     "output_type": "execute_result"
    }
   ],
   "source": [
    "# grab on values\n",
    "data.values"
   ]
  },
  {
   "cell_type": "code",
   "execution_count": 8,
   "id": "bee40d8f",
   "metadata": {},
   "outputs": [
    {
     "data": {
      "text/plain": [
       "RangeIndex(start=0, stop=4, step=1)"
      ]
     },
     "execution_count": 8,
     "metadata": {},
     "output_type": "execute_result"
    }
   ],
   "source": [
    "# grab on index\n",
    "data.index"
   ]
  },
  {
   "cell_type": "code",
   "execution_count": 10,
   "id": "3a916f35",
   "metadata": {},
   "outputs": [
    {
     "data": {
      "text/plain": [
       "0.75"
      ]
     },
     "execution_count": 10,
     "metadata": {},
     "output_type": "execute_result"
    }
   ],
   "source": [
    "# grab by using []\n",
    "data[2]"
   ]
  },
  {
   "cell_type": "markdown",
   "id": "efe030c5",
   "metadata": {},
   "source": [
    "Die Besonderheit gegenüber einem NumPy Array ist, dass die Panda Series einen Index hat."
   ]
  },
  {
   "cell_type": "code",
   "execution_count": 11,
   "id": "25f50aa4",
   "metadata": {},
   "outputs": [
    {
     "data": {
      "text/plain": [
       "a    0.25\n",
       "b    0.50\n",
       "c    0.75\n",
       "d    1.00\n",
       "dtype: float64"
      ]
     },
     "execution_count": 11,
     "metadata": {},
     "output_type": "execute_result"
    }
   ],
   "source": [
    "# indexing \n",
    "data = pd.Series([0.25, 0.5, 0.75, 1.0],\n",
    "                index = ['a', 'b', 'c', 'd'])\n",
    "data"
   ]
  },
  {
   "cell_type": "code",
   "execution_count": 12,
   "id": "dd9ce536",
   "metadata": {},
   "outputs": [
    {
     "data": {
      "text/plain": [
       "0.5"
      ]
     },
     "execution_count": 12,
     "metadata": {},
     "output_type": "execute_result"
    }
   ],
   "source": [
    "data['b']"
   ]
  },
  {
   "cell_type": "code",
   "execution_count": 13,
   "id": "38724ad7",
   "metadata": {},
   "outputs": [
    {
     "data": {
      "text/plain": [
       "0.5"
      ]
     },
     "execution_count": 13,
     "metadata": {},
     "output_type": "execute_result"
    }
   ],
   "source": [
    "data[1]"
   ]
  },
  {
   "cell_type": "markdown",
   "id": "4d49097f",
   "metadata": {},
   "source": [
    "### Series als spezialiliertes Dictionary"
   ]
  },
  {
   "cell_type": "code",
   "execution_count": 17,
   "id": "a1e1ab33",
   "metadata": {},
   "outputs": [
    {
     "data": {
      "text/plain": [
       "{'cow': 150, 'elefant': 2000, 'monkey': 23}"
      ]
     },
     "execution_count": 17,
     "metadata": {},
     "output_type": "execute_result"
    }
   ],
   "source": [
    "# create dictionary\n",
    "animal_weight_dict = {'cow': 150,\n",
    "               'elefant': 2000,\n",
    "                'monkey': 23}\n",
    "animal_weight_dict"
   ]
  },
  {
   "cell_type": "code",
   "execution_count": 19,
   "id": "f29a4831",
   "metadata": {},
   "outputs": [
    {
     "data": {
      "text/plain": [
       "cow         150\n",
       "elefant    2000\n",
       "monkey       23\n",
       "dtype: int64"
      ]
     },
     "execution_count": 19,
     "metadata": {},
     "output_type": "execute_result"
    }
   ],
   "source": [
    "# transform dictionary to a series\n",
    "\n",
    "animal_weight_series = pd.Series(animal_weight_dict)\n",
    "animal_weight_series"
   ]
  },
  {
   "cell_type": "markdown",
   "id": "150a0d86",
   "metadata": {},
   "source": [
    "### Pandas DataFrame Objekt"
   ]
  },
  {
   "cell_type": "code",
   "execution_count": 20,
   "id": "d088943c",
   "metadata": {},
   "outputs": [
    {
     "data": {
      "text/plain": [
       "{'cow': 'brown', 'elefant': 'grey', 'monkey': 'black'}"
      ]
     },
     "execution_count": 20,
     "metadata": {},
     "output_type": "execute_result"
    }
   ],
   "source": [
    "# second dictionary\n",
    "animal_color_dict = {'cow': 'brown',\n",
    "                    'elefant': 'grey',\n",
    "                    'monkey': 'black'}\n",
    "\n",
    "animal_color_dict"
   ]
  },
  {
   "cell_type": "code",
   "execution_count": 22,
   "id": "9e1f331f",
   "metadata": {},
   "outputs": [
    {
     "data": {
      "text/plain": [
       "cow        brown\n",
       "elefant     grey\n",
       "monkey     black\n",
       "dtype: object"
      ]
     },
     "execution_count": 22,
     "metadata": {},
     "output_type": "execute_result"
    }
   ],
   "source": [
    "# transform dictionary to a series\n",
    "animal_color_series = pd.Series(animal_color_dict)\n",
    "animal_color_series"
   ]
  },
  {
   "cell_type": "code",
   "execution_count": 23,
   "id": "52764c23",
   "metadata": {},
   "outputs": [
    {
     "data": {
      "text/html": [
       "<div>\n",
       "<style scoped>\n",
       "    .dataframe tbody tr th:only-of-type {\n",
       "        vertical-align: middle;\n",
       "    }\n",
       "\n",
       "    .dataframe tbody tr th {\n",
       "        vertical-align: top;\n",
       "    }\n",
       "\n",
       "    .dataframe thead th {\n",
       "        text-align: right;\n",
       "    }\n",
       "</style>\n",
       "<table border=\"1\" class=\"dataframe\">\n",
       "  <thead>\n",
       "    <tr style=\"text-align: right;\">\n",
       "      <th></th>\n",
       "      <th>weight</th>\n",
       "      <th>color</th>\n",
       "    </tr>\n",
       "  </thead>\n",
       "  <tbody>\n",
       "    <tr>\n",
       "      <th>cow</th>\n",
       "      <td>150</td>\n",
       "      <td>brown</td>\n",
       "    </tr>\n",
       "    <tr>\n",
       "      <th>elefant</th>\n",
       "      <td>2000</td>\n",
       "      <td>grey</td>\n",
       "    </tr>\n",
       "    <tr>\n",
       "      <th>monkey</th>\n",
       "      <td>23</td>\n",
       "      <td>black</td>\n",
       "    </tr>\n",
       "  </tbody>\n",
       "</table>\n",
       "</div>"
      ],
      "text/plain": [
       "         weight  color\n",
       "cow         150  brown\n",
       "elefant    2000   grey\n",
       "monkey       23  black"
      ]
     },
     "execution_count": 23,
     "metadata": {},
     "output_type": "execute_result"
    }
   ],
   "source": [
    "# put both dictionary together in a DataFrame Object\n",
    "animal = pd.DataFrame({'weight': animal_weight_dict, 'color': animal_color_dict})\n",
    "animal"
   ]
  },
  {
   "cell_type": "code",
   "execution_count": 24,
   "id": "6af67496",
   "metadata": {},
   "outputs": [
    {
     "data": {
      "text/plain": [
       "Index(['cow', 'elefant', 'monkey'], dtype='object')"
      ]
     },
     "execution_count": 24,
     "metadata": {},
     "output_type": "execute_result"
    }
   ],
   "source": [
    "# asking about index\n",
    "animal.index"
   ]
  },
  {
   "cell_type": "code",
   "execution_count": 25,
   "id": "19c4a7c3",
   "metadata": {},
   "outputs": [
    {
     "data": {
      "text/plain": [
       "Index(['weight', 'color'], dtype='object')"
      ]
     },
     "execution_count": 25,
     "metadata": {},
     "output_type": "execute_result"
    }
   ],
   "source": [
    "# asking about name of columns\n",
    "animal.columns"
   ]
  },
  {
   "cell_type": "markdown",
   "id": "0a357a54",
   "metadata": {},
   "source": [
    "### DataFrame anhand einer Liste von Dictionarys erzeugen"
   ]
  },
  {
   "cell_type": "code",
   "execution_count": 27,
   "id": "9c717876",
   "metadata": {},
   "outputs": [
    {
     "data": {
      "text/plain": [
       "[{'a': 0, 'b': 0, 'c': 0.0},\n",
       " {'a': 1, 'b': 3, 'c': 0.2},\n",
       " {'a': 4, 'b': 6, 'c': 0.4},\n",
       " {'a': 9, 'b': 9, 'c': 0.6}]"
      ]
     },
     "execution_count": 27,
     "metadata": {},
     "output_type": "execute_result"
    }
   ],
   "source": [
    "data_dic = [{'a': i**2, 'b': i * 3, 'c': i /5} for i in range(4)]\n",
    "data_dic"
   ]
  },
  {
   "cell_type": "code",
   "execution_count": 28,
   "id": "a3fde627",
   "metadata": {},
   "outputs": [
    {
     "data": {
      "text/html": [
       "<div>\n",
       "<style scoped>\n",
       "    .dataframe tbody tr th:only-of-type {\n",
       "        vertical-align: middle;\n",
       "    }\n",
       "\n",
       "    .dataframe tbody tr th {\n",
       "        vertical-align: top;\n",
       "    }\n",
       "\n",
       "    .dataframe thead th {\n",
       "        text-align: right;\n",
       "    }\n",
       "</style>\n",
       "<table border=\"1\" class=\"dataframe\">\n",
       "  <thead>\n",
       "    <tr style=\"text-align: right;\">\n",
       "      <th></th>\n",
       "      <th>a</th>\n",
       "      <th>b</th>\n",
       "      <th>c</th>\n",
       "    </tr>\n",
       "  </thead>\n",
       "  <tbody>\n",
       "    <tr>\n",
       "      <th>0</th>\n",
       "      <td>0</td>\n",
       "      <td>0</td>\n",
       "      <td>0.0</td>\n",
       "    </tr>\n",
       "    <tr>\n",
       "      <th>1</th>\n",
       "      <td>1</td>\n",
       "      <td>3</td>\n",
       "      <td>0.2</td>\n",
       "    </tr>\n",
       "    <tr>\n",
       "      <th>2</th>\n",
       "      <td>4</td>\n",
       "      <td>6</td>\n",
       "      <td>0.4</td>\n",
       "    </tr>\n",
       "    <tr>\n",
       "      <th>3</th>\n",
       "      <td>9</td>\n",
       "      <td>9</td>\n",
       "      <td>0.6</td>\n",
       "    </tr>\n",
       "  </tbody>\n",
       "</table>\n",
       "</div>"
      ],
      "text/plain": [
       "   a  b    c\n",
       "0  0  0  0.0\n",
       "1  1  3  0.2\n",
       "2  4  6  0.4\n",
       "3  9  9  0.6"
      ]
     },
     "execution_count": 28,
     "metadata": {},
     "output_type": "execute_result"
    }
   ],
   "source": [
    "data_df = pd.DataFrame(data_dic)\n",
    "data_df"
   ]
  },
  {
   "cell_type": "code",
   "execution_count": null,
   "id": "35e844bb",
   "metadata": {},
   "outputs": [],
   "source": []
  }
 ],
 "metadata": {
  "kernelspec": {
   "display_name": "Python 3",
   "language": "python",
   "name": "python3"
  },
  "language_info": {
   "codemirror_mode": {
    "name": "ipython",
    "version": 3
   },
   "file_extension": ".py",
   "mimetype": "text/x-python",
   "name": "python",
   "nbconvert_exporter": "python",
   "pygments_lexer": "ipython3",
   "version": "3.8.5"
  }
 },
 "nbformat": 4,
 "nbformat_minor": 5
}
