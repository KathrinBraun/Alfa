{
 "cells": [
  {
   "cell_type": "markdown",
   "id": "f3b1c9a5",
   "metadata": {},
   "source": [
    "### Fische\n",
    "\n",
    "In diesem Datenset sind verschiedene Fischarten vorhanden.\n",
    "\n",
    "Beschreibung der Daten:\n",
    "\n",
    "| Name | Beschreibung |\n",
    "|---|---|\n",
    "| Species | Name der Fischart |\n",
    "| Weight | Gewicht des Fisches in gr |\n",
    "| Length1 | Vertikale Länge des Fisches in cm |\n",
    "| Length2 | Diagonale Länge des Fisches in cm |\n",
    "| Length3 | Querschnitt des Fisches in cm |\n",
    "| Height | Größe des Fisches in cm |\n",
    "| Width | Breite des Fisches in cm |"
   ]
  },
  {
   "cell_type": "code",
   "execution_count": 86,
   "id": "37386f6f",
   "metadata": {},
   "outputs": [],
   "source": [
    "# import packages\n"
   ]
  },
  {
   "cell_type": "code",
   "execution_count": 87,
   "id": "f1eff933",
   "metadata": {},
   "outputs": [],
   "source": [
    "# load data\n"
   ]
  },
  {
   "cell_type": "markdown",
   "id": "dc153bd6",
   "metadata": {},
   "source": [
    "### Durchführung Data Minung & EDA"
   ]
  },
  {
   "cell_type": "code",
   "execution_count": null,
   "id": "1cc8e19a",
   "metadata": {},
   "outputs": [],
   "source": []
  },
  {
   "cell_type": "code",
   "execution_count": null,
   "id": "8e6ebe23",
   "metadata": {},
   "outputs": [],
   "source": []
  },
  {
   "cell_type": "code",
   "execution_count": 88,
   "id": "d4be8c0a",
   "metadata": {},
   "outputs": [],
   "source": [
    "# rename Length1 + 2 + 3 in Vertical, Diagonal and Cross\n"
   ]
  },
  {
   "cell_type": "code",
   "execution_count": null,
   "id": "6a7a945d",
   "metadata": {},
   "outputs": [],
   "source": []
  },
  {
   "cell_type": "code",
   "execution_count": null,
   "id": "4a2aa078",
   "metadata": {},
   "outputs": [],
   "source": []
  },
  {
   "cell_type": "code",
   "execution_count": null,
   "id": "3aafa3a2",
   "metadata": {},
   "outputs": [],
   "source": []
  },
  {
   "cell_type": "code",
   "execution_count": null,
   "id": "5acb2385",
   "metadata": {},
   "outputs": [],
   "source": []
  },
  {
   "cell_type": "markdown",
   "id": "c67c4cf5-c7e7-4c1f-b252-e13f7d687e0b",
   "metadata": {},
   "source": [
    "### Fertigen Sie ein Pairplot mit Unterscheidung der Species an. Diskutieren Sie das Ergebnis."
   ]
  },
  {
   "cell_type": "code",
   "execution_count": null,
   "id": "3b7c606b",
   "metadata": {},
   "outputs": [],
   "source": []
  },
  {
   "cell_type": "code",
   "execution_count": null,
   "id": "063d625b",
   "metadata": {},
   "outputs": [],
   "source": []
  },
  {
   "cell_type": "markdown",
   "id": "18fb70ad-b55d-4de8-abf4-63fe4acfa15e",
   "metadata": {},
   "source": [
    "### Erstellen Sie je Species eine Correlationsmatrix visuell (wenn möglich Subplots verwenden). Werden Ihre Annahmen von dem Pairplot bestätigt?"
   ]
  },
  {
   "cell_type": "code",
   "execution_count": null,
   "id": "a8b5736a-7154-467a-a642-1b3d5f807e6f",
   "metadata": {},
   "outputs": [],
   "source": []
  },
  {
   "cell_type": "code",
   "execution_count": null,
   "id": "3c44e0d9-2789-4c78-961f-b30b0736eb91",
   "metadata": {},
   "outputs": [],
   "source": []
  },
  {
   "cell_type": "code",
   "execution_count": null,
   "id": "2224a8d0",
   "metadata": {},
   "outputs": [],
   "source": []
  },
  {
   "cell_type": "code",
   "execution_count": null,
   "id": "fba10c25",
   "metadata": {},
   "outputs": [],
   "source": []
  },
  {
   "cell_type": "code",
   "execution_count": null,
   "id": "e5ffd671",
   "metadata": {},
   "outputs": [],
   "source": []
  },
  {
   "cell_type": "markdown",
   "id": "3aaa7103-d207-4554-8fba-8b501f7fe094",
   "metadata": {},
   "source": [
    "### Wieviel Fische je Fischart existieren? Erstellen Sie ein Pie-Plot und eine deskriptive Statistik."
   ]
  },
  {
   "cell_type": "code",
   "execution_count": null,
   "id": "d54755ba",
   "metadata": {},
   "outputs": [],
   "source": []
  },
  {
   "cell_type": "code",
   "execution_count": null,
   "id": "234219f8",
   "metadata": {},
   "outputs": [],
   "source": []
  },
  {
   "cell_type": "code",
   "execution_count": null,
   "id": "945515d1",
   "metadata": {},
   "outputs": [],
   "source": []
  },
  {
   "cell_type": "code",
   "execution_count": null,
   "id": "82821962",
   "metadata": {},
   "outputs": [],
   "source": []
  },
  {
   "cell_type": "markdown",
   "id": "69838a97-8994-425e-a888-f1191a88f8db",
   "metadata": {},
   "source": [
    "### Erstellen Sie für Weight, Vertical, Diagonal, Cross, Height und Width je ein Plot indem je Species die Ausreißer feststellbar sind."
   ]
  },
  {
   "cell_type": "code",
   "execution_count": null,
   "id": "748c95a0",
   "metadata": {},
   "outputs": [],
   "source": [
    "\n"
   ]
  },
  {
   "cell_type": "code",
   "execution_count": null,
   "id": "d3904a9a",
   "metadata": {},
   "outputs": [],
   "source": []
  },
  {
   "cell_type": "code",
   "execution_count": null,
   "id": "6466abb4-470b-462b-bcee-e961af4607f9",
   "metadata": {},
   "outputs": [],
   "source": []
  },
  {
   "cell_type": "code",
   "execution_count": null,
   "id": "4465931e",
   "metadata": {},
   "outputs": [],
   "source": []
  },
  {
   "cell_type": "code",
   "execution_count": null,
   "id": "fdc44e1a",
   "metadata": {},
   "outputs": [],
   "source": []
  },
  {
   "cell_type": "code",
   "execution_count": null,
   "id": "b8d6e4e8",
   "metadata": {},
   "outputs": [],
   "source": [
    "\n"
   ]
  },
  {
   "cell_type": "code",
   "execution_count": null,
   "id": "0008511a-46fb-4206-9b73-ade0466f47ad",
   "metadata": {},
   "outputs": [],
   "source": []
  },
  {
   "cell_type": "markdown",
   "id": "77077224-c680-43cb-af60-0f6cb503135d",
   "metadata": {},
   "source": [
    "### Versuchen Sie 3 \"lmplot\" in ein Subplot darzustellen (z.B. Vertical/Weight, Diagonal/Height und Width/Weight. Jeweils in Unterscheidung mit Species)\n",
    "\n",
    "Hinweis: der lmplot akzeptiert nicht ax. Daher muss eine andere Lösung gefunden werden. Dauert vermutlich etwas länger. Daher diese Aufgabe erst als Zusatz machen."
   ]
  },
  {
   "cell_type": "code",
   "execution_count": null,
   "id": "9a69187b-d0bb-43d5-9240-dc97fbee3e31",
   "metadata": {},
   "outputs": [],
   "source": []
  },
  {
   "cell_type": "code",
   "execution_count": null,
   "id": "0ada45c2-38b3-4499-84f0-a2540186b6c7",
   "metadata": {},
   "outputs": [],
   "source": []
  },
  {
   "cell_type": "code",
   "execution_count": null,
   "id": "919e4dcb-c562-403b-b6c2-8e077ddb624c",
   "metadata": {},
   "outputs": [],
   "source": []
  },
  {
   "cell_type": "code",
   "execution_count": null,
   "id": "36e7c831-a3f5-4a54-b80b-797c5db0048b",
   "metadata": {},
   "outputs": [],
   "source": []
  },
  {
   "cell_type": "code",
   "execution_count": null,
   "id": "65dd0f24-3871-4bc7-b66c-b6e0965fa76f",
   "metadata": {},
   "outputs": [],
   "source": []
  },
  {
   "cell_type": "code",
   "execution_count": null,
   "id": "6a96d970-1082-4358-9a85-60601fe15605",
   "metadata": {},
   "outputs": [],
   "source": []
  },
  {
   "cell_type": "markdown",
   "id": "fa8577fc",
   "metadata": {},
   "source": [
    "## Hypothese\n",
    "\n",
    "Wenn wir auf die Vertikale Länge jeder Fischart schauen, unterscheiden sich die Fischarten nicht signifikant. Signifikanzniveau: 5 %\n",
    "\n",
    "**Hypothese**: Unsere Fischarten haben die gleichen Mittelwerte bei dem Merkmal Vertikale Länge."
   ]
  },
  {
   "cell_type": "code",
   "execution_count": null,
   "id": "aaae3717",
   "metadata": {},
   "outputs": [],
   "source": []
  },
  {
   "cell_type": "code",
   "execution_count": null,
   "id": "d0fdf967",
   "metadata": {},
   "outputs": [],
   "source": []
  },
  {
   "cell_type": "code",
   "execution_count": null,
   "id": "935a46e9",
   "metadata": {},
   "outputs": [],
   "source": [
    "\n"
   ]
  },
  {
   "cell_type": "code",
   "execution_count": null,
   "id": "b89cf72a",
   "metadata": {},
   "outputs": [],
   "source": [
    "            "
   ]
  },
  {
   "cell_type": "code",
   "execution_count": null,
   "id": "57fa9487",
   "metadata": {},
   "outputs": [],
   "source": []
  },
  {
   "cell_type": "markdown",
   "id": "f0d3712c",
   "metadata": {},
   "source": [
    "## Untersuchung mit Merkmal \"Height\""
   ]
  },
  {
   "cell_type": "code",
   "execution_count": null,
   "id": "3cf29068",
   "metadata": {},
   "outputs": [],
   "source": []
  },
  {
   "cell_type": "code",
   "execution_count": null,
   "id": "28823ca1",
   "metadata": {},
   "outputs": [],
   "source": []
  },
  {
   "cell_type": "code",
   "execution_count": null,
   "id": "89f70b21",
   "metadata": {},
   "outputs": [],
   "source": []
  },
  {
   "cell_type": "code",
   "execution_count": null,
   "id": "4b7c6d01",
   "metadata": {},
   "outputs": [],
   "source": []
  },
  {
   "cell_type": "code",
   "execution_count": null,
   "id": "b76d5409-6a17-4160-9af7-ac3153ab0a50",
   "metadata": {},
   "outputs": [],
   "source": []
  },
  {
   "cell_type": "markdown",
   "id": "4f1ccb6d-e057-47e7-8cab-c2637e20ec20",
   "metadata": {},
   "source": [
    "## Lineare Regression\n",
    "\n",
    "Versuche immer nur mit einer Fischart zu arbeiten. Ziel soll es sein, eine Lineare Regression für die Bestimmung (also y) von dem Gewicht zu machen. Dabei sollen die Merkmale Vertical, Height und Width verwendet werden.\n",
    "\n",
    "* Lineare Regression für jede Fischart für das Gewicht ermitteln.\n",
    "* Versuche auch die Regressionsgleichung zu notieren. \n",
    "* Falls ein Merkmal elimiert werden kann, schaue wie die Lösung aussieht. \n",
    "* Welcher Fisch kann mann zur Bestimmung anhand von dem Gewicht am Besten verwenden?\n"
   ]
  },
  {
   "cell_type": "code",
   "execution_count": null,
   "id": "ddffdb93-9eb0-4a54-acd0-4854033e04ee",
   "metadata": {},
   "outputs": [],
   "source": []
  }
 ],
 "metadata": {
  "kernelspec": {
   "display_name": "Python 3",
   "language": "python",
   "name": "python3"
  },
  "language_info": {
   "codemirror_mode": {
    "name": "ipython",
    "version": 3
   },
   "file_extension": ".py",
   "mimetype": "text/x-python",
   "name": "python",
   "nbconvert_exporter": "python",
   "pygments_lexer": "ipython3",
   "version": "3.8.8"
  }
 },
 "nbformat": 4,
 "nbformat_minor": 5
}
