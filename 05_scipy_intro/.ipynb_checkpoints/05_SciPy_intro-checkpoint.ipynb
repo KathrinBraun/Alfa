{
 "cells": [
  {
   "attachments": {
    "38ed04c2-c4db-467c-a05f-05a8a6986b3b.png": {
     "image/png": "[encoded data removed]"
    }
   },
   "cell_type": "markdown",
   "id": "855581b6",
   "metadata": {},
   "source": [
    "# SciPy\n",
    "\n",
    "![image.png](attachment:38ed04c2-c4db-467c-a05f-05a8a6986b3b.png)\n",
    "\n",
    "Diese Open-Source-Softwareumgebung steht hauptsächlich Wissenschaftlern, Analysten und Ingenieuren für wissenschaftliches Rechnen und Visualisierung. SciPy leitet sich von \"speziellen Funktionen\". Wir möchten hier das Submodul 'stats' etwas näher kennen lernen. \n",
    "\n",
    "Das Modul SciPy baut wieder mal auf das Modul Numpy auf.\n",
    "\n",
    "Als Daten Analyst sind jedoch auch weitere interessante Submodule, wie \"optimize\", \"signal\", und weitere, dort zu finden.\n"
   ]
  },
  {
   "cell_type": "code",
   "execution_count": 1,
   "id": "50d1f1c4",
   "metadata": {},
   "outputs": [],
   "source": [
    "from scipy import stats\n",
    "import matplotlib.pyplot as plt\n",
    "import seaborn as sns\n",
    "import numpy as np\n",
    "import pandas as pd\n"
   ]
  },
  {
   "cell_type": "code",
   "execution_count": 2,
   "id": "670ca0eb",
   "metadata": {},
   "outputs": [],
   "source": [
    "#help(stats)"
   ]
  },
  {
   "cell_type": "code",
   "execution_count": 3,
   "id": "2b0976ba",
   "metadata": {},
   "outputs": [],
   "source": [
    "rv = stats.norm()\n",
    "#dir(rv)"
   ]
  },
  {
   "cell_type": "markdown",
   "id": "2ab5df8a",
   "metadata": {},
   "source": [
    "In SciPy sind einige Methoden als public deklariert (also ohn __xx__) obwohl sie eigentlich private sind. Es taucht jedoch eine Warnmeldung auf. Konzentrieren wir uns daher auf die Standard Methoden:\n",
    "\n",
    "* rvs: Random Variate\n",
    "* pdf: Probability Density Function (Dichtefunktion)\n",
    "* cdf: Cumulative Distribution Function (Verteilungsfunktion)\n",
    "* sf: Survival Function (1-CDF)\n",
    "* ppf: Percent Point Function (inverse of cdf)\n",
    "* isf: Inverse Survival Function (inverse of sf)\n",
    "* stats: Return mean, variance, (Fisher's) skew, or (Fisher's) kurtosis\n",
    "* moment: non-central moments of the distribution"
   ]
  },
  {
   "cell_type": "code",
   "execution_count": 4,
   "id": "ba7301be",
   "metadata": {},
   "outputs": [
    {
     "data": {
      "text/plain": [
       "(array(3.), array(16.))"
      ]
     },
     "execution_count": 4,
     "metadata": {},
     "output_type": "execute_result"
    }
   ],
   "source": [
    "# normal distribution with mean as loc and standard deviation as scale and moments 'm'-ean and 'v'-variance\n",
    "stats.norm.stats(loc = 3, scale = 4, moments = \"mv\")"
   ]
  },
  {
   "cell_type": "code",
   "execution_count": 5,
   "id": "34ec779a",
   "metadata": {},
   "outputs": [],
   "source": [
    "# create t distributed values\n",
    "np.random.seed(280000)\n",
    "x = stats.t.rvs(10, size=1000)\n",
    "#x"
   ]
  },
  {
   "cell_type": "code",
   "execution_count": 6,
   "id": "2d4aed04",
   "metadata": {},
   "outputs": [
    {
     "name": "stdout",
     "output_type": "stream",
     "text": [
      "min:  -4.34871958538356 \n",
      "max:  4.285218085902715 \n",
      "mean:  -0.009565824849544125 \n",
      "var:  1.2670656279095946\n"
     ]
    }
   ],
   "source": [
    "print(\"min: \", x.min(), \"\\nmax: \",  x.max(), \"\\nmean: \", x.mean(), \"\\nvar: \", x.var())"
   ]
  },
  {
   "cell_type": "code",
   "execution_count": 48,
   "id": "67496cb4",
   "metadata": {},
   "outputs": [
    {
     "data": {
      "text/plain": [
       "<AxesSubplot:ylabel='Density'>"
      ]
     },
     "execution_count": 48,
     "metadata": {},
     "output_type": "execute_result"
    },
    {
     "data": {
      "image/png": "[encoded data removed]",
      "text/plain": [
       "<Figure size 360x360 with 1 Axes>"
      ]
     },
     "metadata": {
      "needs_background": "light"
     },
     "output_type": "display_data"
    }
   ],
   "source": [
    "fig, ax = plt.subplots(figsize= (5, 5))\n",
    "sns.kdeplot(x, fill = True, ax = ax); \n",
    "sns.ecdfplot(x, ax = ax)"
   ]
  },
  {
   "cell_type": "code",
   "execution_count": 46,
   "id": "536ef3f4",
   "metadata": {},
   "outputs": [
    {
     "data": {
      "image/png": "[encoded data removed]",
      "text/plain": [
       "<Figure size 432x288 with 1 Axes>"
      ]
     },
     "metadata": {
      "needs_background": "light"
     },
     "output_type": "display_data"
    }
   ],
   "source": [
    "sns.boxenplot(y = x, color=\"b\", scale=\"linear\");"
   ]
  },
  {
   "cell_type": "markdown",
   "id": "e3ddf381",
   "metadata": {},
   "source": [
    "## T-Test\n",
    "\n",
    "Der T-Test wird verwendet, um festzustellen, ob die Mittelwerte von unserer Stichprobe signifikant von der theoretischen Erwartung abweicht.\n",
    "\n",
    "Erinnern wir uns nochmal an den p-Wert, der das Signifikanzniveau festlegt. Hier ermitteln wir ebenso den p-Wert in Bezug auf die Lage des Mittelwertes. Ist das Signifikanzniveau z.B. 5 %, wird die Nullhypothese abgelehnt, sobald der p-Wert > 5 % ist."
   ]
  },
  {
   "cell_type": "code",
   "execution_count": 17,
   "id": "957381e1",
   "metadata": {},
   "outputs": [
    {
     "name": "stdout",
     "output_type": "stream",
     "text": [
      "t-statistic = -0.269 pvalue = 0.7883\n"
     ]
    }
   ],
   "source": [
    "m, v, s, k = stats.t.stats(10, moments='mvsk')\n",
    "print('t-statistic = %6.3f pvalue = %6.4f' %  stats.ttest_1samp(x, m))"
   ]
  },
  {
   "cell_type": "markdown",
   "id": "5a09bfb3",
   "metadata": {},
   "source": [
    "## Kolmogorov-Smirnov Test\n",
    "\n",
    "Mit diesem Test können wir die Hypothese überprüfen, ob die Daten von der zu testenden Verteilung kommt."
   ]
  },
  {
   "cell_type": "code",
   "execution_count": 18,
   "id": "f5e93a87",
   "metadata": {},
   "outputs": [
    {
     "name": "stdout",
     "output_type": "stream",
     "text": [
      "KS-statistic D =  0.015 pvalue = 0.9801\n"
     ]
    }
   ],
   "source": [
    "# Hypothesis: Data are t-distributed\n",
    "print('KS-statistic D = %6.3f pvalue = %6.4f' % stats.kstest(x, 't', (10,)))"
   ]
  },
  {
   "cell_type": "code",
   "execution_count": 19,
   "id": "04841c78",
   "metadata": {},
   "outputs": [
    {
     "name": "stdout",
     "output_type": "stream",
     "text": [
      "KS-statistic D =  1.000 pvalue = 0.0000\n"
     ]
    }
   ],
   "source": [
    "# Hypothesis: Data are normal-distributed\n",
    "print('KS-statistic D = %6.3f pvalue = %6.4f' % stats.kstest(x, 'norm', (10,)))"
   ]
  },
  {
   "cell_type": "markdown",
   "id": "77522339",
   "metadata": {},
   "source": [
    "### p-Wert\n",
    "\n",
    "Mit ppf (percent point function) können wir den kritischen Wert für p-Werte erhalten. Bei der rechten Seite muss 1 - p-Wert (siehe kumulierte Verteilungskurve oben) und bei der linken seite nur der p-Wert genommen werden."
   ]
  },
  {
   "cell_type": "code",
   "execution_count": 32,
   "id": "d84862b0",
   "metadata": {},
   "outputs": [
    {
     "name": "stdout",
     "output_type": "stream",
     "text": [
      "critical values from ppf right tail at \n",
      "1.0%:  -2.7638 \n",
      "2.5%:  -2.2281 \n",
      "5.0%:  -1.8125\n"
     ]
    }
   ],
   "source": [
    "# critical value at the right tail (p)\n",
    "crit01, crit025, crit05 = stats.t.ppf([0.01, 0.025, 0.05], 10)\n",
    "print('critical values from ppf right tail at \\n1.0%: ', round(crit01, 4), '\\n2.5%: ', round(crit025, 4), '\\n5.0%: ', round(crit05, 4))"
   ]
  },
  {
   "cell_type": "code",
   "execution_count": 33,
   "id": "367461b0",
   "metadata": {},
   "outputs": [
    {
     "name": "stdout",
     "output_type": "stream",
     "text": [
      "critical values from ppf left tail at \n",
      "1.0%:  2.7638 \n",
      "2.5%:  2.2281 \n",
      "5.0%:  1.8125\n"
     ]
    }
   ],
   "source": [
    "# critical value at the left tail (1-p)\n",
    "crit01, crit025, crit05 = stats.t.ppf([1-0.01, 1-0.025, 1-0.05], 10)\n",
    "print('critical values from ppf left tail at \\n1.0%: ', round(crit01, 4), '\\n2.5%: ', round(crit025, 4), '\\n5.0%: ', round(crit05, 4))"
   ]
  },
  {
   "cell_type": "markdown",
   "id": "2631d29f",
   "metadata": {},
   "source": [
    "## Vergleich von zwei Stichproben\n",
    "\n",
    "### Vergleich der Mittelwerte\n",
    "\n",
    "Hier wird wiederum der T-Test angewendet."
   ]
  },
  {
   "cell_type": "code",
   "execution_count": 74,
   "id": "1b7e2d6a",
   "metadata": {},
   "outputs": [
    {
     "data": {
      "text/plain": [
       "Ttest_indResult(statistic=-1.5692247682041123, pvalue=0.11682187113097504)"
      ]
     },
     "execution_count": 74,
     "metadata": {},
     "output_type": "execute_result"
    }
   ],
   "source": [
    "# two samples with identical mean produced by rvs (random variates)\n",
    "data_1 = stats.norm.rvs(loc = 3, scale = 2, size = 700)\n",
    "data_2 = stats.norm.rvs(loc = 3, scale = 2, size = 700)\n",
    "\n",
    "# testing by using the t-test ttest_ind()\n",
    "stats.ttest_ind(data_1, data_2)"
   ]
  },
  {
   "cell_type": "code",
   "execution_count": 77,
   "id": "fbb3470b",
   "metadata": {},
   "outputs": [
    {
     "data": {
      "text/plain": [
       "Ttest_indResult(statistic=-5.6700109535609275, pvalue=1.732319597380947e-08)"
      ]
     },
     "execution_count": 77,
     "metadata": {},
     "output_type": "execute_result"
    }
   ],
   "source": [
    "# third samles with different mean\n",
    "data_3 = stats.norm.rvs(loc = 3.5, scale = 2, size = 700)\n",
    "\n",
    "# testing by using the t-test ttest_ind()\n",
    "stats.ttest_ind(data_1, data_3)"
   ]
  },
  {
   "cell_type": "markdown",
   "id": "cb2e375b",
   "metadata": {},
   "source": [
    "### Test auf gleicher Verteilung\n",
    "\n",
    "Hier wenden wir den Kolmogorov-Smirnov Test an.\n",
    "\n",
    "Info aus dem Doc String:\n",
    "\n",
    "    If the KS statistic is small or the p-value is high, then we cannot\n",
    "    reject the hypothesis that the distributions of the two samples\n",
    "    are the same."
   ]
  },
  {
   "cell_type": "code",
   "execution_count": 79,
   "id": "e27ec1d1",
   "metadata": {},
   "outputs": [
    {
     "data": {
      "text/plain": [
       "KstestResult(statistic=0.05142857142857143, pvalue=0.31297853137502823)"
      ]
     },
     "execution_count": 79,
     "metadata": {},
     "output_type": "execute_result"
    }
   ],
   "source": [
    "stats.ks_2samp(data_1, data_2)"
   ]
  },
  {
   "cell_type": "code",
   "execution_count": 80,
   "id": "7f6276d6",
   "metadata": {},
   "outputs": [
    {
     "data": {
      "text/plain": [
       "KstestResult(statistic=0.12714285714285714, pvalue=2.381706596254427e-05)"
      ]
     },
     "execution_count": 80,
     "metadata": {},
     "output_type": "execute_result"
    }
   ],
   "source": [
    "stats.ks_2samp(data_1, data_3)"
   ]
  },
  {
   "cell_type": "code",
   "execution_count": null,
   "id": "6a81e243",
   "metadata": {},
   "outputs": [],
   "source": []
  }
 ],
 "metadata": {
  "kernelspec": {
   "display_name": "Python 3",
   "language": "python",
   "name": "python3"
  },
  "language_info": {
   "codemirror_mode": {
    "name": "ipython",
    "version": 3
   },
   "file_extension": ".py",
   "mimetype": "text/x-python",
   "name": "python",
   "nbconvert_exporter": "python",
   "pygments_lexer": "ipython3",
   "version": "3.8.5"
  }
 },
 "nbformat": 4,
 "nbformat_minor": 5
}
