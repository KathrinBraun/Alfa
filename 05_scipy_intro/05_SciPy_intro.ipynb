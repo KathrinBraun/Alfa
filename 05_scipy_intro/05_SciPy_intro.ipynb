{
 "cells": [
  {
   "attachments": {
    "38ed04c2-c4db-467c-a05f-05a8a6986b3b.png": {
     "image/png": "[encoded data removed]"
    }
   },
   "cell_type": "markdown",
   "id": "25a1e2cc",
   "metadata": {},
   "source": [
    "# SciPy\n",
    "\n",
    "![image.png](attachment:38ed04c2-c4db-467c-a05f-05a8a6986b3b.png)\n",
    "\n",
    "Diese Open-Source-Softwareumgebung steht hauptsächlich Wissenschaftlern, Analysten und Ingenieuren für wissenschaftliches Rechnen und Visualisierung. SciPy leitet sich von \"speziellen Funktionen\". Wir möchten hier das Submodul 'stats' etwas näher kennen lernen. \n",
    "\n",
    "Das Modul SciPy baut wieder mal auf das Modul Numpy auf.\n",
    "\n",
    "Als Daten Analyst sind jedoch auch weitere interessante Submodule, wie \"optimize\", \"signal\", und weitere, dort zu finden.\n"
   ]
  },
  {
   "cell_type": "code",
   "execution_count": 4,
   "id": "482c0ae2",
   "metadata": {},
   "outputs": [],
   "source": [
    "from scipy import stats\n",
    "import matplotlib.pyplot as plt\n",
    "import seaborn as sns\n",
    "import numpy as np\n",
    "import pandas as pd\n"
   ]
  },
  {
   "cell_type": "code",
   "execution_count": 7,
   "id": "b82f999a",
   "metadata": {},
   "outputs": [],
   "source": [
    "#help(stats)"
   ]
  },
  {
   "cell_type": "code",
   "execution_count": 8,
   "id": "d213255f",
   "metadata": {},
   "outputs": [],
   "source": [
    "# rv will be an normal distribution\n",
    "rv = stats.norm()\n",
    "#dir(rv)"
   ]
  },
  {
   "cell_type": "markdown",
   "id": "07c05a9c",
   "metadata": {},
   "source": [
    "In SciPy sind einige Methoden als public deklariert (also ohne $__xx__$) obwohl sie eigentlich private sind. Es taucht jedoch eine Warnmeldung auf. Konzentrieren wir uns daher auf die Standard Methoden:\n",
    "\n",
    "* rvs: Random Variate\n",
    "* pdf: Probability Density Function (Dichtefunktion)\n",
    "* cdf: Cumulative Distribution Function (Verteilungsfunktion)\n",
    "* sf: Survival Function (1-CDF)\n",
    "* ppf: Percent Point Function (inverse of cdf)\n",
    "* isf: Inverse Survival Function (inverse of sf)\n",
    "* stats: Return mean, variance, (Fisher's) skew, or (Fisher's) kurtosis\n",
    "* moment: non-central moments of the distribution"
   ]
  },
  {
   "cell_type": "code",
   "execution_count": 9,
   "id": "7164c2c5",
   "metadata": {},
   "outputs": [
    {
     "data": {
      "text/plain": [
       "(array(3.), array(16.))"
      ]
     },
     "execution_count": 9,
     "metadata": {},
     "output_type": "execute_result"
    }
   ],
   "source": [
    "# normal distribution with mean as loc and standard deviation as scale and moments 'm'-ean and 'v'-variance\n",
    "stats.norm.stats(loc = 3, scale = 4, moments = \"mv\")"
   ]
  },
  {
   "cell_type": "code",
   "execution_count": 10,
   "id": "051aab36",
   "metadata": {},
   "outputs": [],
   "source": [
    "# create t distributed values\n",
    "np.random.seed(280000)\n",
    "x = stats.t.rvs(10, size=1000)\n",
    "#x"
   ]
  },
  {
   "cell_type": "code",
   "execution_count": 11,
   "id": "dc360475",
   "metadata": {},
   "outputs": [
    {
     "name": "stdout",
     "output_type": "stream",
     "text": [
      "min:  -4.34871958538356 \n",
      "max:  4.285218085902715 \n",
      "mean:  -0.009565824849544125 \n",
      "var:  1.2670656279095946\n"
     ]
    }
   ],
   "source": [
    "print(\"min: \", x.min(), \"\\nmax: \",  x.max(), \"\\nmean: \", x.mean(), \"\\nvar: \", x.var())"
   ]
  },
  {
   "cell_type": "code",
   "execution_count": 12,
   "id": "f6ac1f89",
   "metadata": {},
   "outputs": [
    {
     "data": {
      "image/png": "[encoded data removed]",
      "text/plain": [
       "<Figure size 360x360 with 1 Axes>"
      ]
     },
     "metadata": {
      "needs_background": "light"
     },
     "output_type": "display_data"
    }
   ],
   "source": [
    "fig, ax = plt.subplots(figsize= (5, 5))\n",
    "sns.kdeplot(x, fill = True, ax = ax); \n",
    "sns.ecdfplot(x, ax = ax);"
   ]
  },
  {
   "cell_type": "code",
   "execution_count": 13,
   "id": "5a54d3c1",
   "metadata": {},
   "outputs": [
    {
     "data": {
      "image/png": "[encoded data removed]",
      "text/plain": [
       "<Figure size 432x288 with 1 Axes>"
      ]
     },
     "metadata": {
      "needs_background": "light"
     },
     "output_type": "display_data"
    }
   ],
   "source": [
    "sns.boxenplot(y = x, color=\"b\", scale=\"linear\");"
   ]
  },
  {
   "cell_type": "markdown",
   "id": "aaebb2c3",
   "metadata": {},
   "source": [
    "## T-Test\n",
    "\n",
    "Der T-Test wird verwendet, um festzustellen, ob die Mittelwerte von unserer Stichprobe signifikant von der theoretischen Erwartung abweicht.\n",
    "\n",
    "Erinnern wir uns nochmal an den p-Wert, der das Signifikanzniveau festlegt. Hier ermitteln wir ebenso den p-Wert in Bezug auf die Lage des Mittelwertes. Ist das Signifikanzniveau z.B. 5 %, wird die Nullhypothese abgelehnt, sobald der p-Wert < 5 % ist."
   ]
  },
  {
   "cell_type": "code",
   "execution_count": 35,
   "id": "7a2af2f7-47a0-4860-8a36-83ee5b44bab5",
   "metadata": {
    "collapsed": true,
    "jupyter": {
     "outputs_hidden": true,
     "source_hidden": true
    },
    "tags": []
   },
   "outputs": [
    {
     "name": "stdout",
     "output_type": "stream",
     "text": [
      "mean:  0.0 \n",
      "variance:  1.25 \n",
      "skew:  0.0 \n",
      "kurtosis: 1.0\n"
     ]
    }
   ],
   "source": [
    "# calculation the moments for 10 \n",
    "m, v, s, k = stats.t.stats(10, moments='mvsk')\n",
    "print('mean: ', m, '\\nvariance: ', v, '\\nskew: ', s, '\\nkurtosis:', k)"
   ]
  },
  {
   "cell_type": "code",
   "execution_count": 14,
   "id": "e65ee012",
   "metadata": {},
   "outputs": [
    {
     "name": "stdout",
     "output_type": "stream",
     "text": [
      "t-statistic = -0.269 pvalue = 0.7883\n"
     ]
    }
   ],
   "source": [
    "# we use the mean of cell above to run our t-test against the Mean of N(0,1)\n",
    "mean = 0\n",
    "print('t-statistic = %6.3f pvalue = %6.4f' %  stats.ttest_1samp(x, mean))"
   ]
  },
  {
   "cell_type": "markdown",
   "id": "43f9705a-4011-495c-9b49-509a3199aeda",
   "metadata": {},
   "source": [
    "Wir erhalten einen p-Wert = 0.7883 > 0.05 als das Signifikanzniveau ist. Daher wird die Nullhypothese nicht verworfen. Der Mittelwert liegt naher der Verteilung mit Mittelwert = 0, die wir in der Zelle zuvor kreiert haben. Wenn wir weiter oben schauen, haben wir festgestellt, dass unsere x-Werte einen Mittelwert = mean:  -0.009565824849544125 haben. Daher ist es nicht verwunderlich, dass wie im Bezug auf den Mittelwert ähnlich verteilte Daten haben.\n",
    "\n",
    "Testen wir doch nun unseren x Daten gegen den Mittelwert = 3:"
   ]
  },
  {
   "cell_type": "code",
   "execution_count": 15,
   "id": "b924bfa0-634b-4d31-b54a-9ad7830a7304",
   "metadata": {},
   "outputs": [
    {
     "name": "stdout",
     "output_type": "stream",
     "text": [
      "t-statistic = -84.506 pvalue = 0.0000\n"
     ]
    }
   ],
   "source": [
    "# mean = 3\n",
    "m = 3\n",
    "print('t-statistic = %6.3f pvalue = %6.4f' %  stats.ttest_1samp(x, m))"
   ]
  },
  {
   "cell_type": "markdown",
   "id": "437eef5d-5e25-4181-9b2a-d9fc3708833a",
   "metadata": {},
   "source": [
    "Nun erhalten wir einen p-Wert = 0.000 < 0.05 = Signifikanzniveau. Daher verwerfen wir die Nullhypothese. Die Mittelwerte sind nicht ähnlich."
   ]
  },
  {
   "cell_type": "markdown",
   "id": "920da9b7",
   "metadata": {
    "jupyter": {
     "source_hidden": true
    },
    "tags": []
   },
   "source": [
    "## Kolmogorov-Smirnov Test\n",
    "\n",
    "Mit diesem Test können wir die Hypothese überprüfen, ob die Daten von der zu testenden Verteilung kommt."
   ]
  },
  {
   "cell_type": "code",
   "execution_count": 18,
   "id": "5a676402",
   "metadata": {
    "collapsed": true,
    "jupyter": {
     "outputs_hidden": true,
     "source_hidden": true
    },
    "tags": []
   },
   "outputs": [
    {
     "name": "stdout",
     "output_type": "stream",
     "text": [
      "KS-statistic D =  0.015 pvalue = 0.9801\n"
     ]
    }
   ],
   "source": [
    "# Hypothesis: Data are t-distributed\n",
    "print('KS-statistic D = %6.3f pvalue = %6.4f' % stats.kstest(x, 't', (10,)))"
   ]
  },
  {
   "cell_type": "code",
   "execution_count": 19,
   "id": "a2d1b058",
   "metadata": {
    "collapsed": true,
    "jupyter": {
     "outputs_hidden": true,
     "source_hidden": true
    },
    "tags": []
   },
   "outputs": [
    {
     "name": "stdout",
     "output_type": "stream",
     "text": [
      "KS-statistic D =  1.000 pvalue = 0.0000\n"
     ]
    }
   ],
   "source": [
    "# Hypothesis: Data are normal-distributed\n",
    "print('KS-statistic D = %6.3f pvalue = %6.4f' % stats.kstest(x, 'norm', (10,)))"
   ]
  },
  {
   "cell_type": "markdown",
   "id": "4b2f00ac",
   "metadata": {},
   "source": [
    "### p-Wert\n",
    "\n",
    "Mit ppf (percent point function) können wir den kritischen Wert für p-Werte erhalten. Bei der rechten Seite muss 1 - p-Wert (siehe kumulierte Verteilungskurve oben) und bei der linken seite nur der p-Wert genommen werden."
   ]
  },
  {
   "cell_type": "code",
   "execution_count": 16,
   "id": "2a3f0e48",
   "metadata": {},
   "outputs": [
    {
     "name": "stdout",
     "output_type": "stream",
     "text": [
      "critical values from ppf right tail at \n",
      "1.0%:  -2.7638 \n",
      "2.5%:  -2.2281 \n",
      "5.0%:  -1.8125\n"
     ]
    }
   ],
   "source": [
    "# critical value at the right tail (p)\n",
    "crit01, crit025, crit05 = stats.t.ppf([0.01, 0.025, 0.05], 10)\n",
    "print('critical values from ppf right tail at \\n1.0%: ', round(crit01, 4), '\\n2.5%: ', round(crit025, 4), '\\n5.0%: ', round(crit05, 4))"
   ]
  },
  {
   "cell_type": "code",
   "execution_count": 17,
   "id": "1f7cf683",
   "metadata": {},
   "outputs": [
    {
     "name": "stdout",
     "output_type": "stream",
     "text": [
      "critical values from ppf left tail at \n",
      "1.0%:  2.7638 \n",
      "2.5%:  2.2281 \n",
      "5.0%:  1.8125\n"
     ]
    }
   ],
   "source": [
    "# critical value at the left tail (1-p)\n",
    "crit01, crit025, crit05 = stats.t.ppf([1-0.01, 1-0.025, 1-0.05], 10)\n",
    "print('critical values from ppf left tail at \\n1.0%: ', round(crit01, 4), '\\n2.5%: ', round(crit025, 4), '\\n5.0%: ', round(crit05, 4))"
   ]
  },
  {
   "cell_type": "markdown",
   "id": "6fc44f3f",
   "metadata": {},
   "source": [
    "## Vergleich von zwei Stichproben\n",
    "\n",
    "### Vergleich der Mittelwerte\n",
    "\n",
    "Hier wird wiederum der T-Test angewendet."
   ]
  },
  {
   "cell_type": "code",
   "execution_count": 18,
   "id": "4ac94150",
   "metadata": {},
   "outputs": [
    {
     "data": {
      "text/plain": [
       "Ttest_indResult(statistic=0.6982017376587116, pvalue=0.48516715583027026)"
      ]
     },
     "execution_count": 18,
     "metadata": {},
     "output_type": "execute_result"
    }
   ],
   "source": [
    "# two samples with identical mean produced by rvs (random variates)\n",
    "data_1 = stats.norm.rvs(loc = 3, scale = 2, size = 700)\n",
    "data_2 = stats.norm.rvs(loc = 3, scale = 2, size = 700)\n",
    "\n",
    "# testing by using the t-test ttest_ind()\n",
    "stats.ttest_ind(data_1, data_2)"
   ]
  },
  {
   "cell_type": "code",
   "execution_count": 19,
   "id": "350d3ac8",
   "metadata": {},
   "outputs": [
    {
     "data": {
      "text/plain": [
       "Ttest_indResult(statistic=-3.3358759264859743, pvalue=0.0008726138853803729)"
      ]
     },
     "execution_count": 19,
     "metadata": {},
     "output_type": "execute_result"
    }
   ],
   "source": [
    "# third samles with different mean\n",
    "data_3 = stats.norm.rvs(loc = 3.5, scale = 2, size = 700)\n",
    "\n",
    "# testing by using the t-test ttest_ind()\n",
    "stats.ttest_ind(data_1, data_3)"
   ]
  },
  {
   "cell_type": "markdown",
   "id": "30a93a0e",
   "metadata": {
    "jupyter": {
     "source_hidden": true
    },
    "tags": []
   },
   "source": [
    "### Test auf gleicher Verteilung\n",
    "\n",
    "Hier wenden wir den Kolmogorov-Smirnov Test an.\n",
    "\n",
    "Info aus dem Doc String:\n",
    "\n",
    "    If the KS statistic is small or the p-value is high, then we cannot\n",
    "    reject the hypothesis that the distributions of the two samples\n",
    "    are the same."
   ]
  },
  {
   "cell_type": "code",
   "execution_count": 79,
   "id": "b337b9eb",
   "metadata": {
    "collapsed": true,
    "jupyter": {
     "outputs_hidden": true,
     "source_hidden": true
    },
    "tags": []
   },
   "outputs": [
    {
     "data": {
      "text/plain": [
       "KstestResult(statistic=0.05142857142857143, pvalue=0.31297853137502823)"
      ]
     },
     "execution_count": 79,
     "metadata": {},
     "output_type": "execute_result"
    }
   ],
   "source": [
    "stats.ks_2samp(data_1, data_2)"
   ]
  },
  {
   "cell_type": "code",
   "execution_count": 80,
   "id": "34cd2ca3",
   "metadata": {
    "collapsed": true,
    "jupyter": {
     "outputs_hidden": true,
     "source_hidden": true
    },
    "tags": []
   },
   "outputs": [
    {
     "data": {
      "text/plain": [
       "KstestResult(statistic=0.12714285714285714, pvalue=2.381706596254427e-05)"
      ]
     },
     "execution_count": 80,
     "metadata": {},
     "output_type": "execute_result"
    }
   ],
   "source": [
    "stats.ks_2samp(data_1, data_3)"
   ]
  },
  {
   "cell_type": "code",
   "execution_count": null,
   "id": "47de2307",
   "metadata": {},
   "outputs": [],
   "source": []
  }
 ],
 "metadata": {
  "kernelspec": {
   "display_name": "Python 3",
   "language": "python",
   "name": "python3"
  },
  "language_info": {
   "codemirror_mode": {
    "name": "ipython",
    "version": 3
   },
   "file_extension": ".py",
   "mimetype": "text/x-python",
   "name": "python",
   "nbconvert_exporter": "python",
   "pygments_lexer": "ipython3",
   "version": "3.8.8"
  }
 },
 "nbformat": 4,
 "nbformat_minor": 5
}
