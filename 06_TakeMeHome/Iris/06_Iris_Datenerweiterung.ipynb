{
 "cells": [
  {
   "cell_type": "code",
   "execution_count": 12,
   "id": "9d53ab31-a192-4b4b-8e28-6c43702489e8",
   "metadata": {},
   "outputs": [],
   "source": [
    "import pandas as pd\n",
    "import numpy as np\n",
    "import matplotlib.pyplot as plt\n",
    "\n",
    "np.random.seed(43)"
   ]
  },
  {
   "cell_type": "code",
   "execution_count": 82,
   "id": "b30a0caa-0c80-441e-a251-954ff14aafe7",
   "metadata": {},
   "outputs": [
    {
     "data": {
      "text/html": [
       "<div>\n",
       "<style scoped>\n",
       "    .dataframe tbody tr th:only-of-type {\n",
       "        vertical-align: middle;\n",
       "    }\n",
       "\n",
       "    .dataframe tbody tr th {\n",
       "        vertical-align: top;\n",
       "    }\n",
       "\n",
       "    .dataframe thead th {\n",
       "        text-align: right;\n",
       "    }\n",
       "</style>\n",
       "<table border=\"1\" class=\"dataframe\">\n",
       "  <thead>\n",
       "    <tr style=\"text-align: right;\">\n",
       "      <th></th>\n",
       "      <th>Species</th>\n",
       "      <th>Iris-setosa</th>\n",
       "      <th>Iris-versicolor</th>\n",
       "      <th>Iris-virginica</th>\n",
       "    </tr>\n",
       "  </thead>\n",
       "  <tbody>\n",
       "    <tr>\n",
       "      <th rowspan=\"3\" valign=\"top\">Id</th>\n",
       "      <th>count</th>\n",
       "      <td>50.00000</td>\n",
       "      <td>50.00000</td>\n",
       "      <td>50.00000</td>\n",
       "    </tr>\n",
       "    <tr>\n",
       "      <th>mean</th>\n",
       "      <td>25.50000</td>\n",
       "      <td>75.50000</td>\n",
       "      <td>125.50000</td>\n",
       "    </tr>\n",
       "    <tr>\n",
       "      <th>std</th>\n",
       "      <td>14.57738</td>\n",
       "      <td>14.57738</td>\n",
       "      <td>14.57738</td>\n",
       "    </tr>\n",
       "  </tbody>\n",
       "</table>\n",
       "</div>"
      ],
      "text/plain": [
       "Species   Iris-setosa  Iris-versicolor  Iris-virginica\n",
       "Id count     50.00000         50.00000        50.00000\n",
       "   mean      25.50000         75.50000       125.50000\n",
       "   std       14.57738         14.57738        14.57738"
      ]
     },
     "execution_count": 82,
     "metadata": {},
     "output_type": "execute_result"
    }
   ],
   "source": [
    "df = pd.read_csv('Iris.csv')\n",
    "df.groupby('Species').describe().T.head(3)"
   ]
  },
  {
   "cell_type": "code",
   "execution_count": 61,
   "id": "956884c2-00e1-4c2b-bb2d-21eaa4e73bb4",
   "metadata": {},
   "outputs": [
    {
     "data": {
      "text/plain": [
       "-0.0781771231245191"
      ]
     },
     "execution_count": 61,
     "metadata": {},
     "output_type": "execute_result"
    }
   ],
   "source": [
    "np.random.randn()"
   ]
  },
  {
   "cell_type": "code",
   "execution_count": 25,
   "id": "ac3d49a3-6b26-43aa-82d5-abdc1256c7e6",
   "metadata": {},
   "outputs": [
    {
     "data": {
      "text/plain": [
       "Index(['Species', 'SepalLengthCm', 'SepalWidthCm', 'PetalLengthCm',\n",
       "       'PetalWidthCm'],\n",
       "      dtype='object')"
      ]
     },
     "execution_count": 25,
     "metadata": {},
     "output_type": "execute_result"
    }
   ],
   "source": [
    "df = df[[ 'Species', 'SepalLengthCm', 'SepalWidthCm', 'PetalLengthCm', 'PetalWidthCm']]\n",
    "df.columns"
   ]
  },
  {
   "cell_type": "code",
   "execution_count": 83,
   "id": "8f4a700b-a698-4405-b2bc-c4df5700aa9c",
   "metadata": {},
   "outputs": [],
   "source": [
    "df_temp = pd.DataFrame(index = [i for i in range(33333)], columns = [ 'Species', 'SepalLengthCm', 'SepalWidthCm', 'PetalLengthCm', 'PetalWidthCm'])\n",
    "start = 0\n",
    "end = int(len(df_temp) / 3)\n",
    "\n",
    "for j in ['Iris-setosa', 'Iris-versicolor', 'Iris-virginica']:\n",
    "    \n",
    "    for i in range(start, end):\n",
    "        df_temp.Species[i] = j\n",
    "        df_temp.SepalLengthCm[i] = df[df.Species == j]['SepalLengthCm'].mean() + df[df.Species == j]['SepalLengthCm'].std() * np.random.randn()\n",
    "        df_temp.SepalWidthCm[i] = df[df.Species == j]['SepalWidthCm'].mean() + df[df.Species == j]['SepalWidthCm'].std() * np.random.randn()\n",
    "        df_temp.PetalLengthCm[i] = df[df.Species == j]['PetalLengthCm'].mean() + df[df.Species == j]['PetalLengthCm'].std() * np.random.randn()\n",
    "        df_temp.PetalWidthCm[i] = df[df.Species == j]['PetalWidthCm'].mean() + df[df.Species == j]['PetalWidthCm'].std() * np.random.randn()\n",
    "        \n",
    "    start = end\n",
    "    end += int(len(df_temp) / 3)\n"
   ]
  },
  {
   "cell_type": "code",
   "execution_count": 84,
   "id": "00f79184-1df6-42eb-99d1-a62942196956",
   "metadata": {},
   "outputs": [
    {
     "name": "stdout",
     "output_type": "stream",
     "text": [
      "<class 'pandas.core.frame.DataFrame'>\n",
      "Int64Index: 33333 entries, 0 to 33332\n",
      "Data columns (total 5 columns):\n",
      " #   Column         Non-Null Count  Dtype  \n",
      "---  ------         --------------  -----  \n",
      " 0   Species        33333 non-null  object \n",
      " 1   SepalLengthCm  33333 non-null  float64\n",
      " 2   SepalWidthCm   33333 non-null  float64\n",
      " 3   PetalLengthCm  33333 non-null  float64\n",
      " 4   PetalWidthCm   33333 non-null  float64\n",
      "dtypes: float64(4), object(1)\n",
      "memory usage: 2.5+ MB\n"
     ]
    }
   ],
   "source": [
    "df_temp.SepalLengthCm = (df_temp.SepalLengthCm).astype(float)\n",
    "df_temp.SepalWidthCm = (df_temp.SepalWidthCm).astype(float)\n",
    "df_temp.PetalLengthCm = (df_temp.PetalLengthCm).astype(float)\n",
    "df_temp.PetalWidthCm = (df_temp.PetalWidthCm).astype(float)\n",
    "df_temp.info()"
   ]
  },
  {
   "cell_type": "code",
   "execution_count": 85,
   "id": "86626e96-2dba-431d-9aa4-3e090f2f8af6",
   "metadata": {},
   "outputs": [
    {
     "data": {
      "text/html": [
       "<div>\n",
       "<style scoped>\n",
       "    .dataframe tbody tr th:only-of-type {\n",
       "        vertical-align: middle;\n",
       "    }\n",
       "\n",
       "    .dataframe tbody tr th {\n",
       "        vertical-align: top;\n",
       "    }\n",
       "\n",
       "    .dataframe thead th {\n",
       "        text-align: right;\n",
       "    }\n",
       "</style>\n",
       "<table border=\"1\" class=\"dataframe\">\n",
       "  <thead>\n",
       "    <tr style=\"text-align: right;\">\n",
       "      <th></th>\n",
       "      <th>Species</th>\n",
       "      <th>Iris-setosa</th>\n",
       "      <th>Iris-versicolor</th>\n",
       "      <th>Iris-virginica</th>\n",
       "    </tr>\n",
       "  </thead>\n",
       "  <tbody>\n",
       "    <tr>\n",
       "      <th rowspan=\"8\" valign=\"top\">SepalLengthCm</th>\n",
       "      <th>count</th>\n",
       "      <td>11111.000000</td>\n",
       "      <td>11111.000000</td>\n",
       "      <td>11111.000000</td>\n",
       "    </tr>\n",
       "    <tr>\n",
       "      <th>mean</th>\n",
       "      <td>5.001395</td>\n",
       "      <td>5.944090</td>\n",
       "      <td>6.581403</td>\n",
       "    </tr>\n",
       "    <tr>\n",
       "      <th>std</th>\n",
       "      <td>0.356775</td>\n",
       "      <td>0.514038</td>\n",
       "      <td>0.631508</td>\n",
       "    </tr>\n",
       "    <tr>\n",
       "      <th>min</th>\n",
       "      <td>3.497633</td>\n",
       "      <td>4.055088</td>\n",
       "      <td>4.336154</td>\n",
       "    </tr>\n",
       "    <tr>\n",
       "      <th>25%</th>\n",
       "      <td>4.761512</td>\n",
       "      <td>5.595657</td>\n",
       "      <td>6.158491</td>\n",
       "    </tr>\n",
       "    <tr>\n",
       "      <th>50%</th>\n",
       "      <td>4.998648</td>\n",
       "      <td>5.948016</td>\n",
       "      <td>6.574289</td>\n",
       "    </tr>\n",
       "    <tr>\n",
       "      <th>75%</th>\n",
       "      <td>5.238295</td>\n",
       "      <td>6.288098</td>\n",
       "      <td>7.015345</td>\n",
       "    </tr>\n",
       "    <tr>\n",
       "      <th>max</th>\n",
       "      <td>6.435632</td>\n",
       "      <td>7.688034</td>\n",
       "      <td>9.178336</td>\n",
       "    </tr>\n",
       "    <tr>\n",
       "      <th rowspan=\"7\" valign=\"top\">SepalWidthCm</th>\n",
       "      <th>count</th>\n",
       "      <td>11111.000000</td>\n",
       "      <td>11111.000000</td>\n",
       "      <td>11111.000000</td>\n",
       "    </tr>\n",
       "    <tr>\n",
       "      <th>mean</th>\n",
       "      <td>3.413545</td>\n",
       "      <td>2.771071</td>\n",
       "      <td>2.969235</td>\n",
       "    </tr>\n",
       "    <tr>\n",
       "      <th>std</th>\n",
       "      <td>0.376268</td>\n",
       "      <td>0.316344</td>\n",
       "      <td>0.323396</td>\n",
       "    </tr>\n",
       "    <tr>\n",
       "      <th>min</th>\n",
       "      <td>1.918619</td>\n",
       "      <td>1.480765</td>\n",
       "      <td>1.839864</td>\n",
       "    </tr>\n",
       "    <tr>\n",
       "      <th>25%</th>\n",
       "      <td>3.158346</td>\n",
       "      <td>2.557948</td>\n",
       "      <td>2.749121</td>\n",
       "    </tr>\n",
       "    <tr>\n",
       "      <th>50%</th>\n",
       "      <td>3.419220</td>\n",
       "      <td>2.770082</td>\n",
       "      <td>2.967634</td>\n",
       "    </tr>\n",
       "    <tr>\n",
       "      <th>75%</th>\n",
       "      <td>3.669827</td>\n",
       "      <td>2.985535</td>\n",
       "      <td>3.188792</td>\n",
       "    </tr>\n",
       "  </tbody>\n",
       "</table>\n",
       "</div>"
      ],
      "text/plain": [
       "Species               Iris-setosa  Iris-versicolor  Iris-virginica\n",
       "SepalLengthCm count  11111.000000     11111.000000    11111.000000\n",
       "              mean       5.001395         5.944090        6.581403\n",
       "              std        0.356775         0.514038        0.631508\n",
       "              min        3.497633         4.055088        4.336154\n",
       "              25%        4.761512         5.595657        6.158491\n",
       "              50%        4.998648         5.948016        6.574289\n",
       "              75%        5.238295         6.288098        7.015345\n",
       "              max        6.435632         7.688034        9.178336\n",
       "SepalWidthCm  count  11111.000000     11111.000000    11111.000000\n",
       "              mean       3.413545         2.771071        2.969235\n",
       "              std        0.376268         0.316344        0.323396\n",
       "              min        1.918619         1.480765        1.839864\n",
       "              25%        3.158346         2.557948        2.749121\n",
       "              50%        3.419220         2.770082        2.967634\n",
       "              75%        3.669827         2.985535        3.188792"
      ]
     },
     "execution_count": 85,
     "metadata": {},
     "output_type": "execute_result"
    }
   ],
   "source": [
    "df_temp.groupby('Species').describe().T.head(15)"
   ]
  },
  {
   "cell_type": "code",
   "execution_count": 87,
   "id": "e5392998-9a89-42d0-a62c-a101c6ff9a2e",
   "metadata": {},
   "outputs": [
    {
     "data": {
      "image/png": "[encoded data removed]",
      "text/plain": [
       "<Figure size 432x288 with 1 Axes>"
      ]
     },
     "metadata": {
      "needs_background": "light"
     },
     "output_type": "display_data"
    }
   ],
   "source": [
    "seto_seplen = df[df.Species == 'Iris-setosa']['SepalLengthCm'].mean() + 5 * np.random.randn(10000)\n",
    "plt.hist(seto_seplen, 30);"
   ]
  },
  {
   "cell_type": "code",
   "execution_count": 89,
   "id": "b6a6c1ba-2469-43cc-b67c-15e92caaeeb1",
   "metadata": {},
   "outputs": [],
   "source": [
    "df_temp.to_csv('iris_big.csv')"
   ]
  },
  {
   "cell_type": "code",
   "execution_count": null,
   "id": "adfa3b56-9823-4a93-ac49-f6104f875b8c",
   "metadata": {},
   "outputs": [],
   "source": []
  }
 ],
 "metadata": {
  "kernelspec": {
   "display_name": "Python 3",
   "language": "python",
   "name": "python3"
  },
  "language_info": {
   "codemirror_mode": {
    "name": "ipython",
    "version": 3
   },
   "file_extension": ".py",
   "mimetype": "text/x-python",
   "name": "python",
   "nbconvert_exporter": "python",
   "pygments_lexer": "ipython3",
   "version": "3.8.8"
  }
 },
 "nbformat": 4,
 "nbformat_minor": 5
}
