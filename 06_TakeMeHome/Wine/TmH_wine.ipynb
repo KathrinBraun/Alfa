{
 "cells": [
  {
   "cell_type": "markdown",
   "id": "5c0a5c81-480d-463a-be3a-c432342e64ea",
   "metadata": {},
   "source": [
    "## Vinho Verde\n",
    "\n",
    "\n",
    "![title](logode.PNG)\n",
    "\n",
    "*Vorab Hinweis: Die Zuordnung der Weine erfolgte mittels Zufallszahl. Diese entspricht nicht der Realität. Jedoch sind sonstigen Daten Qualität der UCI Datenbank entnommen und die Weine (County) wurden der Internetseite von Vinho Verde entnommen.*\n",
    "\n",
    "Der Winzer Vinho Verde hat eine Qualitätskontrolle durchführen lassen. Die Kontrolleure haben eine Datei für den Rotwein und eine Datei für den Weißwein erstellt. Die Beschreibung der Daten können Sie der Textdatei winequality.names entnehmen.\n",
    "\n",
    "Zudem stellt er eine Liste bereit, über die Produktion der Weine von 1991 - 1998 für die jeweiligen Counties. Der Winzer hat uns mitgeteilt, dass die Weine den gleichen Namen haben, wie die Counties. In jedem County sind jeweils weiße und rote Trauben für die jeweiligen Weine angebaut worden. In der Liste sind die produzierten Liter pro County enthalten.\n",
    "\n",
    "Der Winzer möchte eine Übersicht erhalten, welche Weine (County) gut und weniger gut von den Experten eingestuft wurden.\n",
    "\n",
    "Mindestens folgende Fragen möchte er beantwortet haben:\n",
    "\n",
    "1. Wie viele Weine (rot/weiß) sind in den jeweiligen Qualitätsklassen?\n",
    "2. Welche Qualitätsklasse hat pro Q-Merkmal den größten bzw. den kleinsten Median. Sehen Sie dies als positiv oder negativ?\n",
    "3. Wieviel Liter (rot/weiß) sind im Jahre \"1998\" in den jeweiligen Qualtitätsklassen produziert worden?\n",
    "4. Welche Weine (Counties) beurteilen die Experten als gut bzw. schlecht ein?\n",
    "\n",
    "Zusatz:\n",
    "\n",
    "5. Bestimmen Sie die 3 besten und 3 schlechtesten Weine (Counties) anhand der Qualitätsklassen. Wie ist die Produktionsentwicklung seit 1991 bis inkl. 1998?\n",
    "6. Können Sie dem Winzer eine Empfehlung geben?\n",
    "\n",
    "<font color='purple'>**Kommentare und Präsentation sind wichtiger, als alle Aufgaben zu lösen!**</font>"
   ]
  },
  {
   "cell_type": "code",
   "execution_count": null,
   "id": "23cf96e5-78a8-4117-aecb-775312c90c53",
   "metadata": {},
   "outputs": [],
   "source": []
  }
 ],
 "metadata": {
  "kernelspec": {
   "display_name": "Python 3",
   "language": "python",
   "name": "python3"
  },
  "language_info": {
   "codemirror_mode": {
    "name": "ipython",
    "version": 3
   },
   "file_extension": ".py",
   "mimetype": "text/x-python",
   "name": "python",
   "nbconvert_exporter": "python",
   "pygments_lexer": "ipython3",
   "version": "3.8.8"
  }
 },
 "nbformat": 4,
 "nbformat_minor": 5
}
