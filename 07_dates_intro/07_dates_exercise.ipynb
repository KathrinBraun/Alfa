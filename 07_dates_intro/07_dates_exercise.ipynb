{
 "cells": [
  {
   "cell_type": "code",
   "execution_count": 50,
   "id": "00329735-11b3-4033-9b9a-6d507627f9c0",
   "metadata": {},
   "outputs": [],
   "source": [
    "# Import Packages"
   ]
  },
  {
   "cell_type": "code",
   "execution_count": 51,
   "id": "292239bc-dc48-48dd-9ef1-4392d9554f9a",
   "metadata": {},
   "outputs": [],
   "source": []
  },
  {
   "cell_type": "code",
   "execution_count": 166,
   "id": "d579e4c6-4be3-4632-86c5-f2752a68547e",
   "metadata": {},
   "outputs": [],
   "source": [
    "# load data\n"
   ]
  },
  {
   "cell_type": "markdown",
   "id": "cf7c830d-6200-4d4a-9f87-0fd9fff647f4",
   "metadata": {},
   "source": [
    "### Wieviel Daten sind in diesem Datensatz enthalten?"
   ]
  },
  {
   "cell_type": "code",
   "execution_count": null,
   "id": "35fd5d86-5c1f-448e-a223-d13283e0c776",
   "metadata": {},
   "outputs": [],
   "source": []
  },
  {
   "cell_type": "markdown",
   "id": "bce28ec0-f6cd-4d3a-9f44-8924d19a3168",
   "metadata": {},
   "source": [
    "### Plotte bitte die Zeitreihe."
   ]
  },
  {
   "cell_type": "code",
   "execution_count": null,
   "id": "4fb6034d-da2f-4f9c-9447-cf99bf2f6fbc",
   "metadata": {},
   "outputs": [],
   "source": []
  },
  {
   "cell_type": "markdown",
   "id": "a1d77feb-db17-4a65-a2b7-62dfd46dbf53",
   "metadata": {},
   "source": [
    "### Beschreibe den Plot. Sind Ungereimtheiten erkennbar?"
   ]
  },
  {
   "cell_type": "code",
   "execution_count": null,
   "id": "9a0f4a33-ef85-4c2c-845a-4701171e43f1",
   "metadata": {},
   "outputs": [],
   "source": []
  },
  {
   "cell_type": "markdown",
   "id": "292e40d4-0019-4246-98e8-93eba10f663a",
   "metadata": {},
   "source": [
    "### Bestätige Deine Eindrück per deskriptiver Statistik"
   ]
  },
  {
   "cell_type": "code",
   "execution_count": null,
   "id": "ad84afaa-6eac-4e12-8cd4-6865fdb21976",
   "metadata": {},
   "outputs": [],
   "source": []
  },
  {
   "cell_type": "markdown",
   "id": "5d4f7603-eb3d-47cc-b411-45e86a3390d7",
   "metadata": {},
   "source": [
    "### Versuche den Mittelwert, Min/Max, 25%, 50% und 75% sinnvoll in dem obigen Plot zu visualisieren."
   ]
  },
  {
   "cell_type": "code",
   "execution_count": null,
   "id": "8d40961c-e007-4cfd-ad40-e43440700b83",
   "metadata": {},
   "outputs": [],
   "source": []
  },
  {
   "cell_type": "code",
   "execution_count": null,
   "id": "ca324b2f-3e22-4faf-8ec7-2f945d59ec61",
   "metadata": {},
   "outputs": [],
   "source": []
  },
  {
   "cell_type": "code",
   "execution_count": null,
   "id": "b00941c8-9b55-41f3-b591-71233d9ee7fd",
   "metadata": {},
   "outputs": [],
   "source": []
  },
  {
   "cell_type": "code",
   "execution_count": null,
   "id": "0c0570b6-b613-4afb-846b-4aa3b7ca2f93",
   "metadata": {},
   "outputs": [],
   "source": []
  },
  {
   "cell_type": "code",
   "execution_count": null,
   "id": "54f4a615-bf06-4d19-a1f4-288bc1044790",
   "metadata": {},
   "outputs": [],
   "source": []
  },
  {
   "cell_type": "code",
   "execution_count": null,
   "id": "3f7f16df-ee6d-4a93-8aa1-64bafbaf0874",
   "metadata": {},
   "outputs": [],
   "source": []
  },
  {
   "cell_type": "code",
   "execution_count": null,
   "id": "e0a850c5-a2e6-4b32-9967-73ba11f9e70d",
   "metadata": {},
   "outputs": [],
   "source": []
  },
  {
   "cell_type": "markdown",
   "id": "a18d9f40-80bb-4a13-8324-b3c9959d576e",
   "metadata": {},
   "source": [
    "### Nehme den Abschnitt im Jahre 2016. Hier sind ja einige Lücken zu sehen. Versuch diese vorwärts und rückwärts zu füllen"
   ]
  },
  {
   "cell_type": "code",
   "execution_count": 73,
   "id": "eb0ee4c9-c8b6-4b60-b6c9-58bc9d18f729",
   "metadata": {},
   "outputs": [],
   "source": []
  },
  {
   "cell_type": "code",
   "execution_count": null,
   "id": "3b5d6664-4a07-49b9-95c9-565f5d23d4c9",
   "metadata": {},
   "outputs": [],
   "source": []
  },
  {
   "cell_type": "code",
   "execution_count": null,
   "id": "ed5c85ce-9471-4728-a64d-3ba061b8cbc4",
   "metadata": {},
   "outputs": [],
   "source": []
  },
  {
   "cell_type": "code",
   "execution_count": null,
   "id": "0b002fdd-cc92-44f8-87b6-ea22a9b3b8b2",
   "metadata": {},
   "outputs": [],
   "source": []
  },
  {
   "cell_type": "code",
   "execution_count": null,
   "id": "6dfac296-4ff6-4dd6-b2a3-d5c2676becae",
   "metadata": {},
   "outputs": [],
   "source": []
  },
  {
   "cell_type": "markdown",
   "id": "ec0a3068-a1cf-4f10-9979-b3f8fe8d734c",
   "metadata": {},
   "source": [
    "### Nach einmaliger Durchführung sind noch nicht alle Lücken geschlossen. Findet Ihr ein Weg alle zu schließen?\n",
    "Hinweis: ist advanced... Daher evtl. überspringen\n",
    "\n",
    "...oder doch nicht so schwer? :-)\n",
    "\n",
    "Vielleicht hilfts: https://towardsdatascience.com/pandas-resample-tricks-you-should-know-for-manipulating-time-series-data-7e9643a7e7f3\n"
   ]
  },
  {
   "cell_type": "code",
   "execution_count": null,
   "id": "04af5375-6856-42fa-8ff5-8f3d0159a700",
   "metadata": {},
   "outputs": [],
   "source": []
  },
  {
   "cell_type": "code",
   "execution_count": null,
   "id": "bcdd0dc9-09c3-428c-a74c-188a61230929",
   "metadata": {},
   "outputs": [],
   "source": []
  },
  {
   "cell_type": "code",
   "execution_count": null,
   "id": "37188e50-af22-44e3-9e85-09400e8ae347",
   "metadata": {},
   "outputs": [],
   "source": []
  },
  {
   "cell_type": "code",
   "execution_count": null,
   "id": "3a5386d7-4490-4836-baf0-8cec8bd8dd85",
   "metadata": {},
   "outputs": [],
   "source": []
  },
  {
   "cell_type": "markdown",
   "id": "87fe3dcb-206c-4474-a6f6-b8914f4a5880",
   "metadata": {},
   "source": [
    "### Führe ein wöchentliches und ein monatliches Resampling mit den Daten 2017 durch. Versuche alles in einem Plot zu visualisieren."
   ]
  },
  {
   "cell_type": "code",
   "execution_count": null,
   "id": "6ad44ad1-611c-4672-a2ba-8ba67a3c965b",
   "metadata": {},
   "outputs": [],
   "source": []
  },
  {
   "cell_type": "code",
   "execution_count": null,
   "id": "2782b73f-f2ff-4210-acd3-87e623043999",
   "metadata": {},
   "outputs": [],
   "source": []
  },
  {
   "cell_type": "code",
   "execution_count": null,
   "id": "ef6c990f-66d9-4483-8d18-07f8467d99f2",
   "metadata": {},
   "outputs": [],
   "source": []
  },
  {
   "cell_type": "code",
   "execution_count": null,
   "id": "77fc5a1d-b1a6-4084-b5b1-a4089e853cde",
   "metadata": {},
   "outputs": [],
   "source": []
  },
  {
   "cell_type": "code",
   "execution_count": null,
   "id": "487677f9-a6f8-4577-8350-54d86b35162c",
   "metadata": {},
   "outputs": [],
   "source": []
  },
  {
   "cell_type": "markdown",
   "id": "44ab7bd9-8863-4b07-86f3-211bbd16c057",
   "metadata": {},
   "source": [
    "### Versuche die Daten zu glätten."
   ]
  },
  {
   "cell_type": "markdown",
   "id": "35773d22-df6f-41ad-b396-3e72c46aad27",
   "metadata": {},
   "source": [
    "Hinweis: Klappt es gleich? Dann ist alles ok. Falls nicht, versuche zu testen, welchen Datentyp Deine Daten haben und welcher Datentyp bei der Intro des Themas verwendet wurde."
   ]
  },
  {
   "cell_type": "code",
   "execution_count": null,
   "id": "58517b03-a5f7-41e1-b81c-d1ea5b2b6ce2",
   "metadata": {},
   "outputs": [],
   "source": []
  },
  {
   "cell_type": "code",
   "execution_count": null,
   "id": "47190b0d-0d8e-4b1d-aef5-f194e43cc79f",
   "metadata": {},
   "outputs": [],
   "source": []
  },
  {
   "cell_type": "code",
   "execution_count": null,
   "id": "e8f2ea71-c7db-4520-9416-5d3678913253",
   "metadata": {},
   "outputs": [],
   "source": []
  },
  {
   "cell_type": "code",
   "execution_count": null,
   "id": "05ff2ae5-56bc-4cf1-a667-dc6fc3d79eeb",
   "metadata": {},
   "outputs": [],
   "source": []
  },
  {
   "cell_type": "raw",
   "id": "c3cd10d0-12f4-40e9-ba00-24010418c3bd",
   "metadata": {},
   "source": []
  },
  {
   "cell_type": "code",
   "execution_count": null,
   "id": "3830c7dc-3a9e-4686-be29-a5ce12f397b9",
   "metadata": {},
   "outputs": [],
   "source": []
  },
  {
   "cell_type": "code",
   "execution_count": null,
   "id": "7db2c89a-50c1-4625-bb86-bc0b6e84ced6",
   "metadata": {},
   "outputs": [],
   "source": []
  },
  {
   "cell_type": "code",
   "execution_count": null,
   "id": "1b15eca3-0867-4862-8e2b-307139f393e1",
   "metadata": {},
   "outputs": [],
   "source": []
  },
  {
   "cell_type": "code",
   "execution_count": null,
   "id": "5e0b3e17-16b4-49d8-9086-f007ff781219",
   "metadata": {},
   "outputs": [],
   "source": []
  },
  {
   "cell_type": "markdown",
   "id": "4df406f4-7e1a-4c52-948d-214f802b0a6e",
   "metadata": {},
   "source": [
    "### Lade Dir nun eigene Daten von FRED Economic Data herunter und probieren ebenfalls diese zu plotten, zu glätten und zu resampeln\n",
    "\n",
    "https://fred.stlouisfed.org/categories"
   ]
  },
  {
   "cell_type": "code",
   "execution_count": null,
   "id": "4577c6ab-4a76-4fa8-9ab0-dd7e569fbf64",
   "metadata": {},
   "outputs": [],
   "source": []
  },
  {
   "cell_type": "code",
   "execution_count": null,
   "id": "7d5a59a5-ba16-4340-a305-b31b63f42d29",
   "metadata": {},
   "outputs": [],
   "source": []
  },
  {
   "cell_type": "code",
   "execution_count": null,
   "id": "8d948c8c-4657-44c1-9afb-8cfbcedd6024",
   "metadata": {},
   "outputs": [],
   "source": []
  },
  {
   "cell_type": "code",
   "execution_count": null,
   "id": "fc7e195b-2245-45a7-be2f-5062066ab44d",
   "metadata": {},
   "outputs": [],
   "source": []
  }
 ],
 "metadata": {
  "kernelspec": {
   "display_name": "Python 3",
   "language": "python",
   "name": "python3"
  },
  "language_info": {
   "codemirror_mode": {
    "name": "ipython",
    "version": 3
   },
   "file_extension": ".py",
   "mimetype": "text/x-python",
   "name": "python",
   "nbconvert_exporter": "python",
   "pygments_lexer": "ipython3",
   "version": "3.8.8"
  }
 },
 "nbformat": 4,
 "nbformat_minor": 5
}
