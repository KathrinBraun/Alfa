{
 "cells": [
  {
   "cell_type": "code",
   "execution_count": 1,
   "id": "8393b96e",
   "metadata": {},
   "outputs": [
    {
     "ename": "ModuleNotFoundError",
     "evalue": "No module named 'chime'",
     "output_type": "error",
     "traceback": [
      "\u001b[1;31m---------------------------------------------------------------------------\u001b[0m",
      "\u001b[1;31mModuleNotFoundError\u001b[0m                       Traceback (most recent call last)",
      "\u001b[1;32m<ipython-input-1-d5e27a1f3a84>\u001b[0m in \u001b[0;36m<module>\u001b[1;34m\u001b[0m\n\u001b[1;32m----> 1\u001b[1;33m \u001b[1;32mimport\u001b[0m \u001b[0mchime\u001b[0m\u001b[1;33m\u001b[0m\u001b[1;33m\u001b[0m\u001b[0m\n\u001b[0m",
      "\u001b[1;31mModuleNotFoundError\u001b[0m: No module named 'chime'"
     ]
    }
   ],
   "source": [
    "import chime"
   ]
  },
  {
   "cell_type": "code",
   "execution_count": 2,
   "id": "bec78de3",
   "metadata": {},
   "outputs": [
    {
     "name": "stdout",
     "output_type": "stream",
     "text": [
      "Collecting chime\n",
      "  Downloading chime-0.6.0-py3-none-any.whl (2.3 MB)\n",
      "Installing collected packages: chime\n",
      "Successfully installed chime-0.6.0\n",
      "Note: you may need to restart the kernel to use updated packages.\n"
     ]
    }
   ],
   "source": [
    "pip install chime\n"
   ]
  },
  {
   "cell_type": "code",
   "execution_count": 3,
   "id": "d67071cb",
   "metadata": {},
   "outputs": [
    {
     "ename": "NameError",
     "evalue": "name 'chime' is not defined",
     "output_type": "error",
     "traceback": [
      "\u001b[0;31m---------------------------------------------------------------------------\u001b[0m",
      "\u001b[0;31mNameError\u001b[0m                                 Traceback (most recent call last)",
      "\u001b[0;32m<ipython-input-3-bc8bfd8b9ed0>\u001b[0m in \u001b[0;36m<module>\u001b[0;34m\u001b[0m\n\u001b[0;32m----> 1\u001b[0;31m \u001b[0mhelp\u001b[0m\u001b[0;34m(\u001b[0m\u001b[0mchime\u001b[0m\u001b[0;34m)\u001b[0m\u001b[0;34m\u001b[0m\u001b[0;34m\u001b[0m\u001b[0m\n\u001b[0m",
      "\u001b[0;31mNameError\u001b[0m: name 'chime' is not defined"
     ]
    }
   ],
   "source": [
    "help(chime)"
   ]
  },
  {
   "cell_type": "code",
   "execution_count": 4,
   "id": "12b082a8",
   "metadata": {},
   "outputs": [
    {
     "name": "stdout",
     "output_type": "stream",
     "text": [
      "# conda environments:\n",
      "#\n",
      "base                  *  /opt/miniconda3\n",
      "r_env                    /opt/miniconda3/envs/r_env\n",
      "\n"
     ]
    }
   ],
   "source": [
    "!conda env list"
   ]
  },
  {
   "cell_type": "code",
   "execution_count": 5,
   "id": "a9dc2deb",
   "metadata": {},
   "outputs": [
    {
     "name": "stdout",
     "output_type": "stream",
     "text": [
      "Traceback (most recent call last):\n",
      "  File \"/opt/miniconda3/bin/pip\", line 7, in <module>\n",
      "    from pip._internal.cli.main import main\n",
      "  File \"/opt/miniconda3/lib/python3.8/site-packages/pip/_internal/cli/main.py\", line 8, in <module>\n",
      "    from pip._internal.cli.autocompletion import autocomplete\n",
      "  File \"/opt/miniconda3/lib/python3.8/site-packages/pip/_internal/cli/autocompletion.py\", line 9, in <module>\n",
      "    from pip._internal.cli.main_parser import create_main_parser\n",
      "  File \"/opt/miniconda3/lib/python3.8/site-packages/pip/_internal/cli/main_parser.py\", line 7, in <module>\n",
      "    from pip._internal.cli import cmdoptions\n",
      "  File \"/opt/miniconda3/lib/python3.8/site-packages/pip/_internal/cli/cmdoptions.py\", line 22, in <module>\n",
      "    from pip._internal.cli.progress_bars import BAR_TYPES\n",
      "  File \"/opt/miniconda3/lib/python3.8/site-packages/pip/_internal/cli/progress_bars.py\", line 9, in <module>\n",
      "    from pip._internal.utils.logging import get_indentation\n",
      "  File \"/opt/miniconda3/lib/python3.8/site-packages/pip/_internal/utils/logging.py\", line 14, in <module>\n",
      "    from pip._internal.utils.misc import ensure_dir\n",
      "  File \"/opt/miniconda3/lib/python3.8/site-packages/pip/_internal/utils/misc.py\", line 29, in <module>\n",
      "    from pip._internal.locations import get_major_minor_version, site_packages, user_site\n",
      "  File \"/opt/miniconda3/lib/python3.8/site-packages/pip/_internal/locations/__init__.py\", line 9, in <module>\n",
      "    from . import _distutils, _sysconfig\n",
      "  File \"/opt/miniconda3/lib/python3.8/site-packages/pip/_internal/locations/_sysconfig.py\", line 8, in <module>\n",
      "    from pip._internal.exceptions import InvalidSchemeCombination, UserInstallationInvalid\n",
      "ImportError: cannot import name 'InvalidSchemeCombination' from 'pip._internal.exceptions' (/opt/miniconda3/lib/python3.8/site-packages/pip/_internal/exceptions.py)\n"
     ]
    }
   ],
   "source": [
    "!pip list"
   ]
  },
  {
   "cell_type": "code",
   "execution_count": 6,
   "id": "27d88d28",
   "metadata": {},
   "outputs": [],
   "source": [
    "import numpy as np\n",
    "import pandas as pd"
   ]
  },
  {
   "cell_type": "code",
   "execution_count": 7,
   "id": "9fd04ae5",
   "metadata": {},
   "outputs": [
    {
     "name": "stdout",
     "output_type": "stream",
     "text": [
      "Traceback (most recent call last):\n",
      "  File \"/opt/miniconda3/bin/pip\", line 7, in <module>\n",
      "    from pip._internal.cli.main import main\n",
      "  File \"/opt/miniconda3/lib/python3.8/site-packages/pip/_internal/cli/main.py\", line 8, in <module>\n",
      "    from pip._internal.cli.autocompletion import autocomplete\n",
      "  File \"/opt/miniconda3/lib/python3.8/site-packages/pip/_internal/cli/autocompletion.py\", line 9, in <module>\n",
      "    from pip._internal.cli.main_parser import create_main_parser\n",
      "  File \"/opt/miniconda3/lib/python3.8/site-packages/pip/_internal/cli/main_parser.py\", line 7, in <module>\n",
      "    from pip._internal.cli import cmdoptions\n",
      "  File \"/opt/miniconda3/lib/python3.8/site-packages/pip/_internal/cli/cmdoptions.py\", line 22, in <module>\n",
      "    from pip._internal.cli.progress_bars import BAR_TYPES\n",
      "  File \"/opt/miniconda3/lib/python3.8/site-packages/pip/_internal/cli/progress_bars.py\", line 9, in <module>\n",
      "    from pip._internal.utils.logging import get_indentation\n",
      "  File \"/opt/miniconda3/lib/python3.8/site-packages/pip/_internal/utils/logging.py\", line 14, in <module>\n",
      "    from pip._internal.utils.misc import ensure_dir\n",
      "  File \"/opt/miniconda3/lib/python3.8/site-packages/pip/_internal/utils/misc.py\", line 29, in <module>\n",
      "    from pip._internal.locations import get_major_minor_version, site_packages, user_site\n",
      "  File \"/opt/miniconda3/lib/python3.8/site-packages/pip/_internal/locations/__init__.py\", line 9, in <module>\n",
      "    from . import _distutils, _sysconfig\n",
      "  File \"/opt/miniconda3/lib/python3.8/site-packages/pip/_internal/locations/_sysconfig.py\", line 8, in <module>\n",
      "    from pip._internal.exceptions import InvalidSchemeCombination, UserInstallationInvalid\n",
      "ImportError: cannot import name 'InvalidSchemeCombination' from 'pip._internal.exceptions' (/opt/miniconda3/lib/python3.8/site-packages/pip/_internal/exceptions.py)\n"
     ]
    }
   ],
   "source": [
    "!pip list"
   ]
  },
  {
   "cell_type": "code",
   "execution_count": 9,
   "id": "2c306fb2",
   "metadata": {},
   "outputs": [
    {
     "name": "stdout",
     "output_type": "stream",
     "text": [
      "pandas==1.2.1\n",
      "numpy==1.20.1\n"
     ]
    }
   ],
   "source": [
    "import pkg_resources\n",
    "import types\n",
    "def get_imports():\n",
    "    for name, val in globals().items():\n",
    "        if isinstance(val, types.ModuleType):\n",
    "            # Split ensures you get root package, \n",
    "            # not just imported function\n",
    "            name = val.__name__.split(\".\")[0]\n",
    "\n",
    "        elif isinstance(val, type):\n",
    "            name = val.__module__.split(\".\")[0]\n",
    "\n",
    "        # Some packages are weird and have different\n",
    "        # imported names vs. system/pip names. Unfortunately,\n",
    "        # there is no systematic way to get pip names from\n",
    "        # a package's imported name. You'll have to add\n",
    "        # exceptions to this list manually!\n",
    "        poorly_named_packages = {\n",
    "            \"PIL\": \"Pillow\",\n",
    "            \"sklearn\": \"scikit-learn\"\n",
    "        }\n",
    "        if name in poorly_named_packages.keys():\n",
    "            name = poorly_named_packages[name]\n",
    "\n",
    "        yield name\n",
    "imports = list(set(get_imports()))\n",
    "\n",
    "# The only way I found to get the version of the root package\n",
    "# from only the name of the package is to cross-check the names \n",
    "# of installed packages vs. imported packages\n",
    "requirements = []\n",
    "for m in pkg_resources.working_set:\n",
    "    if m.project_name in imports and m.project_name!=\"pip\":\n",
    "        requirements.append((m.project_name, m.version))\n",
    "\n",
    "for r in requirements:\n",
    "    print(\"{}=={}\".format(*r))"
   ]
  },
  {
   "cell_type": "code",
   "execution_count": 10,
   "id": "66fbe1be",
   "metadata": {},
   "outputs": [
    {
     "name": "stdout",
     "output_type": "stream",
     "text": [
      "\n",
      "Please wait a moment while I gather a list of all available modules...\n",
      "\n"
     ]
    },
    {
     "name": "stderr",
     "output_type": "stream",
     "text": [
      "/opt/miniconda3/lib/python3.8/site-packages/IPython/kernel/__init__.py:12: ShimWarning: The `IPython.kernel` package has been deprecated since IPython 4.0.You should import from ipykernel or jupyter_client instead.\n",
      "  warn(\"The `IPython.kernel` package has been deprecated since IPython 4.0.\"\n",
      "/opt/miniconda3/lib/python3.8/pkgutil.py:92: MatplotlibDeprecationWarning: \n",
      "The matplotlib.compat module was deprecated in Matplotlib 3.3 and will be removed two minor releases later.\n",
      "  __import__(info.name)\n"
     ]
    },
    {
     "name": "stdout",
     "output_type": "stream",
     "text": [
      "IPython             asyncore            joblib              sched\n",
      "OpenSSL             atexit              json                scipy\n",
      "PIL                 attr                json5               seaborn\n",
      "PyQt5               audioop             jsonschema          secrets\n",
      "__future__          autograd            jupyter             select\n",
      "_abc                autoreload          jupyter_client      selectors\n",
      "_ast                babel               jupyter_console     send2trash\n",
      "_asyncio            backcall            jupyter_core        setuptools\n",
      "_bisect             base64              jupyter_server      shelve\n",
      "_blake2             bdb                 jupyterlab          shlex\n",
      "_bootlocale         binascii            jupyterlab_pygments shutil\n",
      "_bz2                binhex              jupyterlab_server   signal\n",
      "_cffi_backend       bisect              jupyterlab_widgets  sip\n",
      "_codecs             bleach              keyword             sipconfig\n",
      "_codecs_cn          brotli              kiwisolver          sipdistutils\n",
      "_codecs_hk          builtins            lib2to3             site\n",
      "_codecs_iso2022     bz2                 libfuturize         six\n",
      "_codecs_jp          cProfile            libpasteurize       sklearn\n",
      "_codecs_kr          calendar            lifetimes           smopy\n",
      "_codecs_tw          certifi             linecache           smtpd\n",
      "_collections        cffi                locale              smtplib\n",
      "_collections_abc    cgi                 logging             sndhdr\n",
      "_compat_pickle      cgitb               lzma                sniffio\n",
      "_compression        chardet             mailbox             socket\n",
      "_contextvars        chunk               mailcap             socketserver\n",
      "_crypt              click               markupsafe          socks\n",
      "_csv                cmath               marshal             sockshandler\n",
      "_ctypes             cmd                 math                spwd\n",
      "_ctypes_test        code                matplotlib          sqlite3\n",
      "_curses             codecs              mimetypes           sre_compile\n",
      "_curses_panel       codeop              mistune             sre_constants\n",
      "_datetime           collections         mmap                sre_parse\n",
      "_decimal            colorsys            modulefinder        ssl\n",
      "_distutils_hack     compileall          multiprocessing     stat\n",
      "_dummy_thread       concurrent          nbclassic           statistics\n",
      "_elementtree        conda               nbclient            statsmodels\n",
      "_functools          conda_env           nbconvert           storemagic\n",
      "_hashlib            conda_package_handling nbformat            string\n",
      "_heapq              configparser        nest_asyncio        stringprep\n",
      "_imp                contextlib          netrc               struct\n",
      "_io                 contextvars         nis                 subprocess\n",
      "_json               copy                nntplib             sunau\n",
      "_locale             copyreg             notebook            symbol\n",
      "_lsprof             crypt               ntpath              sympyprinting\n",
      "_lzma               cryptography        nturl2path          symtable\n",
      "_markupbase         csv                 numbers             sys\n",
      "_md5                ctypes              numpy               sysconfig\n",
      "_multibytecodec     curses              opcode              syslog\n",
      "_multiprocessing    cycler              operator            tabnanny\n",
      "_opcode             cythonmagic         optparse            tarfile\n",
      "_operator           dataclasses         os                  telnetlib\n",
      "_osx_support        datetime            ossaudiodev         tempfile\n",
      "_pickle             dateutil            packaging           terminado\n",
      "_plotly_future_     dbm                 pandas              termios\n",
      "_plotly_geo         decimal             pandocfilters       test\n",
      "_plotly_utils       decorator           parser              test_data\n",
      "_posixshmem         defusedxml          parso               test_pycosat\n",
      "_posixsubprocess    difflib             past                testpath\n",
      "_py_abc             dill                pathlib             tests\n",
      "_pydecimal          dis                 patsy               textwrap\n",
      "_pyio               distutils           pdb                 this\n",
      "_pyrsistent_version doctest             pexpect             threading\n",
      "_queue              dummy_threading     pickle              threadpoolctl\n",
      "_random             email               pickleshare         time\n",
      "_sha1               encodings           pickletools         timeit\n",
      "_sha256             ensurepip           pip                 tkinter\n",
      "_sha3               entrypoints         pipes               tlz\n",
      "_sha512             enum                pkg_resources       token\n",
      "_signal             errno               pkgutil             tokenize\n",
      "_sitebuiltins       faulthandler        platform            toolz\n",
      "_socket             fcntl               plistlib            tornado\n",
      "_sqlite3            filecmp             plotly              tqdm\n",
      "_sre                fileinput           plotlywidget        trace\n",
      "_ssl                flask               poplib              traceback\n",
      "_stat               fnmatch             posix               tracemalloc\n",
      "_statistics         formatter           posixpath           traitlets\n",
      "_string             fractions           pprint              tty\n",
      "_strptime           ftplib              profile             turtle\n",
      "_struct             functools           prometheus_client   turtledemo\n",
      "_symtable           future              prompt_toolkit      types\n",
      "_sysconfigdata__linux_x86_64-linux-gnu gc                  pstats              typing\n",
      "_sysconfigdata_aarch64_conda_cos7_linux_gnu genericpath         pty                 unicodedata\n",
      "_sysconfigdata_i686_conda_cos6_linux_gnu getopt              ptyprocess          unittest\n",
      "_sysconfigdata_powerpc64le_conda_cos7_linux_gnu getpass             pvectorc            urllib\n",
      "_sysconfigdata_x86_64_apple_darwin13_4_0 gettext             pwd                 urllib3\n",
      "_sysconfigdata_x86_64_conda_cos6_linux_gnu glob                py_compile          uu\n",
      "_testbuffer         grp                 pyclbr              uuid\n",
      "_testcapi           gunicorn            pycosat             vega_datasets\n",
      "_testimportmultiple gzip                pycparser           venv\n",
      "_testinternalcapi   hashlib             pydoc               waitress\n",
      "_testmultiphase     heapq               pydoc_data          warnings\n",
      "_thread             hmac                pyexpat             wave\n",
      "_threading_local    html                pygments            wcwidth\n",
      "_tkinter            http                pylab               weakref\n",
      "_tracemalloc        idlelib             pyparsing           webbrowser\n",
      "_warnings           idna                pyrsistent          webencodings\n",
      "_weakref            imaplib             pytz                werkzeug\n",
      "_weakrefset         imghdr              qtconsole           wheel\n",
      "_xxsubinterpreters  imp                 qtpy                widgetsnbextension\n",
      "_xxtestfuzz         importlib           queue               wsgiref\n",
      "abc                 importlib_metadata  quopri              xdrlib\n",
      "aifc                inspect             random              xgboost\n",
      "altair              io                  re                  xml\n",
      "antigravity         ipaddress           readline            xmlrpc\n",
      "anyio               ipykernel           reprlib             xxlimited\n",
      "argon2              ipykernel_launcher  requests            xxsubtype\n",
      "argparse            ipython_genutils    resource            zipapp\n",
      "array               ipywidgets          retrying            zipfile\n",
      "ast                 itertools           rlcompleter         zipimport\n",
      "async_generator     itsdangerous        rmagic              zipp\n",
      "asynchat            jedi                ruamel_yaml         zlib\n",
      "asyncio             jinja2              runpy               zmq\n",
      "\n",
      "Enter any module name to get more help.  Or, type \"modules spam\" to search\n",
      "for modules whose name or summary contain the string \"spam\".\n",
      "\n"
     ]
    },
    {
     "name": "stderr",
     "output_type": "stream",
     "text": [
      "/opt/miniconda3/lib/python3.8/pkgutil.py:107: VisibleDeprecationWarning:\n",
      "\n",
      "zmq.eventloop.minitornado is deprecated in pyzmq 14.0 and will be removed.\n",
      "    Install tornado itself to use zmq with the tornado IOLoop.\n",
      "    \n",
      "\n"
     ]
    }
   ],
   "source": [
    "help('modules')"
   ]
  },
  {
   "cell_type": "code",
   "execution_count": null,
   "id": "0903caf1",
   "metadata": {},
   "outputs": [],
   "source": []
  }
 ],
 "metadata": {
  "kernelspec": {
   "display_name": "Python 3",
   "language": "python",
   "name": "python3"
  },
  "language_info": {
   "codemirror_mode": {
    "name": "ipython",
    "version": 3
   },
   "file_extension": ".py",
   "mimetype": "text/x-python",
   "name": "python",
   "nbconvert_exporter": "python",
   "pygments_lexer": "ipython3",
   "version": "3.8.8"
  }
 },
 "nbformat": 4,
 "nbformat_minor": 5
}
